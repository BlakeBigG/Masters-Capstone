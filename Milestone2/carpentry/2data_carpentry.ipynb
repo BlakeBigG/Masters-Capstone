{
 "cells": [
  {
   "cell_type": "markdown",
   "metadata": {},
   "source": [
    "# Data Carpentry - Run in DMIR container or install sklearn"
   ]
  },
  {
   "cell_type": "markdown",
   "metadata": {},
   "source": [
    "This notebook pulls the datasets from the database, combines them, drops sparse columns, countries, and years, and imputes the rest of the data using KNN. The output is completeDF.csv."
   ]
  },
  {
   "cell_type": "markdown",
   "metadata": {},
   "source": [
    "---"
   ]
  },
  {
   "cell_type": "markdown",
   "metadata": {
    "id": "PX4S4Ystj-qj"
   },
   "source": [
    "## **Import Libraries**"
   ]
  },
  {
   "cell_type": "code",
   "execution_count": 1,
   "metadata": {
    "id": "Y8cNtLFoj9O-"
   },
   "outputs": [],
   "source": [
    "import numpy as np\n",
    "import pandas as pd\n",
    "from itertools import chain\n",
    "import getpass\n",
    "from sqlalchemy.engine.url import URL\n",
    "from sqlalchemy import create_engine\n",
    "import matplotlib.pyplot as plt\n",
    "from sklearn.impute import KNNImputer"
   ]
  },
  {
   "cell_type": "markdown",
   "metadata": {},
   "source": [
    "## **Connect to DB**"
   ]
  },
  {
   "cell_type": "code",
   "execution_count": 2,
   "metadata": {},
   "outputs": [
    {
     "name": "stdout",
     "output_type": "stream",
     "text": [
      "Enter Username: bmgwd9\n"
     ]
    }
   ],
   "source": [
    "username = input('Enter Username: ')"
   ]
  },
  {
   "cell_type": "code",
   "execution_count": 3,
   "metadata": {},
   "outputs": [
    {
     "name": "stdout",
     "output_type": "stream",
     "text": [
      "········\n"
     ]
    }
   ],
   "source": [
    "#Connecting with SQLAlchemy\n",
    "mypasswd = getpass.getpass()\n",
    "#username = 'jyymn'\n",
    "host = 'pgsql.dsa.lan'\n",
    "database = 'caponl_22g3'\n",
    "\n",
    "#SQLAlchemy Connection Parameters\n",
    "postgres_db = {'drivername': 'postgres',\n",
    "               'username': username,\n",
    "               'password': mypasswd,\n",
    "               'host': host,\n",
    "               'database' :database}\n",
    "\n",
    "engine = create_engine(URL(**postgres_db), echo=False)"
   ]
  },
  {
   "cell_type": "code",
   "execution_count": 4,
   "metadata": {},
   "outputs": [
    {
     "data": {
      "text/plain": [
       "'Connected: bmgwd9@caponl_22g3'"
      ]
     },
     "execution_count": 4,
     "metadata": {},
     "output_type": "execute_result"
    }
   ],
   "source": [
    "##Connecting with SQL Magic\n",
    "connection_string = f\"postgres://{username}:{mypasswd}@{host}/{database}\"\n",
    "%load_ext sql\n",
    "%sql $connection_string "
   ]
  },
  {
   "cell_type": "code",
   "execution_count": 5,
   "metadata": {},
   "outputs": [],
   "source": [
    "del mypasswd"
   ]
  },
  {
   "cell_type": "markdown",
   "metadata": {},
   "source": [
    "---"
   ]
  },
  {
   "cell_type": "markdown",
   "metadata": {},
   "source": [
    "## Useful functions"
   ]
  },
  {
   "cell_type": "markdown",
   "metadata": {
    "id": "QZmx6ZKxtB2K"
   },
   "source": [
    "### ***Function to remove \"non-countries\"***"
   ]
  },
  {
   "cell_type": "code",
   "execution_count": 6,
   "metadata": {},
   "outputs": [],
   "source": [
    "def territory_removal(df):\n",
    "    with engine.connect() as connection:\n",
    "        #Reduce to 212 countries\n",
    "        countrycodesDF = pd.read_csv(\"../../M1/initial_data/CountryCodesFinal.csv\")\n",
    "        \n",
    "    onlycountriesDF = pd.merge(df, countrycodesDF, left_on=\"CountryCode\", right_on=\"alpha3_code\")\n",
    "    \n",
    "    return onlycountriesDF"
   ]
  },
  {
   "cell_type": "markdown",
   "metadata": {},
   "source": [
    "### ***Function to load and clean DFs***"
   ]
  },
  {
   "cell_type": "code",
   "execution_count": 7,
   "metadata": {},
   "outputs": [],
   "source": [
    "def df_load_and_clean(db_name):\n",
    "    with engine.connect() as connection:\n",
    "        df = pd.read_sql(\"SELECT * FROM \" + db_name, connection)\n",
    "        \n",
    "    #Rename columsn to remove spaces\n",
    "    cleanDF = df.rename(columns={\"Country Name\":\"CountryName\", \"Country Code\":\"CountryCode\", \"variable\":\"Year\"})\n",
    "    \n",
    "    #Drop the \"index\" column\n",
    "    cleanDF = cleanDF.drop(\"index\", axis=1)\n",
    "    \n",
    "    #Reduce to 212 countries\n",
    "    cleanDF = territory_removal(cleanDF)\n",
    "    \n",
    "    return cleanDF"
   ]
  },
  {
   "cell_type": "markdown",
   "metadata": {},
   "source": [
    "### ***Function to calculate null value statistics***"
   ]
  },
  {
   "cell_type": "code",
   "execution_count": 8,
   "metadata": {},
   "outputs": [],
   "source": [
    "def nullstats(df):\n",
    "    totalvalues = df.shape[0] * df.shape[1]\n",
    "    totalnulls = df.isnull().sum().sum()\n",
    "    propnull = totalnulls/totalvalues\n",
    "    \n",
    "    print(\"Total nulls: {:,}\".format(totalnulls))\n",
    "    print(\"Total cells: {:,}\".format(totalvalues))\n",
    "    print(round(propnull*100,2), \"% of DF is null\")"
   ]
  },
  {
   "cell_type": "markdown",
   "metadata": {},
   "source": [
    "### ***Function to calculate number of null values in a column***"
   ]
  },
  {
   "cell_type": "code",
   "execution_count": 9,
   "metadata": {},
   "outputs": [],
   "source": [
    "def nullcalculator(indicator):\n",
    "    nulls = completeDF[indicator].isnull().sum()\n",
    "    \n",
    "    return nulls"
   ]
  },
  {
   "cell_type": "markdown",
   "metadata": {},
   "source": [
    "---"
   ]
  },
  {
   "cell_type": "markdown",
   "metadata": {
    "id": "OF5F4ouFXZ0A"
   },
   "source": [
    "## **Merging DFs/Adding POPCAGR**"
   ]
  },
  {
   "cell_type": "markdown",
   "metadata": {
    "id": "v8AIoeVCaM__"
   },
   "source": [
    "### ***Load all DFs***"
   ]
  },
  {
   "cell_type": "code",
   "execution_count": 10,
   "metadata": {
    "id": "WoCQ0dRNXWMV"
   },
   "outputs": [],
   "source": [
    "wdiDF = df_load_and_clean(\"WB_wdi\")\n",
    "popDF = df_load_and_clean(\"WB_pop\")\n",
    "hnpDF = df_load_and_clean(\"WB_hnp\")\n",
    "genderDF = df_load_and_clean(\"WB_gender\")"
   ]
  },
  {
   "cell_type": "markdown",
   "metadata": {
    "id": "wCzLn4fefnh5"
   },
   "source": [
    "### ***Merge all***"
   ]
  },
  {
   "cell_type": "code",
   "execution_count": 11,
   "metadata": {
    "id": "n7H9bBf_fmqB"
   },
   "outputs": [],
   "source": [
    "completeDF = pd.merge(popDF, hnpDF, on=[\"CountryCode\", \"Year\"])\n",
    "completeDF = pd.merge(completeDF, genderDF, on=[\"CountryCode\", \"Year\"])\n",
    "completeDF = pd.merge(completeDF, wdiDF, on=[\"CountryCode\", \"Year\"])"
   ]
  },
  {
   "cell_type": "code",
   "execution_count": 12,
   "metadata": {
    "colab": {
     "base_uri": "https://localhost:8080/"
    },
    "executionInfo": {
     "elapsed": 11,
     "status": "ok",
     "timestamp": 1642986564448,
     "user": {
      "displayName": "Jon Yarber",
      "photoUrl": "https://lh3.googleusercontent.com/a-/AOh14Gi2WlsUSoLGLH5fmNmMvRqaD9T8Ve40iyLsfS-qBA=s64",
      "userId": "10749767671415324850"
     },
     "user_tz": 300
    },
    "id": "DZaHrpazgDba",
    "outputId": "e327200a-4257-4dce-ace1-639388945980"
   },
   "outputs": [
    {
     "data": {
      "text/plain": [
       "(12931, 2143)"
      ]
     },
     "execution_count": 12,
     "metadata": {},
     "output_type": "execute_result"
    }
   ],
   "source": [
    "completeDF.shape"
   ]
  },
  {
   "cell_type": "code",
   "execution_count": 13,
   "metadata": {},
   "outputs": [
    {
     "data": {
      "text/plain": [
       "27711133"
      ]
     },
     "execution_count": 13,
     "metadata": {},
     "output_type": "execute_result"
    }
   ],
   "source": [
    "#27.7MM cells\n",
    "completeDF.shape[0] * completeDF.shape[1]"
   ]
  },
  {
   "cell_type": "code",
   "execution_count": 14,
   "metadata": {},
   "outputs": [
    {
     "data": {
      "text/plain": [
       "212"
      ]
     },
     "execution_count": 14,
     "metadata": {},
     "output_type": "execute_result"
    }
   ],
   "source": [
    "#212 countries\n",
    "len(completeDF.CountryCode.unique())"
   ]
  },
  {
   "cell_type": "code",
   "execution_count": 15,
   "metadata": {},
   "outputs": [
    {
     "data": {
      "text/plain": [
       "1960"
      ]
     },
     "execution_count": 15,
     "metadata": {},
     "output_type": "execute_result"
    }
   ],
   "source": [
    "#Min year\n",
    "completeDF.Year.min()"
   ]
  },
  {
   "cell_type": "code",
   "execution_count": 16,
   "metadata": {},
   "outputs": [
    {
     "data": {
      "text/plain": [
       "2020"
      ]
     },
     "execution_count": 16,
     "metadata": {},
     "output_type": "execute_result"
    }
   ],
   "source": [
    "#Max year\n",
    "completeDF.Year.max()"
   ]
  },
  {
   "cell_type": "code",
   "execution_count": 17,
   "metadata": {},
   "outputs": [
    {
     "name": "stdout",
     "output_type": "stream",
     "text": [
      "Total nulls: 19,163,559\n",
      "Total cells: 27,711,133\n",
      "69.15 % of DF is null\n"
     ]
    }
   ],
   "source": [
    "nullstats(completeDF) #69.15%"
   ]
  },
  {
   "cell_type": "markdown",
   "metadata": {
    "id": "XV8dwZlv1qEb"
   },
   "source": [
    "### ***Remove features duplicated in merge***"
   ]
  },
  {
   "cell_type": "code",
   "execution_count": 18,
   "metadata": {
    "id": "ehLeH1xI1twg"
   },
   "outputs": [
    {
     "name": "stdout",
     "output_type": "stream",
     "text": [
      "12 duplicated columns\n"
     ]
    },
    {
     "data": {
      "text/plain": [
       "(12931, 2125)"
      ]
     },
     "execution_count": 18,
     "metadata": {},
     "output_type": "execute_result"
    }
   ],
   "source": [
    "dupcolumns = []\n",
    "for feature in completeDF.columns:\n",
    "  if \"_y\" in feature:\n",
    "    dupcolumns.append(feature)\n",
    "\n",
    "print(len(dupcolumns), \"duplicated columns\")\n",
    "\n",
    "#Drop\n",
    "completeDF = completeDF.drop(dupcolumns, axis=1).reset_index(drop=True)\n",
    "\n",
    "#Drop remaining duplicates - 6\n",
    "completeDF = completeDF.loc[:, ~completeDF.columns.duplicated()]\n",
    "\n",
    "#Rename duplicated columns (drop \"_x\")\n",
    "completeDF.columns = [i.replace(\"_x\", \"\") for i in completeDF.columns]\n",
    "\n",
    "completeDF.shape"
   ]
  },
  {
   "cell_type": "markdown",
   "metadata": {},
   "source": [
    "### *Add 'immigration' to DF*"
   ]
  },
  {
   "cell_type": "code",
   "execution_count": 19,
   "metadata": {},
   "outputs": [],
   "source": [
    "total_births = round(completeDF['SPDYNCBRTIN'] * completeDF['SPPOPTOTL'] / 1000)\n",
    "total_deaths = round(completeDF['SPDYNCDRTIN'] * completeDF['SPPOPTOTL'] / 1000)\n",
    "net_pop = round(total_births - total_deaths)\n",
    "yoy_totl_grow = completeDF.SPPOPTOTL.diff()\n",
    "\n",
    "completeDF[\"IMMIGRATION\"] = yoy_totl_grow - net_pop"
   ]
  },
  {
   "cell_type": "code",
   "execution_count": 20,
   "metadata": {
    "scrolled": true
   },
   "outputs": [
    {
     "name": "stdout",
     "output_type": "stream",
     "text": [
      "Total nulls: 19,164,529\n",
      "Total cells: 27,491,306\n",
      "69.71 % of DF is null\n"
     ]
    }
   ],
   "source": [
    "nullstats(completeDF) #69.71%"
   ]
  },
  {
   "cell_type": "markdown",
   "metadata": {},
   "source": [
    "---"
   ]
  },
  {
   "cell_type": "markdown",
   "metadata": {},
   "source": [
    "# Variable Reduction"
   ]
  },
  {
   "cell_type": "markdown",
   "metadata": {},
   "source": [
    "## Null values by Year"
   ]
  },
  {
   "cell_type": "code",
   "execution_count": 21,
   "metadata": {},
   "outputs": [
    {
     "data": {
      "text/plain": [
       "<Figure size 7200x7200 with 0 Axes>"
      ]
     },
     "execution_count": 21,
     "metadata": {},
     "output_type": "execute_result"
    },
    {
     "data": {
      "image/png": "[encoded data removed]",
      "text/plain": [
       "<Figure size 432x288 with 1 Axes>"
      ]
     },
     "metadata": {
      "needs_background": "light"
     },
     "output_type": "display_data"
    },
    {
     "data": {
      "text/plain": [
       "<Figure size 7200x7200 with 0 Axes>"
      ]
     },
     "metadata": {},
     "output_type": "display_data"
    }
   ],
   "source": [
    "#Examine\n",
    "nabyyearDF = completeDF.groupby(\"Year\").sum() < 1\n",
    "plt.plot(nabyyearDF.sum(axis=1))\n",
    "plt.title(label=\"Total Null Values by Year\", fontdict={'size': 20})\n",
    "plt.figure(figsize=(100,100))"
   ]
  },
  {
   "cell_type": "markdown",
   "metadata": {},
   "source": [
    "### ***For the final completeDF, the start year is 1990 and cutoff is 2019***\n",
    "\n",
    "All the null stats indicated going forward are for a 1990 cutoff"
   ]
  },
  {
   "cell_type": "code",
   "execution_count": 22,
   "metadata": {},
   "outputs": [
    {
     "name": "stdout",
     "output_type": "stream",
     "text": [
      "DF min year:  1990\n",
      "DF max year:  2019\n"
     ]
    }
   ],
   "source": [
    "start_year = 1990\n",
    "cutoff_year = 2019\n",
    "\n",
    "\n",
    "completeDF = completeDF[completeDF[\"Year\"] >= start_year]\n",
    "print(\"DF min year: \", completeDF.Year.min())\n",
    "\n",
    "completeDF = completeDF[completeDF[\"Year\"] <= cutoff_year]\n",
    "print(\"DF max year: \", completeDF.Year.max())"
   ]
  },
  {
   "cell_type": "code",
   "execution_count": 23,
   "metadata": {},
   "outputs": [
    {
     "name": "stdout",
     "output_type": "stream",
     "text": [
      "Total nulls: 7,892,171\n",
      "Total cells: 13,521,360\n",
      "58.37 % of DF is null\n"
     ]
    }
   ],
   "source": [
    "#Null value stats\n",
    "nullstats(completeDF) #58.37% for 1990"
   ]
  },
  {
   "cell_type": "markdown",
   "metadata": {},
   "source": [
    "## Null values by country"
   ]
  },
  {
   "cell_type": "code",
   "execution_count": 24,
   "metadata": {},
   "outputs": [
    {
     "data": {
      "text/plain": [
       "212"
      ]
     },
     "execution_count": 24,
     "metadata": {},
     "output_type": "execute_result"
    }
   ],
   "source": [
    "#Countries before operation\n",
    "len(completeDF.CountryName.unique())"
   ]
  },
  {
   "cell_type": "code",
   "execution_count": 25,
   "metadata": {},
   "outputs": [],
   "source": [
    "#Create a list of countries, calculate the number of null values for each and what % is missing\n",
    "countries = []\n",
    "totalcells = []\n",
    "nas = []\n",
    "\n",
    "for country in completeDF.CountryName.unique():\n",
    "    countryDF = completeDF[completeDF[\"CountryName\"] == country]\n",
    "    countries.append(country)\n",
    "    totalcells.append(countryDF.shape[0] * countryDF.shape[1])\n",
    "    nas.append(countryDF.isna().sum().sum())\n",
    "    \n",
    "nabycountryDF = pd.DataFrame({\"CountryName\":countries, \"NAs\": nas, \"TotalCells\":totalcells})\n",
    "\n",
    "nabycountryDF[\"%Missing\"] = nabycountryDF[\"NAs\"] * 100 / nabycountryDF[\"TotalCells\"]\n",
    "\n",
    "nabycountryDF = nabycountryDF.sort_values(by=\"%Missing\").reset_index(drop=True)"
   ]
  },
  {
   "cell_type": "code",
   "execution_count": 26,
   "metadata": {
    "scrolled": true
   },
   "outputs": [],
   "source": [
    "#Group countries by how much data they are missing. Compute how much population is retained if said countries were \n",
    "#cut. Order by amount of missing data, highest to lowest\n",
    "perc_missing = []\n",
    "population = []\n",
    "pop_retained = []\n",
    "countries_cut = []\n",
    "for i in np.arange(96,0,-.25):\n",
    "    perc_missing.append(i)\n",
    "    countriestofilter = nabycountryDF[nabycountryDF[\"%Missing\"] > i][\"CountryName\"].values\n",
    "    subpop = completeDF[(completeDF[\"CountryName\"].isin(countriestofilter)) & (completeDF['Year'] == 2019)]['SPPOPTOTL'].sum()\n",
    "    population.append(subpop)\n",
    "    totalpop = completeDF[completeDF[\"Year\"] == 2019]['SPPOPTOTL'].sum()\n",
    "    pop_retained.append(round(1 - (subpop/totalpop), 3))\n",
    "    countries_cut.append(len(countriestofilter))\n",
    "    #print(i, \"% or more data missing : \", round(1 - (subpop/ totalpop),3), \"% population retained.\", len(countriestofilter), \"countries cut\")\n",
    "\n",
    "countriestocutDF = pd.DataFrame({\"%Missing\":perc_missing, \"PopRetained\":pop_retained, \"CountriesCut\":countries_cut})"
   ]
  },
  {
   "cell_type": "code",
   "execution_count": 27,
   "metadata": {},
   "outputs": [
    {
     "data": {
      "text/plain": [
       "<AxesSubplot:>"
      ]
     },
     "execution_count": 27,
     "metadata": {},
     "output_type": "execute_result"
    },
    {
     "data": {
      "image/png": "[encoded data removed]",
      "text/plain": [
       "<Figure size 432x288 with 1 Axes>"
      ]
     },
     "metadata": {
      "needs_background": "light"
     },
     "output_type": "display_data"
    }
   ],
   "source": [
    "# Plot all\n",
    "countriestocutDF['PopRetained'].plot() #Zoom for original: [30:36]"
   ]
  },
  {
   "cell_type": "code",
   "execution_count": 28,
   "metadata": {},
   "outputs": [
    {
     "data": {
      "text/plain": [
       "<AxesSubplot:>"
      ]
     },
     "execution_count": 28,
     "metadata": {},
     "output_type": "execute_result"
    },
    {
     "data": {
      "image/png": "[encoded data removed]",
      "text/plain": [
       "<Figure size 432x288 with 1 Axes>"
      ]
     },
     "metadata": {
      "needs_background": "light"
     },
     "output_type": "display_data"
    }
   ],
   "source": [
    "#Zoom\n",
    "countriestocutDF['PopRetained'].iloc[150:200].plot()"
   ]
  },
  {
   "cell_type": "code",
   "execution_count": 29,
   "metadata": {},
   "outputs": [
    {
     "data": {
      "text/html": [
       "<div>\n",
       "<style scoped>\n",
       "    .dataframe tbody tr th:only-of-type {\n",
       "        vertical-align: middle;\n",
       "    }\n",
       "\n",
       "    .dataframe tbody tr th {\n",
       "        vertical-align: top;\n",
       "    }\n",
       "\n",
       "    .dataframe thead th {\n",
       "        text-align: right;\n",
       "    }\n",
       "</style>\n",
       "<table border=\"1\" class=\"dataframe\">\n",
       "  <thead>\n",
       "    <tr style=\"text-align: right;\">\n",
       "      <th></th>\n",
       "      <th>%Missing</th>\n",
       "      <th>PopRetained</th>\n",
       "      <th>CountriesCut</th>\n",
       "    </tr>\n",
       "  </thead>\n",
       "  <tbody>\n",
       "    <tr>\n",
       "      <th>165</th>\n",
       "      <td>54.75</td>\n",
       "      <td>0.900</td>\n",
       "      <td>95</td>\n",
       "    </tr>\n",
       "    <tr>\n",
       "      <th>166</th>\n",
       "      <td>54.50</td>\n",
       "      <td>0.896</td>\n",
       "      <td>97</td>\n",
       "    </tr>\n",
       "    <tr>\n",
       "      <th>167</th>\n",
       "      <td>54.25</td>\n",
       "      <td>0.894</td>\n",
       "      <td>99</td>\n",
       "    </tr>\n",
       "    <tr>\n",
       "      <th>168</th>\n",
       "      <td>54.00</td>\n",
       "      <td>0.891</td>\n",
       "      <td>101</td>\n",
       "    </tr>\n",
       "    <tr>\n",
       "      <th>169</th>\n",
       "      <td>53.75</td>\n",
       "      <td>0.890</td>\n",
       "      <td>103</td>\n",
       "    </tr>\n",
       "    <tr>\n",
       "      <th>170</th>\n",
       "      <td>53.50</td>\n",
       "      <td>0.884</td>\n",
       "      <td>106</td>\n",
       "    </tr>\n",
       "    <tr>\n",
       "      <th>171</th>\n",
       "      <td>53.25</td>\n",
       "      <td>0.883</td>\n",
       "      <td>107</td>\n",
       "    </tr>\n",
       "    <tr>\n",
       "      <th>172</th>\n",
       "      <td>53.00</td>\n",
       "      <td>0.677</td>\n",
       "      <td>114</td>\n",
       "    </tr>\n",
       "    <tr>\n",
       "      <th>173</th>\n",
       "      <td>52.75</td>\n",
       "      <td>0.665</td>\n",
       "      <td>120</td>\n",
       "    </tr>\n",
       "    <tr>\n",
       "      <th>174</th>\n",
       "      <td>52.50</td>\n",
       "      <td>0.665</td>\n",
       "      <td>120</td>\n",
       "    </tr>\n",
       "  </tbody>\n",
       "</table>\n",
       "</div>"
      ],
      "text/plain": [
       "     %Missing  PopRetained  CountriesCut\n",
       "165     54.75        0.900            95\n",
       "166     54.50        0.896            97\n",
       "167     54.25        0.894            99\n",
       "168     54.00        0.891           101\n",
       "169     53.75        0.890           103\n",
       "170     53.50        0.884           106\n",
       "171     53.25        0.883           107\n",
       "172     53.00        0.677           114\n",
       "173     52.75        0.665           120\n",
       "174     52.50        0.665           120"
      ]
     },
     "execution_count": 29,
     "metadata": {},
     "output_type": "execute_result"
    }
   ],
   "source": [
    "#Examine 170 area\n",
    "countriestocutDF.iloc[165:175]"
   ]
  },
  {
   "cell_type": "code",
   "execution_count": 30,
   "metadata": {},
   "outputs": [
    {
     "data": {
      "text/plain": [
       "%Missing         53.250\n",
       "PopRetained       0.883\n",
       "CountriesCut    107.000\n",
       "Name: 171, dtype: float64"
      ]
     },
     "execution_count": 30,
     "metadata": {},
     "output_type": "execute_result"
    }
   ],
   "source": [
    "#Examine how much data we retain by cutting off at the 42nd line and how much missing data those countries have\n",
    "countriestocutDF.iloc[171] #107 countries, missing 54% or more data, but retaining 88.3% of the population"
   ]
  },
  {
   "cell_type": "code",
   "execution_count": 31,
   "metadata": {},
   "outputs": [],
   "source": [
    "#Now filter the nabycountryDF for the 65% cutoff and store the list of countries to filter the entire DF\n",
    "perc_missing =  53.25 #65.1 for 1970\n",
    "countriestofilter = nabycountryDF[nabycountryDF[\"%Missing\"] <= perc_missing][\"CountryName\"].values \n",
    "\n",
    "completeDF = completeDF[completeDF[\"CountryName\"].isin(countriestofilter)]"
   ]
  },
  {
   "cell_type": "code",
   "execution_count": 32,
   "metadata": {},
   "outputs": [
    {
     "name": "stdout",
     "output_type": "stream",
     "text": [
      "Total nulls: 3,343,959\n",
      "Total cells: 6,696,900\n",
      "49.93 % of DF is null\n"
     ]
    }
   ],
   "source": [
    "#Null value stats\n",
    "nullstats(completeDF) #49.93 for 1990"
   ]
  },
  {
   "cell_type": "code",
   "execution_count": 33,
   "metadata": {},
   "outputs": [
    {
     "data": {
      "text/plain": [
       "105"
      ]
     },
     "execution_count": 33,
     "metadata": {},
     "output_type": "execute_result"
    }
   ],
   "source": [
    "#Countries remaining\n",
    "country_count = len(completeDF.CountryName.unique())\n",
    "country_count #Should be 105 "
   ]
  },
  {
   "cell_type": "markdown",
   "metadata": {},
   "source": [
    "## Null values by variable"
   ]
  },
  {
   "cell_type": "code",
   "execution_count": 34,
   "metadata": {},
   "outputs": [],
   "source": [
    "#Generate a list of features in DF, how much data they are missing, percent they are missing, and how much\n",
    "#is not missing\n",
    "#Store this as a function so that a cleaned dataframe can be run through it again\n",
    "def missing_values(df):\n",
    "    features = []\n",
    "    NAs = []\n",
    "    for feature in df.columns:\n",
    "        features.append(feature)\n",
    "        NAs.append(nullcalculator(feature))\n",
    "    naDF = pd.DataFrame({\"feature\":features, \"missing\":NAs})\n",
    "    naDF['perc_missing'] = naDF[\"missing\"] / df.shape[0]\n",
    "    naDF['not_missing'] = df.shape[0] - naDF[\"missing\"]\n",
    "    naDF = naDF.sort_values(by=\"not_missing\", ascending=False).reset_index(drop=True)\n",
    "    #naDF['cum_missing'] = naDF[\"missing\"].cumsum()\n",
    "    \n",
    "    return naDF"
   ]
  },
  {
   "cell_type": "code",
   "execution_count": 35,
   "metadata": {},
   "outputs": [
    {
     "data": {
      "text/plain": [
       "2126"
      ]
     },
     "execution_count": 35,
     "metadata": {},
     "output_type": "execute_result"
    }
   ],
   "source": [
    "#Store initial completeDF results\n",
    "nabyfeatureDF = missing_values(completeDF)\n",
    "nabyfeatureDF.shape[0] "
   ]
  },
  {
   "cell_type": "code",
   "execution_count": 36,
   "metadata": {},
   "outputs": [
    {
     "data": {
      "text/plain": [
       "([<matplotlib.axis.XTick at 0x7f5bc5771dd8>,\n",
       "  <matplotlib.axis.XTick at 0x7f5bc57719b0>,\n",
       "  <matplotlib.axis.XTick at 0x7f5bc57715f8>,\n",
       "  <matplotlib.axis.XTick at 0x7f5bc3b49668>,\n",
       "  <matplotlib.axis.XTick at 0x7f5bc3b49b00>,\n",
       "  <matplotlib.axis.XTick at 0x7f5bc3b49f98>,\n",
       "  <matplotlib.axis.XTick at 0x7f5bc3b5d470>,\n",
       "  <matplotlib.axis.XTick at 0x7f5bc3b5d908>,\n",
       "  <matplotlib.axis.XTick at 0x7f5bc3b5dda0>],\n",
       " [Text(0, 0, ''),\n",
       "  Text(0, 0, ''),\n",
       "  Text(0, 0, ''),\n",
       "  Text(0, 0, ''),\n",
       "  Text(0, 0, ''),\n",
       "  Text(0, 0, ''),\n",
       "  Text(0, 0, ''),\n",
       "  Text(0, 0, ''),\n",
       "  Text(0, 0, '')])"
      ]
     },
     "execution_count": 36,
     "metadata": {},
     "output_type": "execute_result"
    },
    {
     "data": {
      "image/png": "[encoded data removed]",
      "text/plain": [
       "<Figure size 432x288 with 1 Axes>"
      ]
     },
     "metadata": {
      "needs_background": "light"
     },
     "output_type": "display_data"
    }
   ],
   "source": [
    "#Quick examination\n",
    "#The variables are stored in order of how much data they are missing - from least to most\n",
    "#Therefore, this plot shows the index of the variable in the DF (X-axis) and how much data it is missing (Y-axis)\n",
    "plt.plot(nabyfeatureDF.missing)\n",
    "plt.title(\"Missing Values by Variable\", fontdict={'size':20})\n",
    "plt.ylabel(\"Total Null Values\", fontdict={'size':14})\n",
    "plt.xlabel(\"Variable Number - ordered least missing to most\", fontdict={'size':13})\n",
    "plt.xticks(np.arange(0, 2200, step=250))"
   ]
  },
  {
   "cell_type": "code",
   "execution_count": 37,
   "metadata": {},
   "outputs": [
    {
     "data": {
      "text/plain": [
       "1077"
      ]
     },
     "execution_count": 37,
     "metadata": {},
     "output_type": "execute_result"
    }
   ],
   "source": [
    "#Eliminating those missing 50% or more data\n",
    "nabyfeatureDF = nabyfeatureDF[nabyfeatureDF[\"perc_missing\"] <= .5]\n",
    "nabyfeatureDF.shape[0] #1077 remaining from 1990"
   ]
  },
  {
   "cell_type": "code",
   "execution_count": 38,
   "metadata": {
    "scrolled": true
   },
   "outputs": [
    {
     "data": {
      "text/plain": [
       "<AxesSubplot:>"
      ]
     },
     "execution_count": 38,
     "metadata": {},
     "output_type": "execute_result"
    },
    {
     "data": {
      "image/png": "[encoded data removed]",
      "text/plain": [
       "<Figure size 432x288 with 1 Axes>"
      ]
     },
     "metadata": {
      "needs_background": "light"
     },
     "output_type": "display_data"
    }
   ],
   "source": [
    "#Examine again\n",
    "nabyfeatureDF.missing.plot()"
   ]
  },
  {
   "cell_type": "code",
   "execution_count": 39,
   "metadata": {},
   "outputs": [
    {
     "data": {
      "text/plain": [
       "<AxesSubplot:>"
      ]
     },
     "execution_count": 39,
     "metadata": {},
     "output_type": "execute_result"
    },
    {
     "data": {
      "image/png": "[encoded data removed]",
      "text/plain": [
       "<Figure size 432x288 with 1 Axes>"
      ]
     },
     "metadata": {
      "needs_background": "light"
     },
     "output_type": "display_data"
    }
   ],
   "source": [
    "#Zoom\n",
    "nabyfeatureDF.iloc[600:650].missing.plot() "
   ]
  },
  {
   "cell_type": "code",
   "execution_count": 40,
   "metadata": {},
   "outputs": [
    {
     "data": {
      "text/html": [
       "<div>\n",
       "<style scoped>\n",
       "    .dataframe tbody tr th:only-of-type {\n",
       "        vertical-align: middle;\n",
       "    }\n",
       "\n",
       "    .dataframe tbody tr th {\n",
       "        vertical-align: top;\n",
       "    }\n",
       "\n",
       "    .dataframe thead th {\n",
       "        text-align: right;\n",
       "    }\n",
       "</style>\n",
       "<table border=\"1\" class=\"dataframe\">\n",
       "  <thead>\n",
       "    <tr style=\"text-align: right;\">\n",
       "      <th></th>\n",
       "      <th>feature</th>\n",
       "      <th>missing</th>\n",
       "      <th>perc_missing</th>\n",
       "      <th>not_missing</th>\n",
       "    </tr>\n",
       "  </thead>\n",
       "  <tbody>\n",
       "    <tr>\n",
       "      <th>620</th>\n",
       "      <td>SEPRMENRRFE</td>\n",
       "      <td>358</td>\n",
       "      <td>0.113651</td>\n",
       "      <td>2792</td>\n",
       "    </tr>\n",
       "    <tr>\n",
       "      <th>621</th>\n",
       "      <td>SEENRPRIMFMZS</td>\n",
       "      <td>358</td>\n",
       "      <td>0.113651</td>\n",
       "      <td>2792</td>\n",
       "    </tr>\n",
       "    <tr>\n",
       "      <th>622</th>\n",
       "      <td>SEPRMENRRMA</td>\n",
       "      <td>358</td>\n",
       "      <td>0.113651</td>\n",
       "      <td>2792</td>\n",
       "    </tr>\n",
       "    <tr>\n",
       "      <th>623</th>\n",
       "      <td>NVINDMANFKDZG</td>\n",
       "      <td>365</td>\n",
       "      <td>0.115873</td>\n",
       "      <td>2785</td>\n",
       "    </tr>\n",
       "    <tr>\n",
       "      <th>624</th>\n",
       "      <td>BNTRFKOGTCD</td>\n",
       "      <td>367</td>\n",
       "      <td>0.116508</td>\n",
       "      <td>2783</td>\n",
       "    </tr>\n",
       "    <tr>\n",
       "      <th>625</th>\n",
       "      <td>TMVALFUELZSUN</td>\n",
       "      <td>378</td>\n",
       "      <td>0.120000</td>\n",
       "      <td>2772</td>\n",
       "    </tr>\n",
       "    <tr>\n",
       "      <th>626</th>\n",
       "      <td>TMVALFOODZSUN</td>\n",
       "      <td>378</td>\n",
       "      <td>0.120000</td>\n",
       "      <td>2772</td>\n",
       "    </tr>\n",
       "    <tr>\n",
       "      <th>627</th>\n",
       "      <td>TMVALAGRIZSUN</td>\n",
       "      <td>378</td>\n",
       "      <td>0.120000</td>\n",
       "      <td>2772</td>\n",
       "    </tr>\n",
       "    <tr>\n",
       "      <th>628</th>\n",
       "      <td>TMVALMMTLZSUN</td>\n",
       "      <td>378</td>\n",
       "      <td>0.120000</td>\n",
       "      <td>2772</td>\n",
       "    </tr>\n",
       "    <tr>\n",
       "      <th>629</th>\n",
       "      <td>TMVALMANFZSUN</td>\n",
       "      <td>378</td>\n",
       "      <td>0.120000</td>\n",
       "      <td>2772</td>\n",
       "    </tr>\n",
       "  </tbody>\n",
       "</table>\n",
       "</div>"
      ],
      "text/plain": [
       "           feature  missing  perc_missing  not_missing\n",
       "620    SEPRMENRRFE      358      0.113651         2792\n",
       "621  SEENRPRIMFMZS      358      0.113651         2792\n",
       "622    SEPRMENRRMA      358      0.113651         2792\n",
       "623  NVINDMANFKDZG      365      0.115873         2785\n",
       "624    BNTRFKOGTCD      367      0.116508         2783\n",
       "625  TMVALFUELZSUN      378      0.120000         2772\n",
       "626  TMVALFOODZSUN      378      0.120000         2772\n",
       "627  TMVALAGRIZSUN      378      0.120000         2772\n",
       "628  TMVALMMTLZSUN      378      0.120000         2772\n",
       "629  TMVALMANFZSUN      378      0.120000         2772"
      ]
     },
     "execution_count": 40,
     "metadata": {},
     "output_type": "execute_result"
    }
   ],
   "source": [
    "nabyfeatureDF.iloc[620:630]"
   ]
  },
  {
   "cell_type": "code",
   "execution_count": 41,
   "metadata": {},
   "outputs": [
    {
     "data": {
      "text/html": [
       "<div>\n",
       "<style scoped>\n",
       "    .dataframe tbody tr th:only-of-type {\n",
       "        vertical-align: middle;\n",
       "    }\n",
       "\n",
       "    .dataframe tbody tr th {\n",
       "        vertical-align: top;\n",
       "    }\n",
       "\n",
       "    .dataframe thead th {\n",
       "        text-align: right;\n",
       "    }\n",
       "</style>\n",
       "<table border=\"1\" class=\"dataframe\">\n",
       "  <thead>\n",
       "    <tr style=\"text-align: right;\">\n",
       "      <th></th>\n",
       "      <th>feature</th>\n",
       "      <th>missing</th>\n",
       "      <th>perc_missing</th>\n",
       "      <th>not_missing</th>\n",
       "    </tr>\n",
       "  </thead>\n",
       "  <tbody>\n",
       "    <tr>\n",
       "      <th>621</th>\n",
       "      <td>SEENRPRIMFMZS</td>\n",
       "      <td>358</td>\n",
       "      <td>0.113651</td>\n",
       "      <td>2792</td>\n",
       "    </tr>\n",
       "    <tr>\n",
       "      <th>622</th>\n",
       "      <td>SEPRMENRRMA</td>\n",
       "      <td>358</td>\n",
       "      <td>0.113651</td>\n",
       "      <td>2792</td>\n",
       "    </tr>\n",
       "    <tr>\n",
       "      <th>623</th>\n",
       "      <td>NVINDMANFKDZG</td>\n",
       "      <td>365</td>\n",
       "      <td>0.115873</td>\n",
       "      <td>2785</td>\n",
       "    </tr>\n",
       "  </tbody>\n",
       "</table>\n",
       "</div>"
      ],
      "text/plain": [
       "           feature  missing  perc_missing  not_missing\n",
       "621  SEENRPRIMFMZS      358      0.113651         2792\n",
       "622    SEPRMENRRMA      358      0.113651         2792\n",
       "623  NVINDMANFKDZG      365      0.115873         2785"
      ]
     },
     "execution_count": 41,
     "metadata": {},
     "output_type": "execute_result"
    }
   ],
   "source": [
    "# Cutoff at 623\n",
    "nabyfeatureDF = missing_values(completeDF).iloc[:624] \n",
    "\n",
    "nabyfeatureDF.tail(3) #Confirm"
   ]
  },
  {
   "cell_type": "code",
   "execution_count": 42,
   "metadata": {},
   "outputs": [],
   "source": [
    "#Filter DF to include only those features remaining\n",
    "completeDF = completeDF[nabyfeatureDF['feature']]"
   ]
  },
  {
   "cell_type": "code",
   "execution_count": 43,
   "metadata": {},
   "outputs": [
    {
     "name": "stdout",
     "output_type": "stream",
     "text": [
      "Total nulls: 61,543\n",
      "Total cells: 1,965,600\n",
      "3.13 % of DF is null\n"
     ]
    }
   ],
   "source": [
    "#Current null value stats\n",
    "nullstats(completeDF) #3.13% for 1990"
   ]
  },
  {
   "cell_type": "markdown",
   "metadata": {},
   "source": [
    "---"
   ]
  },
  {
   "cell_type": "markdown",
   "metadata": {},
   "source": [
    "---"
   ]
  },
  {
   "cell_type": "markdown",
   "metadata": {},
   "source": [
    "## Variables with 'fake' data (1's and 0's)\n",
    "\n",
    "Some countries have data encoded with just 1s and 0s in places. There are some variables with a high number or almost\n",
    "all 1s and 0s. This part of the notebook finds those variables with a high number of 1s and 0s and eliminates them."
   ]
  },
  {
   "cell_type": "code",
   "execution_count": 44,
   "metadata": {},
   "outputs": [],
   "source": [
    "#Find countries and variables with 1 and 0 encoding\n",
    "fakesDF = pd.DataFrame()\n",
    "for country in pd.unique(completeDF['CountryName']):\n",
    "    ctrydf = completeDF[completeDF['CountryName'] == country]\n",
    "    for met in ctrydf.columns:\n",
    "        if {a for a in ctrydf[met]}==({0} or {0,1}):\n",
    "            fakesDF = fakesDF.append(pd.DataFrame({'Country':[country], \"Metric\":[met]}))"
   ]
  },
  {
   "cell_type": "code",
   "execution_count": 45,
   "metadata": {},
   "outputs": [],
   "source": [
    "#Create a DF from this that shows how much is 'missing' based on feature (both total and percent of total)\n",
    "fakesbyfeatureDF = pd.DataFrame(columns=['feature', '#missing', '%missing'])\n",
    "for metric in fakesDF[\"Metric\"].unique():\n",
    "    num_missing = fakesDF[fakesDF[\"Metric\"] == metric].shape[0]\n",
    "    fakesbyfeatureDF.loc[len(fakesbyfeatureDF.index)] = [metric, num_missing, num_missing/country_count]\n",
    "    \n",
    "fakesbyfeatureDF = fakesbyfeatureDF.sort_values(by='%missing', ascending=True).reset_index(drop=True)"
   ]
  },
  {
   "cell_type": "code",
   "execution_count": 46,
   "metadata": {},
   "outputs": [
    {
     "data": {
      "text/plain": [
       "<AxesSubplot:>"
      ]
     },
     "execution_count": 46,
     "metadata": {},
     "output_type": "execute_result"
    },
    {
     "data": {
      "image/png": "[encoded data removed]",
      "text/plain": [
       "<Figure size 432x288 with 1 Axes>"
      ]
     },
     "metadata": {
      "needs_background": "light"
     },
     "output_type": "display_data"
    }
   ],
   "source": [
    "#Visual\n",
    "fakesbyfeatureDF[\"%missing\"].plot() "
   ]
  },
  {
   "cell_type": "code",
   "execution_count": 47,
   "metadata": {},
   "outputs": [
    {
     "data": {
      "text/plain": [
       "<AxesSubplot:>"
      ]
     },
     "execution_count": 47,
     "metadata": {},
     "output_type": "execute_result"
    },
    {
     "data": {
      "image/png": "[encoded data removed]",
      "text/plain": [
       "<Figure size 432x288 with 1 Axes>"
      ]
     },
     "metadata": {
      "needs_background": "light"
     },
     "output_type": "display_data"
    }
   ],
   "source": [
    "#Zoom \n",
    "fakesbyfeatureDF['%missing'].iloc[30:40].plot() #Zoom: [20:30] original"
   ]
  },
  {
   "cell_type": "code",
   "execution_count": 48,
   "metadata": {},
   "outputs": [],
   "source": [
    "# Major jump at 32nd variable. Cutoff at 33\n",
    "fakesbyfeatureDF = fakesbyfeatureDF.iloc[33:] "
   ]
  },
  {
   "cell_type": "code",
   "execution_count": 49,
   "metadata": {},
   "outputs": [],
   "source": [
    "#Filter these out of original DF\n",
    "completeDF = completeDF.iloc[:,~completeDF.columns.isin(fakesbyfeatureDF['feature'])]"
   ]
  },
  {
   "cell_type": "code",
   "execution_count": 50,
   "metadata": {},
   "outputs": [
    {
     "name": "stdout",
     "output_type": "stream",
     "text": [
      "Total nulls: 61,277\n",
      "Total cells: 1,902,600\n",
      "3.22 % of DF is null\n"
     ]
    }
   ],
   "source": [
    "nullstats(completeDF) #3.22% for 1990"
   ]
  },
  {
   "cell_type": "markdown",
   "metadata": {},
   "source": [
    "---"
   ]
  },
  {
   "cell_type": "markdown",
   "metadata": {},
   "source": [
    "## Imputation"
   ]
  },
  {
   "cell_type": "code",
   "execution_count": 51,
   "metadata": {},
   "outputs": [],
   "source": [
    "# Remove and store non-numeric variables\n",
    "object_cols = completeDF.select_dtypes(include=object).columns\n",
    "saved_cols = completeDF[object_cols]\n",
    "\n",
    "#Drop them from the DF\n",
    "completeDF = completeDF.drop(object_cols, axis=1)\n",
    "\n",
    "# Save the names of the DF columns\n",
    "col_names = completeDF.columns"
   ]
  },
  {
   "cell_type": "code",
   "execution_count": 52,
   "metadata": {},
   "outputs": [],
   "source": [
    "# Run imputation\n",
    "imputer = KNNImputer(n_neighbors=5, weights=\"uniform\")\n",
    "completeDF = pd.DataFrame(imputer.fit_transform(completeDF), columns=col_names)"
   ]
  },
  {
   "cell_type": "code",
   "execution_count": 53,
   "metadata": {},
   "outputs": [],
   "source": [
    "#Add columns back\n",
    "completeDF = pd.concat([completeDF, saved_cols.reset_index(drop=True)], axis=1)"
   ]
  },
  {
   "cell_type": "code",
   "execution_count": 54,
   "metadata": {},
   "outputs": [
    {
     "name": "stdout",
     "output_type": "stream",
     "text": [
      "Total nulls: 30\n",
      "Total cells: 1,902,600\n",
      "0.0 % of DF is null\n"
     ]
    }
   ],
   "source": [
    "nullstats(completeDF)"
   ]
  },
  {
   "cell_type": "markdown",
   "metadata": {},
   "source": [
    "---"
   ]
  },
  {
   "cell_type": "markdown",
   "metadata": {},
   "source": [
    "## Add continents to DF"
   ]
  },
  {
   "cell_type": "code",
   "execution_count": 55,
   "metadata": {},
   "outputs": [],
   "source": [
    "# Load and clean\n",
    "continents = pd.read_csv('CountryContinents.csv')\n",
    "continents = continents.drop(['Country or Area'], axis=1)\n",
    "continents.columns = ['alpha3_code', 'Continent', 'Region1']"
   ]
  },
  {
   "cell_type": "code",
   "execution_count": 56,
   "metadata": {},
   "outputs": [],
   "source": [
    "# Merge\n",
    "completeDF = pd.merge(completeDF, continents, on=['alpha3_code'])"
   ]
  },
  {
   "cell_type": "markdown",
   "metadata": {},
   "source": [
    "---"
   ]
  },
  {
   "cell_type": "markdown",
   "metadata": {},
   "source": [
    "## Clean"
   ]
  },
  {
   "cell_type": "code",
   "execution_count": 57,
   "metadata": {},
   "outputs": [
    {
     "data": {
      "text/html": [
       "<div>\n",
       "<style scoped>\n",
       "    .dataframe tbody tr th:only-of-type {\n",
       "        vertical-align: middle;\n",
       "    }\n",
       "\n",
       "    .dataframe tbody tr th {\n",
       "        vertical-align: top;\n",
       "    }\n",
       "\n",
       "    .dataframe thead th {\n",
       "        text-align: right;\n",
       "    }\n",
       "</style>\n",
       "<table border=\"1\" class=\"dataframe\">\n",
       "  <thead>\n",
       "    <tr style=\"text-align: right;\">\n",
       "      <th></th>\n",
       "      <th>SPURBGROW</th>\n",
       "      <th>SPPOPAG25FEIN</th>\n",
       "      <th>SPPOPAG25MAIN</th>\n",
       "      <th>SPPOPDPND</th>\n",
       "      <th>SPPOPDPNDOL</th>\n",
       "      <th>SPPOPDPNDYG</th>\n",
       "      <th>SPPOPGROW</th>\n",
       "      <th>SPPOPTOTL</th>\n",
       "      <th>SPPOPTOTLFEIN</th>\n",
       "      <th>SPPOPTOTLFEZS</th>\n",
       "      <th>...</th>\n",
       "      <th>SEPRMENRRMA</th>\n",
       "      <th>NVINDMANFKDZG</th>\n",
       "      <th>CountryName</th>\n",
       "      <th>short_name</th>\n",
       "      <th>alpha3_code</th>\n",
       "      <th>iso3166-2</th>\n",
       "      <th>CountryCode</th>\n",
       "      <th>alpha2_code</th>\n",
       "      <th>Continent</th>\n",
       "      <th>Region1</th>\n",
       "    </tr>\n",
       "  </thead>\n",
       "  <tbody>\n",
       "    <tr>\n",
       "      <th>0</th>\n",
       "      <td>2.543043</td>\n",
       "      <td>29833.0</td>\n",
       "      <td>30896.0</td>\n",
       "      <td>61.994909</td>\n",
       "      <td>8.901594</td>\n",
       "      <td>53.093316</td>\n",
       "      <td>1.799086</td>\n",
       "      <td>3286542.0</td>\n",
       "      <td>1603543.0</td>\n",
       "      <td>48.791200</td>\n",
       "      <td>...</td>\n",
       "      <td>99.233337</td>\n",
       "      <td>-1.330062</td>\n",
       "      <td>Albania</td>\n",
       "      <td>Albania</td>\n",
       "      <td>ALB</td>\n",
       "      <td>ISO 3166-2:AL</td>\n",
       "      <td>ALB</td>\n",
       "      <td>AL</td>\n",
       "      <td>Europe</td>\n",
       "      <td>Southern Europe</td>\n",
       "    </tr>\n",
       "    <tr>\n",
       "      <th>1</th>\n",
       "      <td>0.141061</td>\n",
       "      <td>28894.0</td>\n",
       "      <td>29109.0</td>\n",
       "      <td>62.715405</td>\n",
       "      <td>9.191396</td>\n",
       "      <td>53.524009</td>\n",
       "      <td>-0.602810</td>\n",
       "      <td>3266790.0</td>\n",
       "      <td>1604790.0</td>\n",
       "      <td>49.124359</td>\n",
       "      <td>...</td>\n",
       "      <td>101.039749</td>\n",
       "      <td>4.437151</td>\n",
       "      <td>Albania</td>\n",
       "      <td>Albania</td>\n",
       "      <td>ALB</td>\n",
       "      <td>ISO 3166-2:AL</td>\n",
       "      <td>ALB</td>\n",
       "      <td>AL</td>\n",
       "      <td>Europe</td>\n",
       "      <td>Southern Europe</td>\n",
       "    </tr>\n",
       "  </tbody>\n",
       "</table>\n",
       "<p>2 rows × 606 columns</p>\n",
       "</div>"
      ],
      "text/plain": [
       "   SPURBGROW  SPPOPAG25FEIN  SPPOPAG25MAIN  SPPOPDPND  SPPOPDPNDOL  \\\n",
       "0   2.543043        29833.0        30896.0  61.994909     8.901594   \n",
       "1   0.141061        28894.0        29109.0  62.715405     9.191396   \n",
       "\n",
       "   SPPOPDPNDYG  SPPOPGROW  SPPOPTOTL  SPPOPTOTLFEIN  SPPOPTOTLFEZS  ...  \\\n",
       "0    53.093316   1.799086  3286542.0      1603543.0      48.791200  ...   \n",
       "1    53.524009  -0.602810  3266790.0      1604790.0      49.124359  ...   \n",
       "\n",
       "   SEPRMENRRMA  NVINDMANFKDZG  CountryName  short_name  alpha3_code  \\\n",
       "0    99.233337      -1.330062      Albania     Albania          ALB   \n",
       "1   101.039749       4.437151      Albania     Albania          ALB   \n",
       "\n",
       "       iso3166-2  CountryCode  alpha2_code  Continent          Region1  \n",
       "0  ISO 3166-2:AL          ALB           AL     Europe  Southern Europe  \n",
       "1  ISO 3166-2:AL          ALB           AL     Europe  Southern Europe  \n",
       "\n",
       "[2 rows x 606 columns]"
      ]
     },
     "execution_count": 57,
     "metadata": {},
     "output_type": "execute_result"
    }
   ],
   "source": [
    "#View\n",
    "completeDF.head(2)"
   ]
  },
  {
   "cell_type": "code",
   "execution_count": 58,
   "metadata": {},
   "outputs": [
    {
     "data": {
      "text/html": [
       "<div>\n",
       "<style scoped>\n",
       "    .dataframe tbody tr th:only-of-type {\n",
       "        vertical-align: middle;\n",
       "    }\n",
       "\n",
       "    .dataframe tbody tr th {\n",
       "        vertical-align: top;\n",
       "    }\n",
       "\n",
       "    .dataframe thead th {\n",
       "        text-align: right;\n",
       "    }\n",
       "</style>\n",
       "<table border=\"1\" class=\"dataframe\">\n",
       "  <thead>\n",
       "    <tr style=\"text-align: right;\">\n",
       "      <th></th>\n",
       "      <th>CountryName</th>\n",
       "      <th>Year</th>\n",
       "      <th>SPURBGROW</th>\n",
       "      <th>SPPOPAG25FEIN</th>\n",
       "      <th>SPPOPAG25MAIN</th>\n",
       "      <th>SPPOPDPND</th>\n",
       "      <th>SPPOPDPNDOL</th>\n",
       "      <th>SPPOPDPNDYG</th>\n",
       "      <th>SPPOPGROW</th>\n",
       "      <th>SPPOPTOTL</th>\n",
       "      <th>...</th>\n",
       "      <th>SEENRPRIMFMZS</th>\n",
       "      <th>SEPRMENRRMA</th>\n",
       "      <th>NVINDMANFKDZG</th>\n",
       "      <th>short_name</th>\n",
       "      <th>iso3166-2</th>\n",
       "      <th>CountryCode</th>\n",
       "      <th>alpha2_code</th>\n",
       "      <th>Continent</th>\n",
       "      <th>Region1</th>\n",
       "      <th>ISO3</th>\n",
       "    </tr>\n",
       "  </thead>\n",
       "  <tbody>\n",
       "    <tr>\n",
       "      <th>0</th>\n",
       "      <td>Albania</td>\n",
       "      <td>1990.0</td>\n",
       "      <td>2.543043</td>\n",
       "      <td>29833.0</td>\n",
       "      <td>30896.0</td>\n",
       "      <td>61.994909</td>\n",
       "      <td>8.901594</td>\n",
       "      <td>53.093316</td>\n",
       "      <td>1.799086</td>\n",
       "      <td>3286542.0</td>\n",
       "      <td>...</td>\n",
       "      <td>1.00459</td>\n",
       "      <td>99.233337</td>\n",
       "      <td>-1.330062</td>\n",
       "      <td>Albania</td>\n",
       "      <td>ISO 3166-2:AL</td>\n",
       "      <td>ALB</td>\n",
       "      <td>AL</td>\n",
       "      <td>Europe</td>\n",
       "      <td>Southern Europe</td>\n",
       "      <td>ALB</td>\n",
       "    </tr>\n",
       "    <tr>\n",
       "      <th>1</th>\n",
       "      <td>Albania</td>\n",
       "      <td>1991.0</td>\n",
       "      <td>0.141061</td>\n",
       "      <td>28894.0</td>\n",
       "      <td>29109.0</td>\n",
       "      <td>62.715405</td>\n",
       "      <td>9.191396</td>\n",
       "      <td>53.524009</td>\n",
       "      <td>-0.602810</td>\n",
       "      <td>3266790.0</td>\n",
       "      <td>...</td>\n",
       "      <td>1.00398</td>\n",
       "      <td>101.039749</td>\n",
       "      <td>4.437151</td>\n",
       "      <td>Albania</td>\n",
       "      <td>ISO 3166-2:AL</td>\n",
       "      <td>ALB</td>\n",
       "      <td>AL</td>\n",
       "      <td>Europe</td>\n",
       "      <td>Southern Europe</td>\n",
       "      <td>ALB</td>\n",
       "    </tr>\n",
       "    <tr>\n",
       "      <th>2</th>\n",
       "      <td>Albania</td>\n",
       "      <td>1992.0</td>\n",
       "      <td>0.878430</td>\n",
       "      <td>27689.0</td>\n",
       "      <td>26863.0</td>\n",
       "      <td>63.311979</td>\n",
       "      <td>9.516996</td>\n",
       "      <td>53.794984</td>\n",
       "      <td>-0.606435</td>\n",
       "      <td>3247039.0</td>\n",
       "      <td>...</td>\n",
       "      <td>1.01642</td>\n",
       "      <td>98.775101</td>\n",
       "      <td>4.437151</td>\n",
       "      <td>Albania</td>\n",
       "      <td>ISO 3166-2:AL</td>\n",
       "      <td>ALB</td>\n",
       "      <td>AL</td>\n",
       "      <td>Europe</td>\n",
       "      <td>Southern Europe</td>\n",
       "      <td>ALB</td>\n",
       "    </tr>\n",
       "    <tr>\n",
       "      <th>3</th>\n",
       "      <td>Albania</td>\n",
       "      <td>1993.0</td>\n",
       "      <td>0.855535</td>\n",
       "      <td>26544.0</td>\n",
       "      <td>24681.0</td>\n",
       "      <td>63.743013</td>\n",
       "      <td>9.867033</td>\n",
       "      <td>53.875979</td>\n",
       "      <td>-0.610166</td>\n",
       "      <td>3227287.0</td>\n",
       "      <td>...</td>\n",
       "      <td>1.03497</td>\n",
       "      <td>96.882889</td>\n",
       "      <td>5.424634</td>\n",
       "      <td>Albania</td>\n",
       "      <td>ISO 3166-2:AL</td>\n",
       "      <td>ALB</td>\n",
       "      <td>AL</td>\n",
       "      <td>Europe</td>\n",
       "      <td>Southern Europe</td>\n",
       "      <td>ALB</td>\n",
       "    </tr>\n",
       "    <tr>\n",
       "      <th>4</th>\n",
       "      <td>Albania</td>\n",
       "      <td>1994.0</td>\n",
       "      <td>0.843726</td>\n",
       "      <td>25748.0</td>\n",
       "      <td>23079.0</td>\n",
       "      <td>64.077234</td>\n",
       "      <td>10.223010</td>\n",
       "      <td>53.854224</td>\n",
       "      <td>-0.613881</td>\n",
       "      <td>3207536.0</td>\n",
       "      <td>...</td>\n",
       "      <td>0.98764</td>\n",
       "      <td>102.142090</td>\n",
       "      <td>8.645841</td>\n",
       "      <td>Albania</td>\n",
       "      <td>ISO 3166-2:AL</td>\n",
       "      <td>ALB</td>\n",
       "      <td>AL</td>\n",
       "      <td>Europe</td>\n",
       "      <td>Southern Europe</td>\n",
       "      <td>ALB</td>\n",
       "    </tr>\n",
       "  </tbody>\n",
       "</table>\n",
       "<p>5 rows × 606 columns</p>\n",
       "</div>"
      ],
      "text/plain": [
       "  CountryName    Year  SPURBGROW  SPPOPAG25FEIN  SPPOPAG25MAIN  SPPOPDPND  \\\n",
       "0     Albania  1990.0   2.543043        29833.0        30896.0  61.994909   \n",
       "1     Albania  1991.0   0.141061        28894.0        29109.0  62.715405   \n",
       "2     Albania  1992.0   0.878430        27689.0        26863.0  63.311979   \n",
       "3     Albania  1993.0   0.855535        26544.0        24681.0  63.743013   \n",
       "4     Albania  1994.0   0.843726        25748.0        23079.0  64.077234   \n",
       "\n",
       "   SPPOPDPNDOL  SPPOPDPNDYG  SPPOPGROW  SPPOPTOTL  ...  SEENRPRIMFMZS  \\\n",
       "0     8.901594    53.093316   1.799086  3286542.0  ...        1.00459   \n",
       "1     9.191396    53.524009  -0.602810  3266790.0  ...        1.00398   \n",
       "2     9.516996    53.794984  -0.606435  3247039.0  ...        1.01642   \n",
       "3     9.867033    53.875979  -0.610166  3227287.0  ...        1.03497   \n",
       "4    10.223010    53.854224  -0.613881  3207536.0  ...        0.98764   \n",
       "\n",
       "   SEPRMENRRMA  NVINDMANFKDZG  short_name      iso3166-2  CountryCode  \\\n",
       "0    99.233337      -1.330062     Albania  ISO 3166-2:AL          ALB   \n",
       "1   101.039749       4.437151     Albania  ISO 3166-2:AL          ALB   \n",
       "2    98.775101       4.437151     Albania  ISO 3166-2:AL          ALB   \n",
       "3    96.882889       5.424634     Albania  ISO 3166-2:AL          ALB   \n",
       "4   102.142090       8.645841     Albania  ISO 3166-2:AL          ALB   \n",
       "\n",
       "   alpha2_code  Continent          Region1  ISO3  \n",
       "0           AL     Europe  Southern Europe   ALB  \n",
       "1           AL     Europe  Southern Europe   ALB  \n",
       "2           AL     Europe  Southern Europe   ALB  \n",
       "3           AL     Europe  Southern Europe   ALB  \n",
       "4           AL     Europe  Southern Europe   ALB  \n",
       "\n",
       "[5 rows x 606 columns]"
      ]
     },
     "execution_count": 58,
     "metadata": {},
     "output_type": "execute_result"
    }
   ],
   "source": [
    "# Move CountryName back\n",
    "country_name = completeDF.pop(\"CountryName\")\n",
    "completeDF.insert(0, \"CountryName\", country_name)\n",
    "\n",
    "#Move year back to original position (important for later analysis)\n",
    "year = completeDF.pop(\"Year\")\n",
    "completeDF.insert(1, \"Year\", year)\n",
    "\n",
    "#Move ISO3 code to end of DF\n",
    "completeDF['ISO3'] = completeDF.pop('alpha3_code')\n",
    "\n",
    "completeDF.head()"
   ]
  },
  {
   "cell_type": "code",
   "execution_count": 59,
   "metadata": {},
   "outputs": [
    {
     "data": {
      "text/html": [
       "<div>\n",
       "<style scoped>\n",
       "    .dataframe tbody tr th:only-of-type {\n",
       "        vertical-align: middle;\n",
       "    }\n",
       "\n",
       "    .dataframe tbody tr th {\n",
       "        vertical-align: top;\n",
       "    }\n",
       "\n",
       "    .dataframe thead th {\n",
       "        text-align: right;\n",
       "    }\n",
       "</style>\n",
       "<table border=\"1\" class=\"dataframe\">\n",
       "  <thead>\n",
       "    <tr style=\"text-align: right;\">\n",
       "      <th></th>\n",
       "      <th>CountryName</th>\n",
       "      <th>Year</th>\n",
       "      <th>SPURBGROW</th>\n",
       "      <th>SPPOPAG25FEIN</th>\n",
       "      <th>SPPOPAG25MAIN</th>\n",
       "      <th>SPPOPDPND</th>\n",
       "      <th>SPPOPDPNDOL</th>\n",
       "      <th>SPPOPDPNDYG</th>\n",
       "      <th>SPPOPGROW</th>\n",
       "      <th>SPPOPTOTL</th>\n",
       "      <th>...</th>\n",
       "      <th>NYGDPFCSTKD</th>\n",
       "      <th>NYGDPFCSTKN</th>\n",
       "      <th>NYTAXNINDCD</th>\n",
       "      <th>SEPRMENRRFE</th>\n",
       "      <th>SEENRPRIMFMZS</th>\n",
       "      <th>SEPRMENRRMA</th>\n",
       "      <th>NVINDMANFKDZG</th>\n",
       "      <th>Continent</th>\n",
       "      <th>Region1</th>\n",
       "      <th>ISO3</th>\n",
       "    </tr>\n",
       "  </thead>\n",
       "  <tbody>\n",
       "    <tr>\n",
       "      <th>0</th>\n",
       "      <td>Albania</td>\n",
       "      <td>1990.0</td>\n",
       "      <td>2.543043</td>\n",
       "      <td>29833.0</td>\n",
       "      <td>30896.0</td>\n",
       "      <td>61.994909</td>\n",
       "      <td>8.901594</td>\n",
       "      <td>53.093316</td>\n",
       "      <td>1.799086</td>\n",
       "      <td>3286542.0</td>\n",
       "      <td>...</td>\n",
       "      <td>4.687984e+09</td>\n",
       "      <td>5.561554e+11</td>\n",
       "      <td>4.565230e+08</td>\n",
       "      <td>99.688721</td>\n",
       "      <td>1.00459</td>\n",
       "      <td>99.233337</td>\n",
       "      <td>-1.330062</td>\n",
       "      <td>Europe</td>\n",
       "      <td>Southern Europe</td>\n",
       "      <td>ALB</td>\n",
       "    </tr>\n",
       "    <tr>\n",
       "      <th>1</th>\n",
       "      <td>Albania</td>\n",
       "      <td>1991.0</td>\n",
       "      <td>0.141061</td>\n",
       "      <td>28894.0</td>\n",
       "      <td>29109.0</td>\n",
       "      <td>62.715405</td>\n",
       "      <td>9.191396</td>\n",
       "      <td>53.524009</td>\n",
       "      <td>-0.602810</td>\n",
       "      <td>3266790.0</td>\n",
       "      <td>...</td>\n",
       "      <td>3.484063e+09</td>\n",
       "      <td>4.133292e+11</td>\n",
       "      <td>5.590416e+08</td>\n",
       "      <td>101.441803</td>\n",
       "      <td>1.00398</td>\n",
       "      <td>101.039749</td>\n",
       "      <td>4.437151</td>\n",
       "      <td>Europe</td>\n",
       "      <td>Southern Europe</td>\n",
       "      <td>ALB</td>\n",
       "    </tr>\n",
       "  </tbody>\n",
       "</table>\n",
       "<p>2 rows × 601 columns</p>\n",
       "</div>"
      ],
      "text/plain": [
       "  CountryName    Year  SPURBGROW  SPPOPAG25FEIN  SPPOPAG25MAIN  SPPOPDPND  \\\n",
       "0     Albania  1990.0   2.543043        29833.0        30896.0  61.994909   \n",
       "1     Albania  1991.0   0.141061        28894.0        29109.0  62.715405   \n",
       "\n",
       "   SPPOPDPNDOL  SPPOPDPNDYG  SPPOPGROW  SPPOPTOTL  ...   NYGDPFCSTKD  \\\n",
       "0     8.901594    53.093316   1.799086  3286542.0  ...  4.687984e+09   \n",
       "1     9.191396    53.524009  -0.602810  3266790.0  ...  3.484063e+09   \n",
       "\n",
       "    NYGDPFCSTKN   NYTAXNINDCD  SEPRMENRRFE  SEENRPRIMFMZS  SEPRMENRRMA  \\\n",
       "0  5.561554e+11  4.565230e+08    99.688721        1.00459    99.233337   \n",
       "1  4.133292e+11  5.590416e+08   101.441803        1.00398   101.039749   \n",
       "\n",
       "   NVINDMANFKDZG  Continent          Region1  ISO3  \n",
       "0      -1.330062     Europe  Southern Europe   ALB  \n",
       "1       4.437151     Europe  Southern Europe   ALB  \n",
       "\n",
       "[2 rows x 601 columns]"
      ]
     },
     "execution_count": 59,
     "metadata": {},
     "output_type": "execute_result"
    }
   ],
   "source": [
    "#Drop unnecessary columns and reset index\n",
    "completeDF = completeDF.drop(['iso3166-2', 'CountryCode', 'short_name', 'numeric_code', 'alpha2_code'], axis=1)\n",
    "completeDF = completeDF.reset_index(drop=True)\n",
    "completeDF.head(2)"
   ]
  },
  {
   "cell_type": "code",
   "execution_count": 60,
   "metadata": {},
   "outputs": [
    {
     "data": {
      "text/plain": [
       "(3150, 601)"
      ]
     },
     "execution_count": 60,
     "metadata": {},
     "output_type": "execute_result"
    }
   ],
   "source": [
    "completeDF.shape #3150 x 601"
   ]
  },
  {
   "cell_type": "markdown",
   "metadata": {
    "id": "30s1i5a0yCBO"
   },
   "source": [
    "### Export"
   ]
  },
  {
   "cell_type": "code",
   "execution_count": 61,
   "metadata": {},
   "outputs": [],
   "source": [
    "completeDF.to_csv(\"completeDF.csv\", index=False)"
   ]
  }
 ],
 "metadata": {
  "colab": {
   "collapsed_sections": [
    "QOZ7bB7crsjE",
    "QZmx6ZKxtB2K",
    "_w5sMP5Cvzjv",
    "v8AIoeVCaM__",
    "eNot66FfaZQg",
    "4G3P9wwga8dr",
    "wCzLn4fefnh5",
    "XV8dwZlv1qEb",
    "_4Eq199nxk2Z",
    "30s1i5a0yCBO"
   ],
   "name": "Data Exploration - Jon.ipynb",
   "provenance": []
  },
  "kernelspec": {
   "display_name": "Python 3",
   "language": "python",
   "name": "python3"
  },
  "language_info": {
   "codemirror_mode": {
    "name": "ipython",
    "version": 3
   },
   "file_extension": ".py",
   "mimetype": "text/x-python",
   "name": "python",
   "nbconvert_exporter": "python",
   "pygments_lexer": "ipython3",
   "version": "3.7.3"
  }
 },
 "nbformat": 4,
 "nbformat_minor": 1
}
