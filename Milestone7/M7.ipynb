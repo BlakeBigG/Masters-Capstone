{
 "cells": [
  {
   "cell_type": "markdown",
   "metadata": {},
   "source": [
    "# M7"
   ]
  },
  {
   "cell_type": "markdown",
   "metadata": {},
   "source": [
    "Notebook that makes dashboard: https://europa.dsa.missouri.edu/user/bmgwd9/notebooks/sp22Capstone_01_Group03/CapstoneOrganization/M7/create_dashboard/ShinyDashboard.ipynb\n",
    "\n",
    "Dashboard: https://rshiny.dsa.missouri.edu/students/jyymn/DATA-SCI-8430/group03dashboard/"
   ]
  },
  {
   "cell_type": "markdown",
   "metadata": {},
   "source": [
    "In this milestone, we built an R Shiny dashboard that shows the results of our models. The dashboard serves as the main component of our data story."
   ]
  }
 ],
 "metadata": {
  "kernelspec": {
   "display_name": "Python 3",
   "language": "python",
   "name": "python3"
  },
  "language_info": {
   "codemirror_mode": {
    "name": "ipython",
    "version": 3
   },
   "file_extension": ".py",
   "mimetype": "text/x-python",
   "name": "python",
   "nbconvert_exporter": "python",
   "pygments_lexer": "ipython3",
   "version": "3.7.3"
  }
 },
 "nbformat": 4,
 "nbformat_minor": 2
}
