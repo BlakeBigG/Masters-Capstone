{
 "cells": [
  {
   "cell_type": "markdown",
   "metadata": {},
   "source": [
    "# M4"
   ]
  },
  {
   "cell_type": "markdown",
   "metadata": {},
   "source": [
    "Python linearmodels.panel model comparison: https://europa.dsa.missouri.edu/user/bmgwd9/notebooks/sp22Capstone_01_Group03/CapstoneOrganization/M4/linearmodels.panel/OLSCompare.ipynb"
   ]
  },
  {
   "cell_type": "markdown",
   "metadata": {},
   "source": [
    "This milestone contains all preliminary modeling. We used panel data methods from Python's linear model library at first, but ended up switching to R's plm package due to it being more popular and having more features. All the work for this milestone was done in Python, but informed our decision to switch to R."
   ]
  }
 ],
 "metadata": {
  "kernelspec": {
   "display_name": "Python 3",
   "language": "python",
   "name": "python3"
  },
  "language_info": {
   "codemirror_mode": {
    "name": "ipython",
    "version": 3
   },
   "file_extension": ".py",
   "mimetype": "text/x-python",
   "name": "python",
   "nbconvert_exporter": "python",
   "pygments_lexer": "ipython3",
   "version": "3.7.3"
  }
 },
 "nbformat": 4,
 "nbformat_minor": 2
}
