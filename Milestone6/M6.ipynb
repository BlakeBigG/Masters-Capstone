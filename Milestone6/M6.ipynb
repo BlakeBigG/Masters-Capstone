{
 "cells": [
  {
   "cell_type": "markdown",
   "metadata": {},
   "source": [
    "# M6"
   ]
  },
  {
   "cell_type": "markdown",
   "metadata": {},
   "source": [
    "### Modeling Explanation:\n",
    "\n",
    "https://europa.dsa.missouri.edu/user/bmgwd9/notebooks/sp22Capstone_01_Group03/CapstoneOrganization/M6/modeling_explanation/modeling_explanation.ipynb\n",
    "\n",
    "### Feature Selection and Modeling:\n",
    "First, run\n",
    "\n",
    "https://europa.dsa.missouri.edu/user/bmgwd9/notebooks/sp22Capstone_01_Group03/CapstoneOrganization/M6/feature_selection_modeling/1world-feature-selection-and-modeling.ipynb, then\n",
    "\n",
    "https://europa.dsa.missouri.edu/user/bmgwd9/notebooks/sp22Capstone_01_Group03/CapstoneOrganization/M6/feature_selection_modeling/2continents-feature-selection-and-modeling.ipynb, then\n",
    "\n",
    "https://europa.dsa.missouri.edu/user/bmgwd9/notebooks/sp22Capstone_01_Group03/CapstoneOrganization/M6/feature_selection_modeling/3regions-feature-selection-and-modeling.ipynb"
   ]
  },
  {
   "cell_type": "markdown",
   "metadata": {},
   "source": [
    "In this milestone, we completed our modeling. There are a few notebooks containing feature selection and modeling. We tried multiple methods of feature selection, in addtion to modeling on the entire world, and specific continents and regions. At the end, we had predictions and RMSEs for the world, continent, and region models, and used those to create the dashboard.\n",
    "\n",
    "The modeling explanation notebook is where we did some exploration, and it offers an in-depth description of our process. This notebook is only meant to be used to understand how things work. The other notebooks are what we used to train our final models."
   ]
  },
  {
   "cell_type": "code",
   "execution_count": null,
   "metadata": {},
   "outputs": [],
   "source": []
  }
 ],
 "metadata": {
  "kernelspec": {
   "display_name": "Python 3",
   "language": "python",
   "name": "python3"
  },
  "language_info": {
   "codemirror_mode": {
    "name": "ipython",
    "version": 3
   },
   "file_extension": ".py",
   "mimetype": "text/x-python",
   "name": "python",
   "nbconvert_exporter": "python",
   "pygments_lexer": "ipython3",
   "version": "3.7.3"
  }
 },
 "nbformat": 4,
 "nbformat_minor": 2
}
