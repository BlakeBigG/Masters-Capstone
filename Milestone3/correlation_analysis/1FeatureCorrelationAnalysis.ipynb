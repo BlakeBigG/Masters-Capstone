{
 "cells": [
  {
   "cell_type": "markdown",
   "metadata": {},
   "source": [
    "# Feature Correlation & Analysis"
   ]
  },
  {
   "cell_type": "markdown",
   "metadata": {},
   "source": [
    "This notebook creates functions that allow the easy exploration of correlations with specific variables. One problem with the dataset is that the column names are mostly meaningless. This fixes that by referencing the indicator dictionary to show the descriptions of the most highly correlated variables to a particular variable. It also outputs corrsDF, which is a correlation matrix, reformatted as a three column table. The first two columns are features and the third column is the correlation between them. Some correlations of note are at the bottom of the notebook. The feature sets obtained from various feature selection methods were analyzed, so one can see what variables correlate well with what will go into our eventual model. The feature selection will show up in M6, and that notebook will refer back here to complete the big picture."
   ]
  },
  {
   "cell_type": "markdown",
   "metadata": {},
   "source": [
    "## Import Libraries"
   ]
  },
  {
   "cell_type": "code",
   "execution_count": 2,
   "metadata": {},
   "outputs": [],
   "source": [
    "import numpy as np\n",
    "import pandas as pd\n",
    "from collections import Counter"
   ]
  },
  {
   "cell_type": "markdown",
   "metadata": {},
   "source": [
    "## Load Data"
   ]
  },
  {
   "cell_type": "code",
   "execution_count": 3,
   "metadata": {
    "scrolled": true
   },
   "outputs": [
    {
     "data": {
      "text/html": [
       "<div>\n",
       "<style scoped>\n",
       "    .dataframe tbody tr th:only-of-type {\n",
       "        vertical-align: middle;\n",
       "    }\n",
       "\n",
       "    .dataframe tbody tr th {\n",
       "        vertical-align: top;\n",
       "    }\n",
       "\n",
       "    .dataframe thead th {\n",
       "        text-align: right;\n",
       "    }\n",
       "</style>\n",
       "<table border=\"1\" class=\"dataframe\">\n",
       "  <thead>\n",
       "    <tr style=\"text-align: right;\">\n",
       "      <th></th>\n",
       "      <th>CountryName</th>\n",
       "      <th>Year</th>\n",
       "      <th>SPURBGROW</th>\n",
       "      <th>SPPOPAG25FEIN</th>\n",
       "      <th>SPPOPAG25MAIN</th>\n",
       "      <th>SPPOPDPND</th>\n",
       "      <th>SPPOPDPNDOL</th>\n",
       "      <th>SPPOPDPNDYG</th>\n",
       "      <th>SPPOPGROW</th>\n",
       "      <th>SPPOPTOTL</th>\n",
       "      <th>...</th>\n",
       "      <th>NYGDPFCSTKD</th>\n",
       "      <th>NYGDPFCSTKN</th>\n",
       "      <th>NYTAXNINDCD</th>\n",
       "      <th>SEPRMENRRFE</th>\n",
       "      <th>SEENRPRIMFMZS</th>\n",
       "      <th>SEPRMENRRMA</th>\n",
       "      <th>NVINDMANFKDZG</th>\n",
       "      <th>Continent</th>\n",
       "      <th>Region1</th>\n",
       "      <th>ISO3</th>\n",
       "    </tr>\n",
       "  </thead>\n",
       "  <tbody>\n",
       "    <tr>\n",
       "      <th>0</th>\n",
       "      <td>Albania</td>\n",
       "      <td>1990.0</td>\n",
       "      <td>2.543043</td>\n",
       "      <td>29833.0</td>\n",
       "      <td>30896.0</td>\n",
       "      <td>61.994909</td>\n",
       "      <td>8.901594</td>\n",
       "      <td>53.093316</td>\n",
       "      <td>1.799086</td>\n",
       "      <td>3286542.0</td>\n",
       "      <td>...</td>\n",
       "      <td>4.687984e+09</td>\n",
       "      <td>5.561554e+11</td>\n",
       "      <td>4.565230e+08</td>\n",
       "      <td>99.688721</td>\n",
       "      <td>1.00459</td>\n",
       "      <td>99.233337</td>\n",
       "      <td>-1.330062</td>\n",
       "      <td>Europe</td>\n",
       "      <td>Southern Europe</td>\n",
       "      <td>ALB</td>\n",
       "    </tr>\n",
       "    <tr>\n",
       "      <th>1</th>\n",
       "      <td>Albania</td>\n",
       "      <td>1991.0</td>\n",
       "      <td>0.141061</td>\n",
       "      <td>28894.0</td>\n",
       "      <td>29109.0</td>\n",
       "      <td>62.715405</td>\n",
       "      <td>9.191396</td>\n",
       "      <td>53.524009</td>\n",
       "      <td>-0.602810</td>\n",
       "      <td>3266790.0</td>\n",
       "      <td>...</td>\n",
       "      <td>3.484063e+09</td>\n",
       "      <td>4.133292e+11</td>\n",
       "      <td>5.590416e+08</td>\n",
       "      <td>101.441803</td>\n",
       "      <td>1.00398</td>\n",
       "      <td>101.039749</td>\n",
       "      <td>4.437151</td>\n",
       "      <td>Europe</td>\n",
       "      <td>Southern Europe</td>\n",
       "      <td>ALB</td>\n",
       "    </tr>\n",
       "  </tbody>\n",
       "</table>\n",
       "<p>2 rows × 601 columns</p>\n",
       "</div>"
      ],
      "text/plain": [
       "  CountryName    Year  SPURBGROW  SPPOPAG25FEIN  SPPOPAG25MAIN  SPPOPDPND  \\\n",
       "0     Albania  1990.0   2.543043        29833.0        30896.0  61.994909   \n",
       "1     Albania  1991.0   0.141061        28894.0        29109.0  62.715405   \n",
       "\n",
       "   SPPOPDPNDOL  SPPOPDPNDYG  SPPOPGROW  SPPOPTOTL  ...   NYGDPFCSTKD  \\\n",
       "0     8.901594    53.093316   1.799086  3286542.0  ...  4.687984e+09   \n",
       "1     9.191396    53.524009  -0.602810  3266790.0  ...  3.484063e+09   \n",
       "\n",
       "    NYGDPFCSTKN   NYTAXNINDCD  SEPRMENRRFE  SEENRPRIMFMZS  SEPRMENRRMA  \\\n",
       "0  5.561554e+11  4.565230e+08    99.688721        1.00459    99.233337   \n",
       "1  4.133292e+11  5.590416e+08   101.441803        1.00398   101.039749   \n",
       "\n",
       "   NVINDMANFKDZG  Continent          Region1  ISO3  \n",
       "0      -1.330062     Europe  Southern Europe   ALB  \n",
       "1       4.437151     Europe  Southern Europe   ALB  \n",
       "\n",
       "[2 rows x 601 columns]"
      ]
     },
     "execution_count": 3,
     "metadata": {},
     "output_type": "execute_result"
    }
   ],
   "source": [
    "completeDF = pd.read_csv(\"../../M2/carpentry/completeDF.csv\")\n",
    "completeDF.head(2)"
   ]
  },
  {
   "cell_type": "code",
   "execution_count": 4,
   "metadata": {},
   "outputs": [
    {
     "data": {
      "text/plain": [
       "(3150, 601)"
      ]
     },
     "execution_count": 4,
     "metadata": {},
     "output_type": "execute_result"
    }
   ],
   "source": [
    "completeDF.shape"
   ]
  },
  {
   "cell_type": "code",
   "execution_count": 5,
   "metadata": {
    "scrolled": true
   },
   "outputs": [
    {
     "data": {
      "text/html": [
       "<div>\n",
       "<style scoped>\n",
       "    .dataframe tbody tr th:only-of-type {\n",
       "        vertical-align: middle;\n",
       "    }\n",
       "\n",
       "    .dataframe tbody tr th {\n",
       "        vertical-align: top;\n",
       "    }\n",
       "\n",
       "    .dataframe thead th {\n",
       "        text-align: right;\n",
       "    }\n",
       "</style>\n",
       "<table border=\"1\" class=\"dataframe\">\n",
       "  <thead>\n",
       "    <tr style=\"text-align: right;\">\n",
       "      <th></th>\n",
       "      <th>Year</th>\n",
       "      <th>SPURBGROW</th>\n",
       "      <th>SPPOPAG25FEIN</th>\n",
       "      <th>SPPOPAG25MAIN</th>\n",
       "      <th>SPPOPDPND</th>\n",
       "      <th>SPPOPDPNDOL</th>\n",
       "      <th>SPPOPDPNDYG</th>\n",
       "      <th>SPPOPGROW</th>\n",
       "      <th>SPPOPTOTL</th>\n",
       "      <th>SPPOPTOTLFEIN</th>\n",
       "      <th>...</th>\n",
       "      <th>BMTRFPRVTCD</th>\n",
       "      <th>BMGSRINSFZS</th>\n",
       "      <th>TMVALINSFZSWT</th>\n",
       "      <th>FIRESTOTLCD</th>\n",
       "      <th>FIRESXGLDCD</th>\n",
       "      <th>NVINDTOTLKDZG</th>\n",
       "      <th>NYGDPFCSTCN</th>\n",
       "      <th>NECONGOVTKDZG</th>\n",
       "      <th>NECONPRVTPCKDZG</th>\n",
       "      <th>SHSTAOB18FEZS</th>\n",
       "    </tr>\n",
       "  </thead>\n",
       "  <tbody>\n",
       "    <tr>\n",
       "      <th>0</th>\n",
       "      <td>1990.0</td>\n",
       "      <td>2.543043</td>\n",
       "      <td>29833.0</td>\n",
       "      <td>30896.0</td>\n",
       "      <td>61.994909</td>\n",
       "      <td>8.901594</td>\n",
       "      <td>53.093316</td>\n",
       "      <td>1.799086</td>\n",
       "      <td>3286542.0</td>\n",
       "      <td>1603543.0</td>\n",
       "      <td>...</td>\n",
       "      <td>0.0</td>\n",
       "      <td>2.920962</td>\n",
       "      <td>2.920962</td>\n",
       "      <td>9.124194e+07</td>\n",
       "      <td>8.577664e+07</td>\n",
       "      <td>-0.950977</td>\n",
       "      <td>4.221481e+10</td>\n",
       "      <td>1.894168</td>\n",
       "      <td>1.371166</td>\n",
       "      <td>11.7</td>\n",
       "    </tr>\n",
       "    <tr>\n",
       "      <th>1</th>\n",
       "      <td>1991.0</td>\n",
       "      <td>0.141061</td>\n",
       "      <td>28894.0</td>\n",
       "      <td>29109.0</td>\n",
       "      <td>62.715405</td>\n",
       "      <td>9.191396</td>\n",
       "      <td>53.524009</td>\n",
       "      <td>-0.602810</td>\n",
       "      <td>3266790.0</td>\n",
       "      <td>1604790.0</td>\n",
       "      <td>...</td>\n",
       "      <td>0.0</td>\n",
       "      <td>1.676647</td>\n",
       "      <td>1.676647</td>\n",
       "      <td>9.124194e+07</td>\n",
       "      <td>8.577664e+07</td>\n",
       "      <td>6.149618</td>\n",
       "      <td>6.231237e+10</td>\n",
       "      <td>1.894168</td>\n",
       "      <td>1.371166</td>\n",
       "      <td>12.0</td>\n",
       "    </tr>\n",
       "    <tr>\n",
       "      <th>2</th>\n",
       "      <td>1992.0</td>\n",
       "      <td>0.878430</td>\n",
       "      <td>27689.0</td>\n",
       "      <td>26863.0</td>\n",
       "      <td>63.311979</td>\n",
       "      <td>9.516996</td>\n",
       "      <td>53.794984</td>\n",
       "      <td>-0.606435</td>\n",
       "      <td>3247039.0</td>\n",
       "      <td>1610302.0</td>\n",
       "      <td>...</td>\n",
       "      <td>300000.0</td>\n",
       "      <td>4.242424</td>\n",
       "      <td>4.364896</td>\n",
       "      <td>1.960311e+08</td>\n",
       "      <td>1.715959e+08</td>\n",
       "      <td>6.149618</td>\n",
       "      <td>6.231237e+10</td>\n",
       "      <td>3.480600</td>\n",
       "      <td>4.121177</td>\n",
       "      <td>12.2</td>\n",
       "    </tr>\n",
       "  </tbody>\n",
       "</table>\n",
       "<p>3 rows × 548 columns</p>\n",
       "</div>"
      ],
      "text/plain": [
       "     Year  SPURBGROW  SPPOPAG25FEIN  SPPOPAG25MAIN  SPPOPDPND  SPPOPDPNDOL  \\\n",
       "0  1990.0   2.543043        29833.0        30896.0  61.994909     8.901594   \n",
       "1  1991.0   0.141061        28894.0        29109.0  62.715405     9.191396   \n",
       "2  1992.0   0.878430        27689.0        26863.0  63.311979     9.516996   \n",
       "\n",
       "   SPPOPDPNDYG  SPPOPGROW  SPPOPTOTL  SPPOPTOTLFEIN  ...  BMTRFPRVTCD  \\\n",
       "0    53.093316   1.799086  3286542.0      1603543.0  ...          0.0   \n",
       "1    53.524009  -0.602810  3266790.0      1604790.0  ...          0.0   \n",
       "2    53.794984  -0.606435  3247039.0      1610302.0  ...     300000.0   \n",
       "\n",
       "   BMGSRINSFZS  TMVALINSFZSWT   FIRESTOTLCD   FIRESXGLDCD  NVINDTOTLKDZG  \\\n",
       "0     2.920962       2.920962  9.124194e+07  8.577664e+07      -0.950977   \n",
       "1     1.676647       1.676647  9.124194e+07  8.577664e+07       6.149618   \n",
       "2     4.242424       4.364896  1.960311e+08  1.715959e+08       6.149618   \n",
       "\n",
       "    NYGDPFCSTCN  NECONGOVTKDZG  NECONPRVTPCKDZG  SHSTAOB18FEZS  \n",
       "0  4.221481e+10       1.894168         1.371166           11.7  \n",
       "1  6.231237e+10       1.894168         1.371166           12.0  \n",
       "2  6.231237e+10       3.480600         4.121177           12.2  \n",
       "\n",
       "[3 rows x 548 columns]"
      ]
     },
     "execution_count": 5,
     "metadata": {},
     "output_type": "execute_result"
    }
   ],
   "source": [
    "completeDF.iloc[:3,1:549]"
   ]
  },
  {
   "cell_type": "markdown",
   "metadata": {},
   "source": [
    "---"
   ]
  },
  {
   "cell_type": "markdown",
   "metadata": {},
   "source": [
    "## Correlation generation"
   ]
  },
  {
   "cell_type": "markdown",
   "metadata": {},
   "source": [
    "### ***Generating correlation coefficients using .corr()***"
   ]
  },
  {
   "cell_type": "code",
   "execution_count": 6,
   "metadata": {
    "scrolled": true
   },
   "outputs": [
    {
     "data": {
      "text/html": [
       "<div>\n",
       "<style scoped>\n",
       "    .dataframe tbody tr th:only-of-type {\n",
       "        vertical-align: middle;\n",
       "    }\n",
       "\n",
       "    .dataframe tbody tr th {\n",
       "        vertical-align: top;\n",
       "    }\n",
       "\n",
       "    .dataframe thead th {\n",
       "        text-align: right;\n",
       "    }\n",
       "</style>\n",
       "<table border=\"1\" class=\"dataframe\">\n",
       "  <thead>\n",
       "    <tr style=\"text-align: right;\">\n",
       "      <th></th>\n",
       "      <th>SPURBGROW</th>\n",
       "      <th>SPPOPAG25FEIN</th>\n",
       "      <th>SPPOPAG25MAIN</th>\n",
       "      <th>SPPOPDPND</th>\n",
       "      <th>SPPOPDPNDOL</th>\n",
       "    </tr>\n",
       "  </thead>\n",
       "  <tbody>\n",
       "    <tr>\n",
       "      <th>SPURBGROW</th>\n",
       "      <td>1.000000</td>\n",
       "      <td>0.096373</td>\n",
       "      <td>0.093288</td>\n",
       "      <td>0.731157</td>\n",
       "      <td>-0.699875</td>\n",
       "    </tr>\n",
       "    <tr>\n",
       "      <th>SPPOPAG25FEIN</th>\n",
       "      <td>0.096373</td>\n",
       "      <td>1.000000</td>\n",
       "      <td>0.999571</td>\n",
       "      <td>-0.112233</td>\n",
       "      <td>-0.090000</td>\n",
       "    </tr>\n",
       "    <tr>\n",
       "      <th>SPPOPAG25MAIN</th>\n",
       "      <td>0.093288</td>\n",
       "      <td>0.999571</td>\n",
       "      <td>1.000000</td>\n",
       "      <td>-0.112257</td>\n",
       "      <td>-0.087194</td>\n",
       "    </tr>\n",
       "    <tr>\n",
       "      <th>SPPOPDPND</th>\n",
       "      <td>0.731157</td>\n",
       "      <td>-0.112233</td>\n",
       "      <td>-0.112257</td>\n",
       "      <td>1.000000</td>\n",
       "      <td>-0.626614</td>\n",
       "    </tr>\n",
       "    <tr>\n",
       "      <th>SPPOPDPNDOL</th>\n",
       "      <td>-0.699875</td>\n",
       "      <td>-0.090000</td>\n",
       "      <td>-0.087194</td>\n",
       "      <td>-0.626614</td>\n",
       "      <td>1.000000</td>\n",
       "    </tr>\n",
       "  </tbody>\n",
       "</table>\n",
       "</div>"
      ],
      "text/plain": [
       "               SPURBGROW  SPPOPAG25FEIN  SPPOPAG25MAIN  SPPOPDPND  SPPOPDPNDOL\n",
       "SPURBGROW       1.000000       0.096373       0.093288   0.731157    -0.699875\n",
       "SPPOPAG25FEIN   0.096373       1.000000       0.999571  -0.112233    -0.090000\n",
       "SPPOPAG25MAIN   0.093288       0.999571       1.000000  -0.112257    -0.087194\n",
       "SPPOPDPND       0.731157      -0.112233      -0.112257   1.000000    -0.626614\n",
       "SPPOPDPNDOL    -0.699875      -0.090000      -0.087194  -0.626614     1.000000"
      ]
     },
     "execution_count": 6,
     "metadata": {},
     "output_type": "execute_result"
    }
   ],
   "source": [
    "corrmatrixDF = completeDF.iloc[:,2:549].corr()\n",
    "\n",
    "corrmatrixDF.iloc[:5,:5]"
   ]
  },
  {
   "cell_type": "code",
   "execution_count": 7,
   "metadata": {},
   "outputs": [
    {
     "data": {
      "text/plain": [
       "(547, 547)"
      ]
     },
     "execution_count": 7,
     "metadata": {},
     "output_type": "execute_result"
    }
   ],
   "source": [
    "corrmatrixDF.shape"
   ]
  },
  {
   "cell_type": "code",
   "execution_count": 8,
   "metadata": {},
   "outputs": [
    {
     "name": "stdout",
     "output_type": "stream",
     "text": [
      "CPU times: user 24.4 s, sys: 12.5 ms, total: 24.5 s\n",
      "Wall time: 24.5 s\n"
     ]
    },
    {
     "data": {
      "text/plain": [
       "(149331, 3)"
      ]
     },
     "execution_count": 8,
     "metadata": {},
     "output_type": "execute_result"
    }
   ],
   "source": [
    "%%time\n",
    "#25 sec runtime\n",
    "\n",
    "x = 0\n",
    "y = 1\n",
    "corfeat1 = []\n",
    "corfeat2 = []\n",
    "corcoefs = []\n",
    "while x < corrmatrixDF.shape[0]:\n",
    "    while y < corrmatrixDF.shape[0]:\n",
    "        corcoef = corrmatrixDF.iloc[x, y]\n",
    "        corfeat1.append((corrmatrixDF.iloc[x,:].name))\n",
    "        corfeat2.append((corrmatrixDF.iloc[:,y].name))\n",
    "        corcoefs.append(corcoef)\n",
    "        y += 1\n",
    "    y = x + 2\n",
    "    x += 1\n",
    "    \n",
    "matrixcorrsDF = pd.DataFrame({\"indicator1\": corfeat1, \"indicator2\": corfeat2, \"correlation\": corcoefs})\n",
    "matrixcorrsDF = matrixcorrsDF[~matrixcorrsDF.correlation.isnull()] #Drops 4 NA results\n",
    "matrixcorrsDF.shape"
   ]
  },
  {
   "cell_type": "code",
   "execution_count": 9,
   "metadata": {
    "scrolled": true
   },
   "outputs": [
    {
     "data": {
      "text/html": [
       "<div>\n",
       "<style scoped>\n",
       "    .dataframe tbody tr th:only-of-type {\n",
       "        vertical-align: middle;\n",
       "    }\n",
       "\n",
       "    .dataframe tbody tr th {\n",
       "        vertical-align: top;\n",
       "    }\n",
       "\n",
       "    .dataframe thead th {\n",
       "        text-align: right;\n",
       "    }\n",
       "</style>\n",
       "<table border=\"1\" class=\"dataframe\">\n",
       "  <thead>\n",
       "    <tr style=\"text-align: right;\">\n",
       "      <th></th>\n",
       "      <th>indicator1</th>\n",
       "      <th>indicator2</th>\n",
       "      <th>correlation</th>\n",
       "    </tr>\n",
       "  </thead>\n",
       "  <tbody>\n",
       "    <tr>\n",
       "      <th>0</th>\n",
       "      <td>SPURBGROW</td>\n",
       "      <td>SPPOPAG25FEIN</td>\n",
       "      <td>0.096373</td>\n",
       "    </tr>\n",
       "    <tr>\n",
       "      <th>1</th>\n",
       "      <td>SPURBGROW</td>\n",
       "      <td>SPPOPAG25MAIN</td>\n",
       "      <td>0.093288</td>\n",
       "    </tr>\n",
       "  </tbody>\n",
       "</table>\n",
       "</div>"
      ],
      "text/plain": [
       "  indicator1     indicator2  correlation\n",
       "0  SPURBGROW  SPPOPAG25FEIN     0.096373\n",
       "1  SPURBGROW  SPPOPAG25MAIN     0.093288"
      ]
     },
     "execution_count": 9,
     "metadata": {},
     "output_type": "execute_result"
    }
   ],
   "source": [
    "matrixcorrsDF.head(2)"
   ]
  },
  {
   "cell_type": "code",
   "execution_count": 10,
   "metadata": {},
   "outputs": [],
   "source": [
    "matrixcorrsDF.to_csv('corrsDF.csv', index=False)"
   ]
  },
  {
   "cell_type": "markdown",
   "metadata": {},
   "source": [
    "---"
   ]
  },
  {
   "cell_type": "markdown",
   "metadata": {},
   "source": [
    "## Functions for Correlation Exploration"
   ]
  },
  {
   "cell_type": "markdown",
   "metadata": {},
   "source": [
    "### ***Indicator definition lookup***\n",
    "\n",
    "*Takes an array of indicators and returns their definitions in array form*"
   ]
  },
  {
   "cell_type": "code",
   "execution_count": 11,
   "metadata": {},
   "outputs": [
    {
     "data": {
      "text/html": [
       "<div>\n",
       "<style scoped>\n",
       "    .dataframe tbody tr th:only-of-type {\n",
       "        vertical-align: middle;\n",
       "    }\n",
       "\n",
       "    .dataframe tbody tr th {\n",
       "        vertical-align: top;\n",
       "    }\n",
       "\n",
       "    .dataframe thead th {\n",
       "        text-align: right;\n",
       "    }\n",
       "</style>\n",
       "<table border=\"1\" class=\"dataframe\">\n",
       "  <thead>\n",
       "    <tr style=\"text-align: right;\">\n",
       "      <th></th>\n",
       "      <th>indicator1</th>\n",
       "      <th>indicator2</th>\n",
       "      <th>correlation</th>\n",
       "    </tr>\n",
       "  </thead>\n",
       "  <tbody>\n",
       "    <tr>\n",
       "      <th>0</th>\n",
       "      <td>SPURBGROW</td>\n",
       "      <td>SPPOPAG25FEIN</td>\n",
       "      <td>0.096373</td>\n",
       "    </tr>\n",
       "    <tr>\n",
       "      <th>1</th>\n",
       "      <td>SPURBGROW</td>\n",
       "      <td>SPPOPAG25MAIN</td>\n",
       "      <td>0.093288</td>\n",
       "    </tr>\n",
       "  </tbody>\n",
       "</table>\n",
       "</div>"
      ],
      "text/plain": [
       "  indicator1     indicator2  correlation\n",
       "0  SPURBGROW  SPPOPAG25FEIN     0.096373\n",
       "1  SPURBGROW  SPPOPAG25MAIN     0.093288"
      ]
     },
     "execution_count": 11,
     "metadata": {},
     "output_type": "execute_result"
    }
   ],
   "source": [
    "#Loading saved generated pearsonR correlation dataframe\n",
    "pearsoncorrsDF = pd.read_csv(\"corrsDF.csv\")\n",
    "\n",
    "pearsoncorrsDF = pearsoncorrsDF[~pearsoncorrsDF.correlation.isnull()] #Drops 4 NA results\n",
    "\n",
    "pearsoncorrsDF.head(2)"
   ]
  },
  {
   "cell_type": "code",
   "execution_count": 12,
   "metadata": {},
   "outputs": [],
   "source": [
    "def ind_def_lookup(indicatorarray):\n",
    "    \n",
    "    defs = []\n",
    "    \n",
    "    indicatordict = pd.read_csv('../../M1/make_indicator_dict/Indicator_Dict.csv')\n",
    "    \n",
    "    indicatordict.columns = [\"IndicatorCode\", \"IndicatorName\"]\n",
    "    \n",
    "    for ind in indicatorarray:\n",
    "        if ind not in indicatordict[\"IndicatorCode\"].unique():\n",
    "            defs.append(ind)\n",
    "        else:\n",
    "            defs.append(indicatordict[indicatordict[\"IndicatorCode\"] == ind][\"IndicatorName\"].values[0])\n",
    "        \n",
    "    return defs"
   ]
  },
  {
   "cell_type": "code",
   "execution_count": 13,
   "metadata": {
    "scrolled": false
   },
   "outputs": [
    {
     "name": "stdout",
     "output_type": "stream",
     "text": [
      "AGCONFERTZS :  ['Fertilizer consumption (kilograms per hectare of arable land)']\n",
      "AGLNDARBLZS :  ['Arable land (% of land area)']\n",
      "AGPRDLVSKXD :  ['Livestock production index (2014-2016 = 100)']\n",
      "BMGSRCMCPZS :  ['Communications, computer, etc. (% of service imports, BoP)']\n",
      "BMTRFPWKRCDDT :  ['Personal remittances, paid (current US$)']\n",
      "BNGSRFCTYCD :  ['Net primary income (BoP, current US$)']\n",
      "BXTRFPWKRCDDT :  ['Personal remittances, received (current US$)']\n",
      "EGELCCOALZS :  ['Electricity production from coal sources (% of total)']\n",
      "EGELCFOSLZS :  ['Electricity production from oil, gas and coal sources (% of total)']\n",
      "ENATMCO2EPPGDKD :  ['CO2 emissions (kg per 2017 PPP $ of GDP)']\n",
      "ENATMCO2ESFZS :  ['CO2 emissions from solid fuel consumption (% of total)']\n",
      "FIRESTOTLMO :  ['Total reserves in months of imports']\n",
      "FMASTCGOVZGM3 :  ['Claims on central government (annual growth as % of broad money)']\n",
      "FMLBLBMNYCN :  ['Broad money (current LCU)']\n",
      "IMMIGRATION :  ['IMMIGRATION']\n",
      "ISAIRGOODMTK1 :  ['Air transport, freight (million ton-km)']\n",
      "ITCELSETSP2 :  ['Mobile cellular subscriptions (per 100 people)']\n",
      "MSMILTOTLP1 :  ['Armed forces personnel, total']\n",
      "NECONPRVTKN :  ['Households and NPISHs Final consumption expenditure (constant LCU)']\n",
      "NECONPRVTPCKD :  ['Households and NPISHs Final consumption expenditure per capita (constant 2015 US$)']\n",
      "NEGDIFTOTCN :  ['Gross fixed capital formation (current LCU)']\n",
      "NEGDIFTOTZS :  ['Gross fixed capital formation (% of GDP)']\n",
      "NEGDITOTLKD :  ['Gross capital formation (constant 2015 US$)']\n",
      "NEIMPGNFSZS :  ['Imports of goods and services (% of GDP)']\n",
      "NVAGRTOTLCD :  ['Agriculture, forestry, and fishing, value added (current US$)']\n",
      "NVINDEMPLKD :  ['Industry (including construction), value added per worker (constant 2015 US$)']\n",
      "NVINDMANFKDZG :  ['Manufacturing, value added (annual % growth)']\n",
      "NVSRVTOTLKN :  ['Services, value added (constant LCU)']\n",
      "NYADJNNTYKD :  ['Adjusted net national income (constant 2015 US$)']\n",
      "NYGDPFCSTCN :  ['Gross value added at basic prices (GVA) (current LCU)']\n",
      "NYGDPTOTLRTZS :  ['Total natural resources rents (% of GDP)']\n",
      "NYGNPMKTPKD :  ['GNI (constant 2015 US$)']\n",
      "NYGNSICTRGNZS :  ['Gross savings (% of GNI)']\n",
      "NYGSRNFCYCD :  ['Net primary income (Net income from abroad) (current US$)']\n",
      "SESECENRLGCFEZS :  ['Secondary education, general pupils (% female)']\n",
      "SGHMETRVLEQ :  ['A woman can travel outside her home in the same way as a man (1=yes; 0=no)']\n",
      "SGLAWINDX :  ['Women Business and the Law Index Score (scale 1-100)']\n",
      "SGOWNPRRTIM :  ['Men and married women have equal ownership rights to immovable property (1=yes; 0=no)']\n",
      "SHDTH0509 :  ['Number of deaths ages 5-9 years']\n",
      "SHDTH1519 :  ['Number of deaths ages 15-19 years']\n",
      "SHDYN0509 :  ['Probability of dying among children ages 5-9 years (per 1,000)']\n",
      "SHDYNMORTFE :  ['Mortality rate, under-5, female (per 1,000)']\n",
      "SHHTNTRETFEZS :  ['Treatment for hypertension, female (% of female adults ages 30-79 with hypertension)']\n",
      "SHIMMIBCG :  ['Immunization, BCG (% of one-year-old children)']\n",
      "SHIMMMEAS :  ['Immunization, measles (% of children ages 12-23 months)']\n",
      "SHSTAOWADMAZS :  ['Prevalence of overweight, male (% of male adults)']\n",
      "SLEMP1524SPMAZS :  ['Employment to population ratio, ages 15-24, male (%) (modeled ILO estimate)']\n",
      "SLEMPTOTLSPZS :  ['Employment to population ratio, 15+, total (%) (modeled ILO estimate)']\n",
      "SLFAMWORKMAZS :  ['Contributing family workers, male (% of male employment) (modeled ILO estimate)']\n",
      "SLINDEMPLFEZS :  ['Employment in industry, female (% of female employment) (modeled ILO estimate)']\n",
      "SLSRVEMPLFEZS :  ['Employment in services, female (% of female employment) (modeled ILO estimate)']\n",
      "SLTLFACTIFEZS :  ['Labor force participation rate, female (% of female population ages 15-64) (modeled ILO estimate)']\n",
      "SLTLFACTIZS :  ['Labor force participation rate, total (% of total population ages 15-64) (modeled ILO estimate)']\n",
      "SLTLFTOTLFEIN :  ['Labor force, female']\n",
      "SLUEM1524FEZS :  ['Unemployment, youth female (% of female labor force ages 15-24) (modeled ILO estimate)']\n",
      "SLUEM1524FMZS :  ['Ratio of female to male youth unemployment rate (% ages 15-24) (modeled ILO estimate)']\n",
      "SLUEM1524ZS :  ['Unemployment, youth total (% of total labor force ages 15-24) (modeled ILO estimate)']\n",
      "SLUEMTOTLFEZS :  ['Unemployment, female (% of female labor force) (modeled ILO estimate)']\n",
      "SPADOTFRT :  ['Adolescent fertility rate (births per 1,000 women ages 15-19)']\n",
      "SPDYNAMRTFE :  ['Mortality rate, adult, female (per 1,000 female adults)']\n",
      "SPDYNLE00FEIN :  ['Life expectancy at birth, female (years)']\n",
      "SPDYNLE00IN :  ['Life expectancy at birth, total (years)']\n",
      "SPDYNLE00MAIN :  ['Life expectancy at birth, male (years)']\n",
      "SPDYNTO65FEZS :  ['Survival to age 65, female (% of cohort)']\n",
      "SPPOP0509FE5Y :  ['Population ages 05-09, female (% of female population)']\n",
      "SPPOP0509MA5Y :  ['Population ages 05-09, male (% of male population)']\n",
      "SPPOP1014FE5Y :  ['Population ages 10-14, female (% of female population)']\n",
      "SPPOP1014MA5Y :  ['Population ages 10-14, male (% of male population)']\n",
      "SPPOP1519FE5Y :  ['Population ages 15-19, female (% of female population)']\n",
      "SPPOP1519MA5Y :  ['Population ages 15-19, male (% of male population)']\n",
      "SPPOP2024FE5Y :  ['Population ages 20-24, female (% of female population)']\n",
      "SPPOP2024MA5Y :  ['Population ages 20-24, male (% of male population)']\n",
      "SPPOP2529FE5Y :  ['Population ages 25-29, female (% of female population)']\n",
      "SPPOP2529MA5Y :  ['Population ages 25-29, male (% of male population)']\n",
      "SPPOP3034FE5Y :  ['Population ages 30-34, female (% of female population)']\n",
      "SPPOP3034MA5Y :  ['Population ages 30-34, male (% of male population)']\n",
      "SPPOP3539FE5Y :  ['Population ages 35-39, female (% of female population)']\n",
      "SPPOP3539MA5Y :  ['Population ages 35-39, male (% of male population)']\n",
      "SPPOP4044FE5Y :  ['Population ages 40-44, female (% of female population)']\n",
      "SPPOP4044MA5Y :  ['Population ages 40-44, male (% of male population)']\n",
      "SPPOP4549FE5Y :  ['Population ages 45-49, female (% of female population)']\n",
      "SPPOP4549MA5Y :  ['Population ages 45-49, male (% of male population)']\n",
      "SPPOP5054FE5Y :  ['Population ages 50-54, female (% of female population)']\n",
      "SPPOP5054MA5Y :  ['Population ages 50-54, male (% of male population)']\n",
      "SPPOP5559FE5Y :  ['Population ages 55-59, female (% of female population)']\n",
      "SPPOP5559MA5Y :  ['Population ages 55-59, male (% of male population)']\n",
      "SPPOP6064FE5Y :  ['Population ages 60-64, female (% of female population)']\n",
      "SPPOP6064MA5Y :  ['Population ages 60-64, male (% of male population)']\n",
      "SPPOP6569FE5Y :  ['Population ages 65-69, female (% of female population)']\n",
      "SPPOP6569MA5Y :  ['Population ages 65-69, male (% of male population)']\n",
      "SPPOP7074FE5Y :  ['Population ages 70-74, female (% of female population)']\n",
      "SPPOP7074MA5Y :  ['Population ages 70-74, male (% of male population)']\n",
      "SPPOP7579FE5Y :  ['Population ages 75-79, female (% of female population)']\n",
      "SPPOP7579MA5Y :  ['Population ages 75-79, male (% of male population)']\n",
      "SPPOP80UPFE5Y :  ['Population ages 80 and older, female (% of female population)']\n",
      "SPPOP80UPMA5Y :  ['Population ages 80 and above, male (% of male population)']\n",
      "SPPOPGROW :  ['Population growth (annual %)']\n",
      "SPRURTOTLZS :  ['Rural population (% of total population)']\n",
      "SPURBGROW :  ['Urban population growth (annual %)']\n",
      "SPURBTOTLINZS :  ['Urban population (% of total population)']\n",
      "TGVALTOTLGDZS :  ['Merchandise trade (% of GDP)']\n",
      "TMVALMANFZSUN :  ['Manufactures imports (% of merchandise imports)']\n",
      "TMVALTRANZSWT :  ['Transport services (% of commercial service imports)']\n",
      "TXUVIMRCHXDWD :  ['Export unit value index (2000 = 100)']\n",
      "TXVALMMTLZSUN :  ['Ores and metals exports (% of merchandise exports)']\n",
      "TXVALMRCHALZS :  ['Merchandise exports to economies in the Arab World (% of total merchandise exports)']\n",
      "TXVALMRCHR6ZS :  ['Merchandise exports to low- and middle-income economies in Sub-Saharan Africa (% of total merchandise exports)']\n"
     ]
    }
   ],
   "source": [
    "for i in [\"AGCONFERTZS\", \"AGLNDARBLZS\", \"AGPRDLVSKXD\", \"BMGSRCMCPZS\", \"BMTRFPWKRCDDT\", \"BNGSRFCTYCD\", \"BXTRFPWKRCDDT\", \"EGELCCOALZS\", \"EGELCFOSLZS\", \"ENATMCO2EPPGDKD\", \"ENATMCO2ESFZS\", \"FIRESTOTLMO\", \"FMASTCGOVZGM3\", \"FMLBLBMNYCN\", \"IMMIGRATION\", \"ISAIRGOODMTK1\", \"ITCELSETSP2\", \"MSMILTOTLP1\", \"NECONPRVTKN\", \"NECONPRVTPCKD\", \"NEGDIFTOTCN\", \"NEGDIFTOTZS\", \"NEGDITOTLKD\", \"NEIMPGNFSZS\", \"NVAGRTOTLCD\", \"NVINDEMPLKD\", \"NVINDMANFKDZG\", \"NVSRVTOTLKN\", \"NYADJNNTYKD\", \"NYGDPFCSTCN\", \"NYGDPTOTLRTZS\", \"NYGNPMKTPKD\", \"NYGNSICTRGNZS\", \"NYGSRNFCYCD\", \"SESECENRLGCFEZS\", \"SGHMETRVLEQ\", \"SGLAWINDX\", \"SGOWNPRRTIM\", \"SHDTH0509\", \"SHDTH1519\", \"SHDYN0509\", \"SHDYNMORTFE\", \"SHHTNTRETFEZS\", \"SHIMMIBCG\", \"SHIMMMEAS\", \"SHSTAOWADMAZS\", \"SLEMP1524SPMAZS\", \"SLEMPTOTLSPZS\", \"SLFAMWORKMAZS\", \"SLINDEMPLFEZS\", \"SLSRVEMPLFEZS\", \"SLTLFACTIFEZS\", \"SLTLFACTIZS\", \"SLTLFTOTLFEIN\", \"SLUEM1524FEZS\", \"SLUEM1524FMZS\", \"SLUEM1524ZS\", \"SLUEMTOTLFEZS\", \"SPADOTFRT\", \"SPDYNAMRTFE\", \"SPDYNLE00FEIN\", \"SPDYNLE00IN\", \"SPDYNLE00MAIN\", \"SPDYNTO65FEZS\", \"SPPOP0509FE5Y\", \"SPPOP0509MA5Y\", \"SPPOP1014FE5Y\", \"SPPOP1014MA5Y\", \"SPPOP1519FE5Y\", \"SPPOP1519MA5Y\", \"SPPOP2024FE5Y\", \"SPPOP2024MA5Y\", \"SPPOP2529FE5Y\", \"SPPOP2529MA5Y\", \"SPPOP3034FE5Y\", \"SPPOP3034MA5Y\", \"SPPOP3539FE5Y\", \"SPPOP3539MA5Y\", \"SPPOP4044FE5Y\", \"SPPOP4044MA5Y\", \"SPPOP4549FE5Y\", \"SPPOP4549MA5Y\", \"SPPOP5054FE5Y\", \"SPPOP5054MA5Y\", \"SPPOP5559FE5Y\", \"SPPOP5559MA5Y\", \"SPPOP6064FE5Y\", \"SPPOP6064MA5Y\", \"SPPOP6569FE5Y\", \"SPPOP6569MA5Y\", \"SPPOP7074FE5Y\", \"SPPOP7074MA5Y\", \"SPPOP7579FE5Y\", \"SPPOP7579MA5Y\", \"SPPOP80UPFE5Y\", \"SPPOP80UPMA5Y\", \"SPPOPGROW\", \"SPRURTOTLZS\", \"SPURBGROW\", \"SPURBTOTLINZS\", \"TGVALTOTLGDZS\", \"TMVALMANFZSUN\", \"TMVALTRANZSWT\", \"TXUVIMRCHXDWD\", \"TXVALMMTLZSUN\", \"TXVALMRCHALZS\", \"TXVALMRCHR6ZS\"]:\n",
    "    print(i, \": \",  ind_def_lookup([i]))"
   ]
  },
  {
   "cell_type": "code",
   "execution_count": 14,
   "metadata": {
    "scrolled": false
   },
   "outputs": [
    {
     "data": {
      "text/plain": [
       "['Agricultural land (sq. km)',\n",
       " 'Permanent cropland (% of land area)',\n",
       " 'Forest area (sq. km)',\n",
       " 'Forest area (% of land area)',\n",
       " 'Food production index (2014-2016 = 100)',\n",
       " 'Communications, computer, etc. (% of service imports, BoP)',\n",
       " 'Personal remittances, paid (current US$)',\n",
       " 'Current account balance (% of GDP)',\n",
       " 'Personal remittances, received (current US$)',\n",
       " 'Personal remittances, received (% of GDP)',\n",
       " 'Electricity production from hydroelectric sources (% of total)',\n",
       " 'Electricity production from natural gas sources (% of total)',\n",
       " 'Electricity production from renewable sources, excluding hydroelectric (% of total)',\n",
       " 'CO2 emissions (kg per 2017 PPP $ of GDP)',\n",
       " 'CO2 emissions from solid fuel consumption (% of total)',\n",
       " 'Total greenhouse gas emissions (kt of CO2 equivalent)',\n",
       " 'Agricultural methane emissions (thousand metric tons of CO2 equivalent)',\n",
       " 'Population density (people per sq. km of land area)',\n",
       " 'Population in urban agglomerations of more than 1 million (% of total population)',\n",
       " 'Capture fisheries production (metric tons)',\n",
       " 'Total reserves in months of imports',\n",
       " 'Claims on central government (annual growth as % of broad money)',\n",
       " 'Consumer price index (2010 = 100)',\n",
       " 'IMMIGRATION',\n",
       " 'Air transport, freight (million ton-km)',\n",
       " 'Air transport, passengers carried',\n",
       " 'Households and NPISHs Final consumption expenditure per capita (constant 2015 US$)',\n",
       " 'Households and NPISHs final consumption expenditure (% of GDP)',\n",
       " 'Gross fixed capital formation (annual % growth)',\n",
       " 'Imports of goods and services (constant 2015 US$)',\n",
       " 'Agriculture, forestry, and fishing, value added (constant 2015 US$)',\n",
       " 'Industry (including construction), value added per worker (constant 2015 US$)',\n",
       " 'Manufacturing, value added (annual % growth)',\n",
       " 'Services, value added (constant 2015 US$)',\n",
       " 'Adjusted net savings, including particulate emission damage (% of GNI)',\n",
       " 'Gross value added at basic prices (GVA) (constant LCU)',\n",
       " 'Total natural resources rents (% of GDP)',\n",
       " 'GNI growth (annual %)',\n",
       " 'GNI per capita growth (annual %)',\n",
       " 'PPP conversion factor, GDP (LCU per international $)',\n",
       " 'PPP conversion factor, private consumption (LCU per international $)',\n",
       " 'A woman can travel outside her home in the same way as a man (1=yes; 0=no)',\n",
       " 'Women Business and the Law Index Score (scale 1-100)',\n",
       " 'Men and married women have equal ownership rights to immovable property (1=yes; 0=no)',\n",
       " 'Number of deaths ages 5-9 years',\n",
       " 'Number of deaths ages 15-19 years',\n",
       " 'Mortality rate, under-5, female (per 1,000)',\n",
       " 'Treatment for hypertension (% of adults ages 30-79 with hypertension)',\n",
       " 'Immunization, BCG (% of one-year-old children)',\n",
       " 'Immunization, measles (% of children ages 12-23 months)',\n",
       " 'Prevalence of overweight, male (% of male adults)',\n",
       " 'Employment in agriculture, female (% of female employment) (modeled ILO estimate)',\n",
       " 'Employers, female (% of female employment) (modeled ILO estimate)',\n",
       " 'Employment to population ratio, 15+, female (%) (modeled ILO estimate)',\n",
       " 'Contributing family workers, total (% of total employment) (modeled ILO estimate)',\n",
       " 'Labor force participation rate for ages 15-24, total (%) (modeled ILO estimate)',\n",
       " 'Labor force participation rate, male (% of male population ages 15-64) (modeled ILO estimate)',\n",
       " 'Labor force, total',\n",
       " 'Mortality rate, adult, female (per 1,000 female adults)',\n",
       " 'Death rate, crude (per 1,000 people)',\n",
       " 'Life expectancy at birth, female (years)',\n",
       " 'Survival to age 65, female (% of cohort)',\n",
       " 'Population ages 05-09, female (% of female population)',\n",
       " 'Population ages 05-09, male (% of male population)',\n",
       " 'Population ages 10-14, female (% of female population)',\n",
       " 'Population ages 10-14, male (% of male population)',\n",
       " 'Population ages 15-19, female (% of female population)',\n",
       " 'Population ages 15-19, male (% of male population)',\n",
       " 'Population ages 20-24, female (% of female population)',\n",
       " 'Population ages 20-24, male (% of male population)',\n",
       " 'Population ages 25-29, female (% of female population)',\n",
       " 'Population ages 25-29, male (% of male population)',\n",
       " 'Population ages 30-34, female (% of female population)',\n",
       " 'Population ages 30-34, male (% of male population)',\n",
       " 'Population ages 35-39, female (% of female population)',\n",
       " 'Population ages 35-39, male (% of male population)',\n",
       " 'Population ages 40-44, female (% of female population)',\n",
       " 'Population ages 40-44, male (% of male population)',\n",
       " 'Population ages 45-49, female (% of female population)',\n",
       " 'Population ages 45-49, male (% of male population)',\n",
       " 'Population ages 50-54, female (% of female population)',\n",
       " 'Population ages 50-54, male (% of male population)',\n",
       " 'Population ages 55-59, female (% of female population)',\n",
       " 'Population ages 55-59, male (% of male population)',\n",
       " 'Population ages 60-64, female (% of female population)',\n",
       " 'Population ages 60-64, male (% of male population)',\n",
       " 'Population ages 65-69, female (% of female population)',\n",
       " 'Population ages 65-69, male (% of male population)',\n",
       " 'Population ages 70-74, female (% of female population)',\n",
       " 'Population ages 70-74, male (% of male population)',\n",
       " 'Population ages 75-79, female (% of female population)',\n",
       " 'Population ages 75-79, male (% of male population)',\n",
       " 'Population ages 80 and older, female (% of female population)',\n",
       " 'Population ages 80 and above, male (% of male population)',\n",
       " 'Age dependency ratio (% of working-age population)',\n",
       " 'Age dependency ratio, old',\n",
       " 'Rural population (% of total population)',\n",
       " 'Urban population growth (annual %)',\n",
       " 'Urban population (% of total population)',\n",
       " 'Import unit value index (2000 = 100)',\n",
       " 'Ores and metals imports (% of merchandise imports)',\n",
       " 'Merchandise imports from low- and middle-income economies in South Asia (% of total merchandise imports)',\n",
       " 'Transport services (% of commercial service imports)',\n",
       " 'Ores and metals exports (% of merchandise exports)',\n",
       " 'Merchandise exports to economies in the Arab World (% of total merchandise exports)',\n",
       " 'Merchandise exports to low- and middle-income economies outside region (% of total merchandise exports)',\n",
       " 'Merchandise exports to low- and middle-income economies in Europe & Central Asia (% of total merchandise exports)',\n",
       " 'Merchandise exports to low- and middle-income economies in Sub-Saharan Africa (% of total merchandise exports)',\n",
       " 'Export value index (2000 = 100)']"
      ]
     },
     "execution_count": 14,
     "metadata": {},
     "output_type": "execute_result"
    }
   ],
   "source": [
    "ind_def_lookup([\"AGLNDAGRIK2\", \"AGLNDCROPZS\", \"AGLNDFRSTK2\", \"AGLNDFRSTZS\", \"AGPRDFOODXD\", \"BMGSRCMCPZS\", \"BMTRFPWKRCDDT\", \"BNCABXOKAGDZS\", \"BXTRFPWKRCDDT\", \"BXTRFPWKRDTGDZS\", \"EGELCHYROZS\", \"EGELCNGASZS\", \"EGELCRNWXZS\", \"ENATMCO2EPPGDKD\", \"ENATMCO2ESFZS\", \"ENATMGHGTKTCE\", \"ENATMMETHAGKTCE\", \"ENPOPDNST\", \"ENURBMCTYTLZS\", \"ERFSHCAPTMT\", \"FIRESTOTLMO\", \"FMASTCGOVZGM3\", \"FPCPITOTL\", \"IMMIGRATION\", \"ISAIRGOODMTK1\", \"ISAIRPSGR\", \"NECONPRVTPCKD\", \"NECONPRVTZS\", \"NEGDIFTOTKDZG\", \"NEIMPGNFSKD\", \"NVAGRTOTLKD\", \"NVINDEMPLKD\", \"NVINDMANFKDZG\", \"NVSRVTOTLKD\", \"NYADJSVNGGNZS\", \"NYGDPFCSTKN\", \"NYGDPTOTLRTZS\", \"NYGNPMKTPKDZG\", \"NYGNPPCAPKDZG\", \"PANUSPPP\", \"PANUSPRVTPP\", \"SGHMETRVLEQ\", \"SGLAWINDX\", \"SGOWNPRRTIM\", \"SHDTH0509\", \"SHDTH1519\", \"SHDYNMORTFE\", \"SHHTNTRETZS\", \"SHIMMIBCG\", \"SHIMMMEAS\", \"SHSTAOWADMAZS\", \"SLAGREMPLFEZS\", \"SLEMPMPYRFEZS\", \"SLEMPTOTLSPFEZS\", \"SLFAMWORKZS\", \"SLTLFACTI1524ZS\", \"SLTLFACTIMAZS\", \"SLTLFTOTLIN\", \"SPDYNAMRTFE\", \"SPDYNCDRTIN\", \"SPDYNLE00FEIN\", \"SPDYNTO65FEZS\", \"SPPOP0509FE5Y\", \"SPPOP0509MA5Y\", \"SPPOP1014FE5Y\", \"SPPOP1014MA5Y\", \"SPPOP1519FE5Y\", \"SPPOP1519MA5Y\", \"SPPOP2024FE5Y\", \"SPPOP2024MA5Y\", \"SPPOP2529FE5Y\", \"SPPOP2529MA5Y\", \"SPPOP3034FE5Y\", \"SPPOP3034MA5Y\", \"SPPOP3539FE5Y\", \"SPPOP3539MA5Y\", \"SPPOP4044FE5Y\", \"SPPOP4044MA5Y\", \"SPPOP4549FE5Y\", \"SPPOP4549MA5Y\", \"SPPOP5054FE5Y\", \"SPPOP5054MA5Y\", \"SPPOP5559FE5Y\", \"SPPOP5559MA5Y\", \"SPPOP6064FE5Y\", \"SPPOP6064MA5Y\", \"SPPOP6569FE5Y\", \"SPPOP6569MA5Y\", \"SPPOP7074FE5Y\", \"SPPOP7074MA5Y\", \"SPPOP7579FE5Y\", \"SPPOP7579MA5Y\", \"SPPOP80UPFE5Y\", \"SPPOP80UPMA5Y\", \"SPPOPDPND\", \"SPPOPDPNDOL\", \"SPRURTOTLZS\", \"SPURBGROW\", \"SPURBTOTLINZS\", \"TMUVIMRCHXDWD\", \"TMVALMMTLZSUN\", \"TMVALMRCHR5ZS\", \"TMVALTRANZSWT\", \"TXVALMMTLZSUN\", \"TXVALMRCHALZS\", \"TXVALMRCHORZS\", \"TXVALMRCHR2ZS\", \"TXVALMRCHR6ZS\", \"TXVALMRCHXDWD\"])"
   ]
  },
  {
   "cell_type": "code",
   "execution_count": 15,
   "metadata": {
    "scrolled": false
   },
   "outputs": [
    {
     "data": {
      "text/plain": [
       "['Access to electricity, urban (% of urban population)',\n",
       " 'Access to electricity (% of population)',\n",
       " 'Renewable electricity output (% of total electricity output)',\n",
       " 'Energy intensity level of primary energy (MJ/$2011 PPP GDP)',\n",
       " 'Access to electricity, rural (% of rural population)',\n",
       " 'Electricity production from oil sources (% of total)',\n",
       " 'Electricity production from oil, gas and coal sources (% of total)',\n",
       " 'Electricity production from coal sources (% of total)',\n",
       " 'Electricity production from hydroelectric sources (% of total)',\n",
       " 'Electricity production from natural gas sources (% of total)',\n",
       " 'Electricity production from renewable sources, excluding hydroelectric (% of total)',\n",
       " 'Electricity production from renewable sources, excluding hydroelectric (kWh)']"
      ]
     },
     "execution_count": 15,
     "metadata": {},
     "output_type": "execute_result"
    }
   ],
   "source": [
    "ind_def_lookup([\"EGELCACCSURZS\", \"EGELCACCSZS\", \"EGELCRNEWZS\", \"EGEGYPRIMPPKD\", \"EGELCACCSRUZS\", \"EGELCPETRZS\", \"EGELCFOSLZS\", \"EGELCCOALZS\", \"EGELCHYROZS\", \"EGELCNGASZS\", \"EGELCRNWXZS\", \"EGELCRNWXKH\"])"
   ]
  },
  {
   "cell_type": "markdown",
   "metadata": {},
   "source": [
    "### ***Correlation Generator Function***\n",
    "*Generates an array of correlations (correlation coefficient, correlated indicator, and definition) of a given indicator. Correlation thresholds may be specified*"
   ]
  },
  {
   "cell_type": "code",
   "execution_count": 16,
   "metadata": {},
   "outputs": [],
   "source": [
    "def ind_corr_gen(indicator, minimum=.3, maximum=.9):\n",
    "    \n",
    "    storedcorrs = []\n",
    "    \n",
    "    #Search for indicator in correlationDF\n",
    "    corrDF = pearsoncorrsDF[:].loc[(pearsoncorrsDF[\"indicator1\"] == indicator) | (pearsoncorrsDF[\"indicator2\"] == indicator)]\n",
    "    \n",
    "    \n",
    "    #Create a column of those indicators that correlate\n",
    "    corrDF['correlated_indicator'] = corrDF[\"indicator1\"].replace(indicator, \"\") + corrDF[\"indicator2\"].replace(indicator, \"\")\n",
    "    \n",
    "    #Filter DF by indicated correlation threshholds\n",
    "    corrDF = corrDF[(abs(corrDF[\"correlation\"]) > minimum) & (abs(corrDF[\"correlation\"] < maximum))]\n",
    "    \n",
    "    #Lookup definitions of correlated indicators\n",
    "    indicatordefs = indicator_definition_lookup(corrDF['correlated_indicator'])\n",
    "    \n",
    "    #Create array containing correlation, correlated indicator, and definition\n",
    "    for i, ind in enumerate(corrDF['correlated_indicator']):\n",
    "        correlation = corrDF.iloc[i,2:3].values[0]\n",
    "        storedcorrs.append([round(correlation, 4), ind, indicatordefs[i]])\n",
    "\n",
    "    #Return as array\n",
    "    print(\"Indicator searched: \", indicator_definition_lookup([indicator])[0]) #Uses above function to generate name\n",
    "    print(\"Total correlations: \", len(storedcorrs))\n",
    "    print(\" \")\n",
    "    return storedcorrs"
   ]
  },
  {
   "cell_type": "markdown",
   "metadata": {},
   "source": [
    "### ***Indicator Relationship Search***\n",
    "\n",
    "*Generates the correlation coefficient of two given indicators*"
   ]
  },
  {
   "cell_type": "code",
   "execution_count": 17,
   "metadata": {},
   "outputs": [],
   "source": [
    "def corr_finder(indicator1, indicator2):\n",
    "    if indicator1 == indicator2:\n",
    "        return 1\n",
    "    coef = pearsoncorrsDF[(pearsoncorrsDF[\"indicator1\"] == indicator1) & (pearsoncorrsDF[\"indicator2\"] == indicator2)]\n",
    "    coef = coef[\"correlation\"].values\n",
    "    if coef.size != 0:\n",
    "        print(\"Correlation: \", coef[0])\n",
    "    else:\n",
    "        coef = pearsoncorrsDF[(pearsoncorrsDF[\"indicator1\"] == indicator2) & (pearsoncorrsDF[\"indicator2\"] == indicator1)]\n",
    "        coef = coef[\"correlation\"].values\n",
    "        if coef.size == 0:\n",
    "            print('indicator not found')\n",
    "        else:\n",
    "            print(\"Correlation: \", coef[0])\n"
   ]
  },
  {
   "cell_type": "markdown",
   "metadata": {},
   "source": [
    "### ***Keyword Search***\n",
    "\n",
    "*Generates a list of indicators and their definitions which contain a given keyword*"
   ]
  },
  {
   "cell_type": "code",
   "execution_count": 18,
   "metadata": {},
   "outputs": [],
   "source": [
    "def ind_search(keyword):\n",
    "    \n",
    "    indices_to_filter = []\n",
    "    \n",
    "    indicatordict = pd.read_csv('../../M1/make_indicator_dict/Indicator_Dict.csv')\n",
    "    \n",
    "    indicatordict.columns = [\"IndicatorCode\", \"IndicatorName\"]\n",
    "    \n",
    "    indicatornames = indicatordict[\"IndicatorName\"].values\n",
    "    \n",
    "    for i in np.arange(len(indicatornames)):\n",
    "        if keyword in indicatornames[i]:\n",
    "            indices_to_filter.append(i)\n",
    "    \n",
    "    for j in indicatordict.filter(indices_to_filter, axis=0).values:\n",
    "        print(j[0], \":\", j[1])"
   ]
  },
  {
   "cell_type": "code",
   "execution_count": 19,
   "metadata": {
    "scrolled": false
   },
   "outputs": [
    {
     "name": "stdout",
     "output_type": "stream",
     "text": [
      "SEXPDTOTLGDZS : Government expenditure on education, total (% of GDP)\n",
      "SEXPDPRIMPCZS : Government expenditure per student, primary (% of GDP per capita)\n",
      "SEXPDSECOPCZS : Government expenditure per student, secondary (% of GDP per capita)\n",
      "SHXPDKHEXGDZS : Capital health expenditure (% of GDP)\n",
      "SHXPDCHEXGDZS : Current health expenditure (% of GDP)\n",
      "SHXPDGHEDGDZS : Domestic general government health expenditure (% of GDP)\n",
      "NVAGRTOTLZS : Agriculture, forestry, and fishing, value added (% of GDP)\n",
      "FMLBLBMNYGDZS : Broad money (% of GDP)\n",
      "GCDODTOTLGDZS : Central government debt, total (% of GDP)\n",
      "FSASTDOMOGDZS : Claims on other sectors of the domestic economy (% of GDP)\n",
      "NYGDPCOALRTZS : Coal rents (% of GDP)\n",
      "BNCABXOKAGDZS : Current account balance (% of GDP)\n",
      "FSASTDOMSGDZS : Domestic credit provided by financial sector (% of GDP)\n",
      "FSASTPRVTGDZS : Domestic credit to private sector (% of GDP)\n",
      "FDASTPRVTGDZS : Domestic credit to private sector by banks (% of GDP)\n",
      "GCXPNTOTLGDZS : Expense (% of GDP)\n",
      "NEEXPGNFSZS : Exports of goods and services (% of GDP)\n",
      "NERSBGNFSZS : External balance on goods and services (% of GDP)\n",
      "NECONTOTLZS : Final consumption expenditure (% of GDP)\n",
      "BXKLTDINVWDGDZS : Foreign direct investment, net inflows (% of GDP)\n",
      "BMKLTDINVWDGDZS : Foreign direct investment, net outflows (% of GDP)\n",
      "NYGDPFRSTRTZS : Forest rents (% of GDP)\n",
      "NECONGOVTZS : General government final consumption expenditure (% of GDP)\n",
      "SEXPDTERTPCZS : Government expenditure per student, tertiary (% of GDP per capita)\n",
      "NEGDITOTLZS : Gross capital formation (% of GDP)\n",
      "NYGDSTOTLZS : Gross domestic savings (% of GDP)\n",
      "NEGDIFTOTZS : Gross fixed capital formation (% of GDP)\n",
      "NEGDIFPRVZS : Gross fixed capital formation, private sector (% of GDP)\n",
      "NEDABTOTLZS : Gross national expenditure (% of GDP)\n",
      "NYGNSICTRZS : Gross savings (% of GDP)\n",
      "NECONPRVTZS : Households and NPISHs final consumption expenditure (% of GDP)\n",
      "NEIMPGNFSZS : Imports of goods and services (% of GDP)\n",
      "NVINDTOTLZS : Industry (including construction), value added (% of GDP)\n",
      "NVINDMANFZS : Manufacturing, value added (% of GDP)\n",
      "CMMKTLCAPGDZS : Market capitalization of listed domestic companies (% of GDP)\n",
      "TGVALTOTLGDZS : Merchandise trade (% of GDP)\n",
      "MSMILXPNDGDZS : Military expenditure (% of GDP)\n",
      "NYGDPMINRRTZS : Mineral rents (% of GDP)\n",
      "NYGDPNGASRTZS : Natural gas rents (% of GDP)\n",
      "GCASTTOTLGDZS : Net acquisition of financial assets (% of GDP)\n",
      "GCLBLTOTLGDZS : Net incurrence of liabilities, total (% of GDP)\n",
      "GCNFNTOTLGDZS : Net investment in nonfinancial assets (% of GDP)\n",
      "GCNLDTOTLGDZS : Net lending (+) / net borrowing (-) (% of GDP)\n",
      "NYGDPPETRRTZS : Oil rents (% of GDP)\n",
      "BXTRFPWKRDTGDZS : Personal remittances, received (% of GDP)\n",
      "GBXPDRSDVGDZS : Research and development expenditure (% of GDP)\n",
      "GCREVXGRTGDZS : Revenue, excluding grants (% of GDP)\n",
      "NVSRVTOTLZS : Services, value added (% of GDP)\n",
      "CMMKTTRADGDZS : Stocks traded, total value (% of GDP)\n",
      "GCTAXTOTLGDZS : Tax revenue (% of GDP)\n",
      "NYGDPTOTLRTZS : Total natural resources rents (% of GDP)\n",
      "NETRDGNFSZS : Trade (% of GDP)\n",
      "BGGSRNFSVGDZS : Trade in services (% of GDP)\n"
     ]
    }
   ],
   "source": [
    "ind_search('% of GDP')"
   ]
  },
  {
   "cell_type": "markdown",
   "metadata": {},
   "source": [
    "---"
   ]
  },
  {
   "cell_type": "markdown",
   "metadata": {},
   "source": [
    "## Test Area"
   ]
  },
  {
   "cell_type": "code",
   "execution_count": 15,
   "metadata": {
    "scrolled": false
   },
   "outputs": [
    {
     "name": "stdout",
     "output_type": "stream",
     "text": [
      "Indicator searched:  Gross savings (current LCU)\n",
      "Total correlations:  17\n",
      " \n"
     ]
    },
    {
     "data": {
      "text/plain": [
       "[[0.9798, 'NYGDPMKTPCN', 'GDP (current LCU)'],\n",
       " [0.9798, 'NYGDPMKTPCNAD', 'GDP: linked series (current LCU)'],\n",
       " [0.965, 'NEGDITOTLCN', 'Gross capital formation (current LCU)'],\n",
       " [0.978, 'NYGNPMKTPCN', 'GNI (current LCU)'],\n",
       " [0.978, 'NYGNPMKTPCNAD', 'GNI: linked series (current LCU)'],\n",
       " [0.9805, 'NECONTOTLCN', 'Final consumption expenditure (current LCU)'],\n",
       " [0.9782, 'NEDABTOTLCN', 'Gross national expenditure (current LCU)'],\n",
       " [0.9659, 'NYGDSTOTLCN', 'Gross domestic savings (current LCU)'],\n",
       " [0.9512,\n",
       "  'NECONGOVTCN',\n",
       "  'General government final consumption expenditure (current LCU)'],\n",
       " [0.9801,\n",
       "  'NECONPRVTCN',\n",
       "  'Households and NPISHs Final consumption expenditure (current LCU)'],\n",
       " [0.9878, 'NEGDIFTOTCN', 'Gross fixed capital formation (current LCU)'],\n",
       " [0.9801,\n",
       "  'NECONPRVTCNAD',\n",
       "  'Households and NPISHs final consumption expenditure: linked series (current LCU)'],\n",
       " [0.96,\n",
       "  'NVAGRTOTLCN',\n",
       "  'Agriculture, forestry, and fishing, value added (current LCU)'],\n",
       " [0.9878,\n",
       "  'NVINDTOTLCN',\n",
       "  'Industry (including construction), value added (current LCU)'],\n",
       " [0.9568, 'NVSRVTOTLCN', 'Services, value added (current LCU)'],\n",
       " [0.9734, 'NVINDMANFCN', 'Manufacturing, value added (current LCU)'],\n",
       " [0.9784,\n",
       "  'NYGDPFCSTCN',\n",
       "  'Gross value added at basic prices (GVA) (current LCU)']]"
      ]
     },
     "execution_count": 15,
     "metadata": {},
     "output_type": "execute_result"
    }
   ],
   "source": [
    "ind_corr_gen(\"NYGNSICTRCN\")"
   ]
  },
  {
   "cell_type": "code",
   "execution_count": 16,
   "metadata": {},
   "outputs": [
    {
     "data": {
      "text/plain": [
       "['Death rate, crude (per 1,000 people)']"
      ]
     },
     "execution_count": 16,
     "metadata": {},
     "output_type": "execute_result"
    }
   ],
   "source": [
    "ind_def_lookup(['SPDYNCDRTIN'])"
   ]
  },
  {
   "cell_type": "markdown",
   "metadata": {},
   "source": [
    "### *Result of NO SP run*"
   ]
  },
  {
   "cell_type": "code",
   "execution_count": 17,
   "metadata": {
    "scrolled": true
   },
   "outputs": [
    {
     "data": {
      "text/plain": [
       "['Women Business and the Law Index Score (scale 1-100)',\n",
       " 'Adjusted savings: education expenditure (% of GNI)',\n",
       " 'Length of paid maternity leave (calendar days)',\n",
       " 'Population density (people per sq. km of land area)',\n",
       " 'Lower secondary school starting age (years)',\n",
       " 'Mortality rate, under-5 (per 1,000)',\n",
       " 'Mortality rate, under-5, female (per 1,000)',\n",
       " 'Number of infant deaths, male',\n",
       " 'Adjusted savings: energy depletion (current US$)',\n",
       " 'Arable land (% of land area)',\n",
       " 'Livestock production index (2014-2016 = 100)',\n",
       " 'Permanent cropland (% of land area)',\n",
       " 'Total natural resources rents (% of GDP)',\n",
       " 'Mortality rate, neonatal (per 1,000 live births)',\n",
       " 'Cereal yield (kg per hectare)',\n",
       " 'GDP per capita (constant LCU)',\n",
       " 'Merchandise imports from high-income economies (% of total merchandise imports)',\n",
       " 'Merchandise imports by the reporting economy, residual (% of total merchandise imports)',\n",
       " 'Mobile cellular subscriptions',\n",
       " 'CO2 emissions from solid fuel consumption (kt)',\n",
       " 'Population in largest city',\n",
       " 'Population in the largest city (% of urban population)',\n",
       " 'Adjusted savings: carbon dioxide damage (% of GNI)',\n",
       " 'Merchandise imports from low- and middle-income economies in South Asia (% of total merchandise imports)',\n",
       " 'Merchandise exports to low- and middle-income economies in Sub-Saharan Africa (% of total merchandise exports)',\n",
       " 'GNI, Atlas method (current US$)',\n",
       " 'GNI per capita, Atlas method (current US$)',\n",
       " 'CO2 emissions (kg per 2015 US$ of GDP)',\n",
       " 'Fertilizer consumption (kilograms per hectare of arable land)',\n",
       " 'Merchandise imports from low- and middle-income economies in Middle East & North Africa (% of total merchandise imports)',\n",
       " 'Households and NPISHs final consumption expenditure (% of GDP)',\n",
       " 'Prevalence of overweight (% of adults)',\n",
       " 'Prevalence of obesity, female (% of female population ages 18+)',\n",
       " 'Merchandise imports from low- and middle-income economies in Europe & Central Asia (% of total merchandise imports)',\n",
       " 'Population in urban agglomerations of more than 1 million',\n",
       " 'Population in urban agglomerations of more than 1 million (% of total population)',\n",
       " 'Energy related methane emissions (% of total)',\n",
       " 'Current account balance (BoP, current US$)',\n",
       " 'Exports of goods, services and primary income (BoP, current US$)',\n",
       " 'Net secondary income (Net current transfers from abroad) (current LCU)',\n",
       " 'Transport services (% of commercial service imports)',\n",
       " 'Communications, computer, etc. (% of service imports, BoP)',\n",
       " 'Travel services (% of commercial service imports)',\n",
       " 'Travel services (% of service exports, BoP)',\n",
       " 'Immunization, measles (% of children ages 12-23 months)',\n",
       " 'Manufactures imports (% of merchandise imports)',\n",
       " 'Fuel imports (% of merchandise imports)',\n",
       " 'Manufactures exports (% of merchandise exports)',\n",
       " 'Broad money to total reserves ratio',\n",
       " 'Industry (including construction), value added (constant LCU)',\n",
       " 'Net ODA received per capita (current US$)',\n",
       " 'Total reserves in months of imports',\n",
       " 'Electricity production from coal sources (% of total)',\n",
       " 'Fuel exports (% of merchandise exports)',\n",
       " 'Gross capital formation (constant LCU)',\n",
       " 'Gross national expenditure (constant LCU)',\n",
       " 'Import value index (2000 = 100)',\n",
       " 'Energy imports, net (% of energy use)',\n",
       " 'CO2 emissions from other sectors, excluding residential buildings and commercial and public services (% of total fuel combustion)',\n",
       " 'CO2 emissions from transport (% of total fuel combustion)',\n",
       " 'Fossil fuel energy consumption (% of total)',\n",
       " 'Electric power transmission and distribution losses (% of output)',\n",
       " 'Gross savings (current US$)']"
      ]
     },
     "execution_count": 17,
     "metadata": {},
     "output_type": "execute_result"
    }
   ],
   "source": [
    "vars_generated = [\"SGLAWINDX\", \"NYADJAEDUGNZS\", \"SHMMRLEVE\", \"ENPOPDNST\", \"SESECAGES\", \"SHDYNMORT\", \"SHDYNMORTFE\", \"SHDTHIMRTMA\", \"NYADJDNGYCD\", \"AGLNDARBLZS\", \"AGPRDLVSKXD\", \"AGLNDCROPZS\", \"NYGDPTOTLRTZS\", \"SHDYNNMRT\", \"AGYLDCRELKG\", \"NYGDPPCAPKN\", \"TMVALMRCHHIZS\", \"TMVALMRCHRSZS\", \"ITCELSETS\", \"ENATMCO2ESFKT\", \"ENURBLCTY\", \"ENURBLCTYURZS\", \"NYADJDCO2GNZS\", \"TMVALMRCHR5ZS\", \"TXVALMRCHR6ZS\", \"NYGNPATLSCD\", \"NYGNPPCAPCD\", \"ENATMCO2EKDGD\", \"AGCONFERTZS\", \"TMVALMRCHR4ZS\", \"NECONPRVTZS\", \"SHSTAOWADZS\", \"SHSTAOB18FEZS\", \"TMVALMRCHR2ZS\", \"ENURBMCTY\", \"ENURBMCTYTLZS\", \"ENATMMETHEGZS\", \"BNCABXOKACD\", \"BXGSRTOTLCD\", \"NYTRFNCTRCN\", \"TMVALTRANZSWT\", \"BMGSRCMCPZS\", \"TMVALTRVLZSWT\", \"BXGSRTRVLZS\", \"SHIMMMEAS\", \"TMVALMANFZSUN\", \"TMVALFUELZSUN\", \"TXVALMANFZSUN\", \"FMLBLBMNYIRZS\", \"NVINDTOTLKN\", \"DTODAODATPCZS\", \"FIRESTOTLMO\", \"EGELCCOALZS\", \"TXVALFUELZSUN\", \"NEGDITOTLKN\", \"NEDABTOTLKN\", \"TMVALMRCHXDWD\", \"EGIMPCONSZS\", \"ENCO2OTHXZS\", \"ENCO2TRANZS\", \"EGUSECOMMFOZS\", \"EGELCLOSSZS\", \"NYGNSICTRCD\"]\n",
    "ind_def_lookup(vars_generated)"
   ]
  },
  {
   "cell_type": "markdown",
   "metadata": {},
   "source": [
    "### *Europe*"
   ]
  },
  {
   "cell_type": "code",
   "execution_count": 18,
   "metadata": {},
   "outputs": [],
   "source": [
    "eu_vars_generated = [\"SPPOPAG05FEIN\", \"SPPOPAG01FEIN\", \"SPDYNTO65MAZS\", \"SPDYNTO65FEZS\", \"SPPOP2529FE5Y\", \"SPPOP1564TOZS\", \"SPPOP1014MA5Y\", \"SPPOP0509FE5Y\", \"SPPOPDPNDOL\", \"SPPOP0509FE\", \"SPPOP1014MA\", \"SPPOP1519MA\", \"SPPOP2529MA\", \"SPPOPGROW\", \"ENPOPDNST\", \"AGSRFTOTLK2\", \"TXVALMRCHRSZS\", \"TGVALTOTLGDZS\", \"ITCELSETSP2\", \"TMVALFUELZSUN\", \"EGELCHYROZS\", \"NYADJNNATGNZS\", \"ENCO2ETOTZS\", \"BMTRFPWKRCDDT\"]\n",
    "#ind_def_lookup(eu_vars_generated)"
   ]
  },
  {
   "cell_type": "markdown",
   "metadata": {},
   "source": [
    "### *Africa*"
   ]
  },
  {
   "cell_type": "code",
   "execution_count": 19,
   "metadata": {},
   "outputs": [],
   "source": [
    "af_vars_generated = [\"SPADOTFRT\", \"SPPOP65UPMAZS\", \"SPPOP65UPTOZS\", \"SPPOP7074FE5Y\", \"SPPOPAG01MAIN\", \"SPPOPAG03FEIN\", \"SPDYNTO65MAZS\", \"SPPOP1564FEZS\", \"SPPOP1014MA5Y\", \"SPPOP0509MA5Y\", \"SPPOP0509FE5Y\", \"SPDYNLE00MAIN\", \"SPPOP5054FE5Y\", \"SPPOP4044MA5Y\", \"SPPOP4549FE\", \"SPPOP5559MA\", \"SPPOPGROW\", \"ENPOPDNST\", \"SESECDURS\", \"SPDYNIMRTFEIN\", \"TMVALMRCHHIZS\", \"ITCELSETSP2\", \"NYADJDNGYGNZS\", \"MSMILXPNDGDZS\", \"NECONGOVTZS\", \"SHSTAOB18FEZS\", \"SHSTAOB18MAZS\", \"NVAGRTOTLZS\", \"NVAGRTOTLCD\", \"NVINDMANFZS\", \"SHIMMMEAS\", \"EGUSEELECKHPC\"]\n",
    "#ind_def_lookup(af_vars_generated)"
   ]
  },
  {
   "cell_type": "markdown",
   "metadata": {},
   "source": [
    "### *South America*"
   ]
  },
  {
   "cell_type": "code",
   "execution_count": 20,
   "metadata": {},
   "outputs": [],
   "source": [
    "sa_vars_generated = [\"SPADOTFRT\", \"SPPOPAG04FEIN\", \"SGLAWOBHBMRNO\", \"SPPOP1564TOZS\", \"SPDYNCDRTIN\", \"SPPOP1014MA5Y\", \"SPPOP0509MA5Y\", \"SGLAWINDX\", \"SPPOP4549MA5Y\", \"SPPOPDPNDOL\", \"SPPOP6064FE\", \"SPRURTOTLZG\", \"PANUSATLS\", \"SHDYNNMRT\", \"ENATMCO2ELFZS\", \"TXVALMRCHORZS\", \"TMVALMRCHR4ZS\", \"NECONGOVTZS\", \"DCDACTOTLCD\", \"TXVALAGRIZSUN\", \"NECONGOVTKD\", \"BXTRFPWKRDTGDZS\", \"DTNFLUNDPCD\", \"EGUSECRNWZS\"]\n",
    "#ind_def_lookup(sa_vars_generated)"
   ]
  },
  {
   "cell_type": "markdown",
   "metadata": {},
   "source": [
    "### *Asia*"
   ]
  },
  {
   "cell_type": "code",
   "execution_count": 21,
   "metadata": {},
   "outputs": [],
   "source": [
    "asia_vars_generated = [\"SPPOP6569FE5Y\", \"SPADOTFRT\", \"SPDYNTO65FEZS\", \"SPPOP1564MAZS\", \"SPPOP1014MA5Y\", \"SPPOP0509MA5Y\", \"SPDYNLE00FEIN\", \"SPPOP3539FE5Y\", \"SPPOP5559MA5Y\", \"SPPOPDPND\", \"SPPOPDPNDOL\", \"IMMIGRATION\", \"SPURBGROW\", \"SPPOPGROW\", \"SPDYNIMRTMAIN\", \"SPDYNIMRTFEIN\", \"AGLNDAGRIZS\", \"AGLNDARBLHAPC\", \"TMVALMRCHHIZS\", \"NYGDPDEFLZS\", \"NYADJDKAPGNZS\", \"NYADJDCO2GNZS\", \"NECONGOVTZS\", \"FMASTPRVTGDZS\", \"PANUSFCRF\", \"BXGSRNFSVCD\", \"SHIMMMEAS\", \"DTODAALLDKD\", \"TMVALFUELZSUN\", \"BXGSRINSFZS\", \"FIRESTOTLMO\", \"EGELCRNWXZS\", \"NEGDITOTLKD\", \"EGELCLOSSZS\"]\n",
    "#ind_def_lookup(as_vars_generated)"
   ]
  },
  {
   "cell_type": "markdown",
   "metadata": {},
   "source": [
    "### *North America*"
   ]
  },
  {
   "cell_type": "code",
   "execution_count": 22,
   "metadata": {},
   "outputs": [],
   "source": [
    "na_vars_generated = [\"SPADOTFRT\", \"SPPOP1564TOZS\", \"SPPOP1519FE5Y\", \"SPPOP1014MA5Y\", \"SPDYNLE00FEIN\", \"SHMMRLEVE\", \"SGOPNBANKEQ\", \"SPPOPDPNDOL\", \"ENPOPDNST\", \"SPRURTOTLZG\", \"SPDYNAMRTMA\", \"SPDYNIMRTMAIN\", \"SPDYNIMRTFEIN\", \"SHDTHIMRTFE\", \"AGLNDARBLHA\", \"NYGDPFRSTRTZS\", \"BXKLTDINVWDGDZS\", \"NYADJDKAPGNZS\", \"NYADJDCO2GNZS\", \"SEPRMENRR\", \"NECONPRVTZS\", \"ENURBMCTYTLZS\", \"TXVALFOODZSUN\", \"EGELCHYROZS\", \"NEGDITOTLKN\", \"NEDABTOTLKN\", \"NEGDIFTOTKD\", \"EGIMPCONSZS\"]\n",
    "#ind_def_lookup(na_vars_generated)"
   ]
  },
  {
   "cell_type": "code",
   "execution_count": 23,
   "metadata": {},
   "outputs": [
    {
     "data": {
      "text/plain": [
       "[('SPPOP1014MA5Y', 5),\n",
       " ('SPADOTFRT', 4),\n",
       " ('SPPOPDPNDOL', 4),\n",
       " ('SPPOP1564TOZS', 3),\n",
       " ('ENPOPDNST', 3),\n",
       " ('SPDYNIMRTFEIN', 3),\n",
       " ('SPPOP0509MA5Y', 3),\n",
       " ('SPPOPGROW', 3),\n",
       " ('NECONGOVTZS', 3),\n",
       " ('SPDYNLE00FEIN', 2),\n",
       " ('SPRURTOTLZG', 2),\n",
       " ('SPDYNIMRTMAIN', 2),\n",
       " ('NYADJDKAPGNZS', 2),\n",
       " ('NYADJDCO2GNZS', 2),\n",
       " ('EGELCHYROZS', 2)]"
      ]
     },
     "execution_count": 23,
     "metadata": {},
     "output_type": "execute_result"
    }
   ],
   "source": [
    "Counter(na_vars_generated + asia_vars_generated + sa_vars_generated + af_vars_generated + eu_vars_generated).most_common(15)"
   ]
  },
  {
   "cell_type": "markdown",
   "metadata": {},
   "source": [
    "---"
   ]
  },
  {
   "cell_type": "markdown",
   "metadata": {},
   "source": [
    "### *Europe No SP*"
   ]
  },
  {
   "cell_type": "code",
   "execution_count": 24,
   "metadata": {},
   "outputs": [
    {
     "data": {
      "text/plain": [
       "['The mandatory retirement age for men and women is the same (1=yes; 0=no)',\n",
       " 'Women Business and the Law Index Score (scale 1-100)',\n",
       " 'Length of paid maternity leave (calendar days)',\n",
       " 'Population density (people per sq. km of land area)',\n",
       " 'Mortality rate, under-5 (per 1,000)',\n",
       " 'Mortality rate, under-5, female (per 1,000)',\n",
       " 'Agricultural methane emissions (thousand metric tons of CO2 equivalent)',\n",
       " 'Food production index (2014-2016 = 100)',\n",
       " 'GDP per capita (Current US$)',\n",
       " 'Merchandise imports by the reporting economy, residual (% of total merchandise imports)',\n",
       " 'Merchandise trade (% of GDP)',\n",
       " 'Foreign direct investment, net inflows (% of GDP)',\n",
       " 'Adjusted savings: carbon dioxide damage (% of GNI)',\n",
       " 'Coal rents (% of GDP)',\n",
       " 'CO2 emissions (kg per 2015 US$ of GDP)',\n",
       " 'Military expenditure (current USD)',\n",
       " 'Military expenditure (% of GDP)',\n",
       " 'General government final consumption expenditure (% of GDP)',\n",
       " 'School enrollment, primary (% gross)',\n",
       " 'Merchandise exports to low- and middle-income economies in Latin America & the Caribbean (% of total merchandise exports)',\n",
       " 'Agriculture, forestry, and fishing, value added (% of GDP)',\n",
       " 'Industry (including construction), value added (current LCU)',\n",
       " 'Travel services (% of service imports, BoP)',\n",
       " 'Food exports (% of merchandise exports)',\n",
       " 'Insurance and financial services (% of service exports, BoP)',\n",
       " 'Secondary education, pupils',\n",
       " 'General government final consumption expenditure (annual % growth)',\n",
       " 'Personal remittances, received (% of GDP)',\n",
       " 'Net ODA received per capita (current US$)',\n",
       " 'Households and NPISHs Final consumption expenditure per capita growth (annual %)',\n",
       " 'Energy imports, net (% of energy use)',\n",
       " 'Gross capital formation (annual % growth)',\n",
       " 'CO2 emissions from other sectors, excluding residential buildings and commercial and public services (% of total fuel combustion)',\n",
       " 'CO2 emissions from transport (% of total fuel combustion)']"
      ]
     },
     "execution_count": 24,
     "metadata": {},
     "output_type": "execute_result"
    }
   ],
   "source": [
    "vars_generated = [\"SGAGEMRETEQ\", \"SGLAWINDX\", \"SHMMRLEVE\", \"ENPOPDNST\", \"SHDYNMORT\", \"SHDYNMORTFE\", \"ENATMMETHAGKTCE\", \"AGPRDFOODXD\", \"NYGDPPCAPCD\", \"TMVALMRCHRSZS\", \"TGVALTOTLGDZS\", \"BXKLTDINVWDGDZS\", \"NYADJDCO2GNZS\", \"NYGDPCOALRTZS\", \"ENATMCO2EKDGD\", \"MSMILXPNDCD\", \"MSMILXPNDGDZS\", \"NECONGOVTZS\", \"SEPRMENRR\", \"TXVALMRCHR3ZS\", \"NVAGRTOTLZS\", \"NVINDTOTLCN\", \"BMGSRTRVLZS\", \"TXVALFOODZSUN\", \"BXGSRINSFZS\", \"SESECENRL\", \"NECONGOVTKDZG\", \"BXTRFPWKRDTGDZS\", \"DTODAODATPCZS\", \"NECONPRVTPCKDZG\", \"EGIMPCONSZS\", \"NEGDITOTLKDZG\", \"ENCO2OTHXZS\", \"ENCO2TRANZS\"]\n",
    "ind_def_lookup(vars_generated)"
   ]
  },
  {
   "cell_type": "markdown",
   "metadata": {},
   "source": [
    "### *Africa No SP*"
   ]
  },
  {
   "cell_type": "code",
   "execution_count": 25,
   "metadata": {},
   "outputs": [
    {
     "data": {
      "text/plain": [
       "['Women Business and the Law Index Score (scale 1-100)',\n",
       " 'Adjusted savings: education expenditure (% of GNI)',\n",
       " 'Population density (people per sq. km of land area)',\n",
       " 'Secondary education, duration (years)',\n",
       " 'Lower secondary school starting age (years)',\n",
       " 'Number of infant deaths, female',\n",
       " 'Fixed telephone subscriptions (per 100 people)',\n",
       " 'Arable land (hectares per person)',\n",
       " 'Food production index (2014-2016 = 100)',\n",
       " 'Mortality rate, neonatal (per 1,000 live births)',\n",
       " 'Cereal yield (kg per hectare)',\n",
       " 'Number of neonatal deaths',\n",
       " 'GDP growth (annual %)',\n",
       " 'GDP per capita growth (annual %)',\n",
       " 'CO2 emissions from liquid fuel consumption (% of total)',\n",
       " 'CO2 emissions from gaseous fuel consumption (% of total)',\n",
       " 'Adjusted savings: carbon dioxide damage (% of GNI)',\n",
       " 'Coal rents (% of GDP)',\n",
       " 'Imports of goods and services (% of GDP)',\n",
       " 'Trade (% of GDP)',\n",
       " 'Merchandise imports from low- and middle-income economies in Middle East & North Africa (% of total merchandise imports)',\n",
       " 'Aquaculture production (metric tons)',\n",
       " 'Households and NPISHs final consumption expenditure (% of GDP)',\n",
       " 'Consumer price index (2010 = 100)',\n",
       " 'Prevalence of obesity, female (% of female population ages 18+)',\n",
       " 'Population in urban agglomerations of more than 1 million (% of total population)',\n",
       " 'Immunization, measles (% of children ages 12-23 months)',\n",
       " 'Gross value added at basic prices (GVA) (constant LCU)',\n",
       " 'Manufactures exports (% of merchandise exports)',\n",
       " 'Broad money to total reserves ratio',\n",
       " 'Personal remittances, received (current US$)',\n",
       " 'Electricity production from coal sources (% of total)',\n",
       " 'Adjusted savings: net national savings (% of GNI)',\n",
       " 'Adjusted savings: net national savings (current US$)',\n",
       " 'Electric power consumption (kWh per capita)',\n",
       " 'Gross capital formation (annual % growth)',\n",
       " 'CO2 emissions from residential buildings and commercial and public services (% of total fuel combustion)',\n",
       " 'Gross national expenditure deflator (base year varies by country)',\n",
       " 'Personal remittances, paid (current US$)']"
      ]
     },
     "execution_count": 25,
     "metadata": {},
     "output_type": "execute_result"
    }
   ],
   "source": [
    "vars_generated = [\"SGLAWINDX\", \"NYADJAEDUGNZS\", \"ENPOPDNST\", \"SESECDURS\", \"SESECAGES\", \"SHDTHIMRTFE\", \"ITMLTMAINP2\", \"AGLNDARBLHAPC\", \"AGPRDFOODXD\", \"SHDYNNMRT\", \"AGYLDCRELKG\", \"SHDTHNMRT\", \"NYGDPMKTPKDZG\", \"NYGDPPCAPKDZG\", \"ENATMCO2ELFZS\", \"ENATMCO2EGFZS\", \"NYADJDCO2GNZS\", \"NYGDPCOALRTZS\", \"NEIMPGNFSZS\", \"NETRDGNFSZS\", \"TMVALMRCHR4ZS\", \"ERFSHAQUAMT\", \"NECONPRVTZS\", \"FPCPITOTL\", \"SHSTAOB18FEZS\", \"ENURBMCTYTLZS\", \"SHIMMMEAS\", \"NYGDPFCSTKN\", \"TXVALMANFZSUN\", \"FMLBLBMNYIRZS\", \"BXTRFPWKRCDDT\", \"EGELCCOALZS\", \"NYADJNNATGNZS\", \"NYADJNNATCD\", \"EGUSEELECKHPC\", \"NEGDITOTLKDZG\", \"ENCO2BLDGZS\", \"NEDABDEFLZS\", \"BMTRFPWKRCDDT\"]\n",
    "ind_def_lookup(vars_generated)"
   ]
  },
  {
   "cell_type": "markdown",
   "metadata": {},
   "source": [
    "### *Asia No SP*"
   ]
  },
  {
   "cell_type": "code",
   "execution_count": 26,
   "metadata": {},
   "outputs": [
    {
     "data": {
      "text/plain": [
       "['Population density (people per sq. km of land area)',\n",
       " 'Mortality rate, under-5 (per 1,000)',\n",
       " 'Adjusted savings: energy depletion (current US$)',\n",
       " 'Agricultural land (% of land area)',\n",
       " 'Livestock production index (2014-2016 = 100)',\n",
       " 'Foreign direct investment, net inflows (BoP, current US$)',\n",
       " 'Mineral rents (% of GDP)',\n",
       " 'Mortality rate, neonatal (per 1,000 live births)',\n",
       " 'Cereal yield (kg per hectare)',\n",
       " 'Merchandise imports from high-income economies (% of total merchandise imports)',\n",
       " 'Merchandise imports by the reporting economy, residual (% of total merchandise imports)',\n",
       " 'CO2 emissions from gaseous fuel consumption (% of total)',\n",
       " 'Population in the largest city (% of urban population)',\n",
       " 'Adjusted savings: carbon dioxide damage (% of GNI)',\n",
       " 'Oil rents (% of GDP)',\n",
       " 'Merchandise imports from low- and middle-income economies in Middle East & North Africa (% of total merchandise imports)',\n",
       " 'Adjusted net national income per capita (current US$)',\n",
       " 'Merchandise exports to low- and middle-income economies in Latin America & the Caribbean (% of total merchandise exports)',\n",
       " 'Domestic credit to private sector by banks (% of GDP)',\n",
       " 'Merchandise imports from low- and middle-income economies in Europe & Central Asia (% of total merchandise imports)',\n",
       " 'Agriculture, forestry, and fishing, value added (% of GDP)',\n",
       " 'Official exchange rate (LCU per US$, period average)',\n",
       " 'School enrollment, primary (gross), gender parity index (GPI)',\n",
       " 'School enrollment, primary, male (% gross)',\n",
       " 'Primary education, pupils (% female)',\n",
       " 'Population in urban agglomerations of more than 1 million (% of total population)',\n",
       " 'Agriculture, forestry, and fishing, value added (annual % growth)',\n",
       " 'Net secondary income (Net current transfers from abroad) (current LCU)',\n",
       " 'Communications, computer, etc. (% of service exports, BoP)',\n",
       " 'Immunization, DPT (% of children ages 12-23 months)',\n",
       " 'Transport services (% of service exports, BoP)',\n",
       " 'Insurance and financial services (% of service imports, BoP)',\n",
       " 'Grants, excluding technical cooperation (BoP, current US$)',\n",
       " 'Industry (including construction), value added (constant 2015 US$)',\n",
       " 'Electricity production from renewable sources, excluding hydroelectric (% of total)',\n",
       " 'Manufacturing, value added (constant LCU)',\n",
       " 'Combustible renewables and waste (% of total energy)',\n",
       " 'CO2 emissions from other sectors, excluding residential buildings and commercial and public services (% of total fuel combustion)',\n",
       " 'CO2 emissions from residential buildings and commercial and public services (% of total fuel combustion)',\n",
       " 'Electric power transmission and distribution losses (% of output)']"
      ]
     },
     "execution_count": 26,
     "metadata": {},
     "output_type": "execute_result"
    }
   ],
   "source": [
    "vars_generated = [\"ENPOPDNST\", \"SHDYNMORT\", \"NYADJDNGYCD\", \"AGLNDAGRIZS\", \"AGPRDLVSKXD\", \"BXKLTDINVCDWD\", \"NYGDPMINRRTZS\", \"SHDYNNMRT\", \"AGYLDCRELKG\", \"TMVALMRCHHIZS\", \"TMVALMRCHRSZS\", \"ENATMCO2EGFZS\", \"ENURBLCTYURZS\", \"NYADJDCO2GNZS\", \"NYGDPPETRRTZS\", \"TMVALMRCHR4ZS\", \"NYADJNNTYPCCD\", \"TXVALMRCHR3ZS\", \"FDASTPRVTGDZS\", \"TMVALMRCHR2ZS\", \"NVAGRTOTLZS\", \"PANUSFCRF\", \"SEENRPRIMFMZS\", \"SEPRMENRRMA\", \"SEPRMENRLFEZS\", \"ENURBMCTYTLZS\", \"NVAGRTOTLKDZG\", \"NYTRFNCTRCN\", \"BXGSRCMCPZS\", \"SHIMMIDPT\", \"BXGSRTRANZS\", \"BMGSRINSFZS\", \"BXGRTEXTACDWD\", \"NVINDTOTLKD\", \"EGELCRNWXZS\", \"NVINDMANFKN\", \"EGUSECRNWZS\", \"ENCO2OTHXZS\", \"ENCO2BLDGZS\", \"EGELCLOSSZS\"]\n",
    "ind_def_lookup(vars_generated)"
   ]
  },
  {
   "cell_type": "code",
   "execution_count": 27,
   "metadata": {},
   "outputs": [
    {
     "data": {
      "text/plain": [
       "[]"
      ]
     },
     "execution_count": 27,
     "metadata": {},
     "output_type": "execute_result"
    }
   ],
   "source": [
    "vars_generated = []\n",
    "ind_def_lookup(vars_generated)"
   ]
  },
  {
   "cell_type": "code",
   "execution_count": 28,
   "metadata": {},
   "outputs": [
    {
     "data": {
      "text/plain": [
       "[]"
      ]
     },
     "execution_count": 28,
     "metadata": {},
     "output_type": "execute_result"
    }
   ],
   "source": [
    "vars_generated = []\n",
    "ind_def_lookup(vars_generated)"
   ]
  },
  {
   "cell_type": "markdown",
   "metadata": {},
   "source": [
    "---"
   ]
  },
  {
   "cell_type": "markdown",
   "metadata": {},
   "source": [
    "## Results of Feature Selection"
   ]
  },
  {
   "cell_type": "markdown",
   "metadata": {},
   "source": [
    "### *Random Method - 'swamy-arora'*"
   ]
  },
  {
   "cell_type": "code",
   "execution_count": 20,
   "metadata": {},
   "outputs": [
    {
     "data": {
      "text/plain": [
       "['Age dependency ratio, old',\n",
       " 'Adolescent fertility rate (births per 1,000 women ages 15-19)',\n",
       " 'Survival to age 65, male (% of cohort)',\n",
       " 'Population ages 10-14, female (% of female population)',\n",
       " 'Population ages 05-09, male (% of male population)',\n",
       " 'Population ages 15-64 (% of total population)',\n",
       " 'Population ages 20-24, female (% of female population)',\n",
       " 'Death rate, crude (per 1,000 people)',\n",
       " 'Mortality rate, under-5, male (per 1,000)',\n",
       " 'Population ages 60-64, male (% of male population)',\n",
       " 'Population ages 65 and above, female (% of female population)',\n",
       " 'Population ages 65 and above, male (% of male population)',\n",
       " 'Population ages 30-34, male',\n",
       " 'Total natural resources rents (% of GDP)',\n",
       " 'GDP growth (annual %)',\n",
       " 'GDP per capita growth (annual %)',\n",
       " 'Merchandise imports from low- and middle-income economies in Latin America & the Caribbean (% of total merchandise imports)',\n",
       " 'Arable land (% of land area)',\n",
       " 'Livestock production index (2014-2016 = 100)',\n",
       " 'GNI per capita, PPP (current international $)',\n",
       " 'Merchandise exports to low- and middle-income economies in Sub-Saharan Africa (% of total merchandise exports)',\n",
       " 'Unemployment, total (% of total labor force) (modeled ILO estimate)',\n",
       " 'Export value index (2000 = 100)',\n",
       " 'CO2 emissions (kg per 2017 PPP $ of GDP)',\n",
       " 'Transport services (% of service imports, BoP)',\n",
       " 'Access to electricity, urban (% of urban population)',\n",
       " 'GNI per capita (constant LCU)',\n",
       " 'Renewable electricity output (% of total electricity output)',\n",
       " 'Immunization, BCG (% of one-year-old children)',\n",
       " 'Secondary education, general pupils',\n",
       " 'Electricity production from oil, gas and coal sources (% of total)']"
      ]
     },
     "execution_count": 20,
     "metadata": {},
     "output_type": "execute_result"
    }
   ],
   "source": [
    "sa_results = [\"SPPOPDPNDOL\", \"SPADOTFRT\", \"SPDYNTO65MAZS\", \"SPPOP1014FE5Y\", \"SPPOP0509MA5Y\", \"SPPOP1564TOZS\", \"SPPOP2024FE5Y\", \"SPDYNCDRTIN\", \"SHDYNMORTMA\", \"SPPOP6064MA5Y\", \"SPPOP65UPFEZS\", \"SPPOP65UPMAZS\", \"SPPOP3034MA\", \"NYGDPTOTLRTZS\", \"NYGDPMKTPKDZG\", \"NYGDPPCAPKDZG\", \"TMVALMRCHR3ZS\", \"AGLNDARBLZS\", \"AGPRDLVSKXD\", \"NYGNPPCAPPPCD\", \"TXVALMRCHR6ZS\", \"SLUEMTOTLZS\", \"TXVALMRCHXDWD\", \"ENATMCO2EPPGDKD\", \"BMGSRTRANZS\", \"EGELCACCSURZS\", \"NYGNPPCAPKN\", \"EGELCRNEWZS\", \"SHIMMIBCG\", \"SESECENRLGC\", \"EGELCFOSLZS\"]\n",
    "ind_def_lookup(sa_results)"
   ]
  },
  {
   "cell_type": "markdown",
   "metadata": {},
   "source": [
    "### *Random Method  - 'nerlove'*"
   ]
  },
  {
   "cell_type": "code",
   "execution_count": 21,
   "metadata": {},
   "outputs": [
    {
     "data": {
      "text/plain": [
       "['Adolescent fertility rate (births per 1,000 women ages 15-19)',\n",
       " 'Survival to age 65, female (% of cohort)',\n",
       " 'Population ages 10-14, female (% of female population)',\n",
       " 'Population ages 15-19, male',\n",
       " 'Population ages 05-09, male (% of male population)',\n",
       " 'Population ages 15-64 (% of total population)',\n",
       " 'Population ages 20-24, female (% of female population)',\n",
       " 'Life expectancy at birth, female (years)',\n",
       " 'Population ages 60-64, male (% of male population)',\n",
       " 'Population ages 65 and above, female (% of female population)',\n",
       " 'Population ages 65 and above, male (% of male population)',\n",
       " 'Population ages 80 and older, female (% of female population)',\n",
       " 'Total natural resources rents (% of GDP)',\n",
       " 'Mortality rate, adult, female (per 1,000 female adults)',\n",
       " 'GDP growth (annual %)',\n",
       " 'GDP per capita growth (annual %)',\n",
       " 'Labor force participation rate, male (% of male population ages 15-64) (modeled ILO estimate)',\n",
       " 'GDP per capita, PPP (constant 2017 international $)',\n",
       " 'Gross fixed capital formation (% of GDP)',\n",
       " 'Agriculture, forestry, and fishing, value added (constant 2015 US$)',\n",
       " 'Merchandise exports to low- and middle-income economies in Sub-Saharan Africa (% of total merchandise exports)',\n",
       " 'Contributing family workers, male (% of male employment) (modeled ILO estimate)',\n",
       " 'Employment to population ratio, ages 15-24, male (%) (modeled ILO estimate)',\n",
       " 'Employment in agriculture (% of total employment) (modeled ILO estimate)',\n",
       " 'Merchandise exports to low- and middle-income economies in Middle East & North Africa (% of total merchandise exports)',\n",
       " 'Refugee population by country or territory of asylum',\n",
       " 'CO2 emissions (kg per 2017 PPP $ of GDP)',\n",
       " 'Travel services (% of service exports, BoP)',\n",
       " 'Prevalence of overweight, male (% of male adults)',\n",
       " 'Taxes less subsidies on products (current LCU)',\n",
       " 'Industry (including construction), value added per worker (constant 2015 US$)',\n",
       " 'Fuel exports (% of merchandise exports)',\n",
       " 'Import unit value index (2000 = 100)',\n",
       " 'Claims on central government (annual growth as % of broad money)',\n",
       " 'International tourism, expenditures for travel items (current US$)',\n",
       " 'IMMIGRATION']"
      ]
     },
     "execution_count": 21,
     "metadata": {},
     "output_type": "execute_result"
    }
   ],
   "source": [
    "nerlove_results = [\"SPADOTFRT\", \"SPDYNTO65FEZS\", \"SPPOP1014FE5Y\", \"SPPOP1519MA\", \"SPPOP0509MA5Y\", \"SPPOP1564TOZS\", \"SPPOP2024FE5Y\", \"SPDYNLE00FEIN\", \"SPPOP6064MA5Y\", \"SPPOP65UPFEZS\", \"SPPOP65UPMAZS\", \"SPPOP80UPFE5Y\", \"NYGDPTOTLRTZS\", \"SPDYNAMRTFE\", \"NYGDPMKTPKDZG\", \"NYGDPPCAPKDZG\", \"SLTLFACTIMAZS\", \"NYGDPPCAPPPKD\", \"NEGDIFTOTZS\", \"NVAGRTOTLKD\", \"TXVALMRCHR6ZS\", \"SLFAMWORKMAZS\", \"SLEMP1524SPMAZS\", \"SLAGREMPLZS\", \"TXVALMRCHR4ZS\", \"SMPOPREFG\", \"ENATMCO2EPPGDKD\", \"BXGSRTRVLZS\", \"SHSTAOWADMAZS\", \"NYTAXNINDCN\", \"NVINDEMPLKD\", \"TXVALFUELZSUN\", \"TMUVIMRCHXDWD\", \"FMASTCGOVZGM3\", \"STINTTVLXCD\", \"IMMIGRATION\"]\n",
    "ind_def_lookup(nerlove_results)"
   ]
  },
  {
   "cell_type": "markdown",
   "metadata": {},
   "source": [
    "### *Random Method  - 'walhus'*"
   ]
  },
  {
   "cell_type": "code",
   "execution_count": 22,
   "metadata": {
    "scrolled": false
   },
   "outputs": [
    {
     "data": {
      "text/plain": [
       "['Adolescent fertility rate (births per 1,000 women ages 15-19)',\n",
       " 'Survival to age 65, female (% of cohort)',\n",
       " 'Population ages 10-14, female (% of female population)',\n",
       " 'Population ages 05-09, male (% of male population)',\n",
       " 'Population ages 15-64 (% of total population)',\n",
       " 'Population ages 20-24, female (% of female population)',\n",
       " 'Life expectancy at birth, female (years)',\n",
       " 'Mortality rate, under-5, male (per 1,000)',\n",
       " 'Population ages 15-19, female',\n",
       " 'Population ages 65-69, female (% of female population)',\n",
       " 'Population ages 65 and above, female (% of female population)',\n",
       " 'Population ages 65 and above, male (% of male population)',\n",
       " 'Population ages 30-34, male',\n",
       " 'Total natural resources rents (% of GDP)',\n",
       " 'Mortality rate, adult, female (per 1,000 female adults)',\n",
       " 'GDP growth (annual %)',\n",
       " 'GDP per capita growth (annual %)',\n",
       " 'Labor force participation rate for ages 15-24, total (%) (modeled ILO estimate)',\n",
       " 'Labor force participation rate, total (% of total population ages 15-64) (modeled ILO estimate)',\n",
       " 'Merchandise exports to economies in the Arab World (% of total merchandise exports)',\n",
       " 'Livestock production index (2014-2016 = 100)',\n",
       " 'Unemployment, youth total (% of total labor force ages 15-24) (modeled ILO estimate)',\n",
       " 'Refugee population by country or territory of asylum',\n",
       " 'GDP per person employed (constant 2017 PPP $)',\n",
       " 'Access to electricity, urban (% of urban population)',\n",
       " 'Export volume index (2000 = 100)',\n",
       " 'Immunization, BCG (% of one-year-old children)',\n",
       " 'Electricity production from oil, gas and coal sources (% of total)',\n",
       " 'IMMIGRATION']"
      ]
     },
     "execution_count": 22,
     "metadata": {},
     "output_type": "execute_result"
    }
   ],
   "source": [
    "walhus_results = [\"SPADOTFRT\", \"SPDYNTO65FEZS\", \"SPPOP1014FE5Y\", \"SPPOP0509MA5Y\", \"SPPOP1564TOZS\", \"SPPOP2024FE5Y\", \"SPDYNLE00FEIN\", \"SHDYNMORTMA\", \"SPPOP1519FE\", \"SPPOP6569FE5Y\", \"SPPOP65UPFEZS\", \"SPPOP65UPMAZS\", \"SPPOP3034MA\", \"NYGDPTOTLRTZS\", \"SPDYNAMRTFE\", \"NYGDPMKTPKDZG\", \"NYGDPPCAPKDZG\", \"SLTLFACTI1524ZS\", \"SLTLFACTIZS\", \"TXVALMRCHALZS\", \"AGPRDLVSKXD\", \"SLUEM1524ZS\", \"SMPOPREFG\", \"SLGDPPCAPEMKD\", \"EGELCACCSURZS\", \"TXQTYMRCHXDWD\", \"SHIMMIBCG\", \"EGELCFOSLZS\", \"IMMIGRATION\"]\n",
    "ind_def_lookup(walhus_results)"
   ]
  },
  {
   "cell_type": "markdown",
   "metadata": {},
   "source": [
    "### *Pooling* "
   ]
  },
  {
   "cell_type": "code",
   "execution_count": 23,
   "metadata": {},
   "outputs": [
    {
     "data": {
      "text/plain": [
       "['Age dependency ratio, old',\n",
       " 'Female and male surviving spouses have equal rights to inherit assets (1=yes; 0=no)',\n",
       " 'Population ages 10-14, female (% of female population)',\n",
       " 'Population ages 05-09, female (% of female population)',\n",
       " 'Population ages 15-64, female (% of female population)',\n",
       " 'Population ages 15-64 (% of total population)',\n",
       " 'Population ages 20-24, female (% of female population)',\n",
       " 'Life expectancy at birth, female (years)',\n",
       " 'Death rate, crude (per 1,000 people)',\n",
       " 'Mortality rate, under-5 (per 1,000)',\n",
       " 'Population ages 65 and above, female (% of female population)',\n",
       " 'GDP growth (annual %)',\n",
       " 'GDP per capita growth (annual %)',\n",
       " 'Adjusted savings: natural resources depletion (% of GNI)',\n",
       " 'Military expenditure (% of GDP)',\n",
       " 'Arable land (% of land area)',\n",
       " 'CO2 emissions (kg per 2015 US$ of GDP)',\n",
       " 'Unemployment, youth total (% of total labor force ages 15-24) (modeled ILO estimate)',\n",
       " 'Export value index (2000 = 100)',\n",
       " 'Services, value added (constant LCU)',\n",
       " 'Access to electricity, urban (% of urban population)',\n",
       " 'Military expenditure (% of general government expenditure)',\n",
       " 'Electricity production from hydroelectric sources (% of total)',\n",
       " 'DEATHTOTL']"
      ]
     },
     "execution_count": 23,
     "metadata": {},
     "output_type": "execute_result"
    }
   ],
   "source": [
    "pool_results = [\"SPPOPDPNDOL\", \"SGIHTASSTEQ\", \"SPPOP1014FE5Y\", \"SPPOP0509FE5Y\", \"SPPOP1564FEZS\", \"SPPOP1564TOZS\", \"SPPOP2024FE5Y\", \"SPDYNLE00FEIN\", \"SPDYNCDRTIN\", \"SHDYNMORT\", \"SPPOP65UPFEZS\", \"NYGDPMKTPKDZG\", \"NYGDPPCAPKDZG\", \"NYADJDRESGNZS\", \"MSMILXPNDGDZS\", \"AGLNDARBLZS\", \"ENATMCO2EKDGD\", \"SLUEM1524ZS\", \"TXVALMRCHXDWD\", \"NVSRVTOTLKN\", \"EGELCACCSURZS\", \"MSMILXPNDZS\", \"EGELCHYROZS\", \"DEATHTOTL\"]\n",
    "ind_def_lookup(pool_results)"
   ]
  },
  {
   "cell_type": "markdown",
   "metadata": {},
   "source": [
    "### *Fixed Effects*"
   ]
  },
  {
   "cell_type": "code",
   "execution_count": 24,
   "metadata": {},
   "outputs": [
    {
     "data": {
      "text/plain": [
       "['Urban population growth (annual %)',\n",
       " 'Population density (people per sq. km of land area)',\n",
       " 'Adolescent fertility rate (births per 1,000 women ages 15-19)',\n",
       " 'Population ages 10-14, female (% of female population)',\n",
       " 'Population ages 15-64 (% of total population)',\n",
       " 'Population ages 65-69, male (% of male population)',\n",
       " 'Population ages 70-74, female (% of female population)',\n",
       " 'Commercial service exports (current US$)',\n",
       " 'Prevalence of overweight, male (% of male adults)',\n",
       " 'Services, value added (constant LCU)',\n",
       " 'Food exports (% of merchandise exports)',\n",
       " 'Access to electricity (% of population)',\n",
       " 'Adjusted net national income per capita (constant 2015 US$)',\n",
       " 'GNI (constant LCU)',\n",
       " 'Export unit value index (2000 = 100)',\n",
       " 'Broad money (% of GDP)',\n",
       " 'Secondary education, general pupils',\n",
       " 'Electricity production from oil sources (% of total)',\n",
       " 'Electricity production from oil, gas and coal sources (% of total)',\n",
       " 'DEATHTOTL']"
      ]
     },
     "execution_count": 24,
     "metadata": {},
     "output_type": "execute_result"
    }
   ],
   "source": [
    "fe_results = [\"SPURBGROW\", \"ENPOPDNST\", \"SPADOTFRT\", \"SPPOP1014FE5Y\", \"SPPOP1564TOZS\", \"SPPOP6569MA5Y\", \"SPPOP7074FE5Y\", \"TXVALSERVCDWT\", \"SHSTAOWADMAZS\", \"NVSRVTOTLKN\", \"TXVALFOODZSUN\", \"EGELCACCSZS\", \"NYADJNNTYPCKD\", \"NYGNPMKTPKN\", \"TXUVIMRCHXDWD\", \"FMLBLBMNYGDZS\", \"SESECENRLGC\", \"EGELCPETRZS\", \"EGELCFOSLZS\", \"DEATHTOTL\"]\n",
    "ind_def_lookup(fe_results)"
   ]
  },
  {
   "cell_type": "markdown",
   "metadata": {},
   "source": [
    "---"
   ]
  },
  {
   "cell_type": "markdown",
   "metadata": {},
   "source": [
    "## Combine All Results\n",
    "### Find most/least frequent"
   ]
  },
  {
   "cell_type": "code",
   "execution_count": 25,
   "metadata": {},
   "outputs": [
    {
     "data": {
      "text/plain": [
       "85"
      ]
     },
     "execution_count": 25,
     "metadata": {},
     "output_type": "execute_result"
    }
   ],
   "source": [
    "#Combine\n",
    "sigvars = sa_results + nerlove_results + walhus_results + pool_results + fe_results\n",
    "\n",
    "#How many unique?\n",
    "len(np.unique(sigvars)) #"
   ]
  },
  {
   "cell_type": "code",
   "execution_count": 26,
   "metadata": {},
   "outputs": [],
   "source": [
    "common_vars = []\n",
    "for i in Counter(sigvars).most_common(len(np.unique(sigvars))):\n",
    "    if (i[1] >= 3):\n",
    "        common_vars.append(i[0])"
   ]
  },
  {
   "cell_type": "code",
   "execution_count": 27,
   "metadata": {},
   "outputs": [
    {
     "data": {
      "text/plain": [
       "13"
      ]
     },
     "execution_count": 27,
     "metadata": {},
     "output_type": "execute_result"
    }
   ],
   "source": [
    "len(common_vars)"
   ]
  },
  {
   "cell_type": "code",
   "execution_count": 28,
   "metadata": {},
   "outputs": [
    {
     "data": {
      "text/plain": [
       "['Population ages 10-14, female (% of female population)',\n",
       " 'Population ages 15-64 (% of total population)',\n",
       " 'Adolescent fertility rate (births per 1,000 women ages 15-19)',\n",
       " 'Population ages 20-24, female (% of female population)',\n",
       " 'Population ages 65 and above, female (% of female population)',\n",
       " 'GDP growth (annual %)',\n",
       " 'GDP per capita growth (annual %)',\n",
       " 'Population ages 05-09, male (% of male population)',\n",
       " 'Population ages 65 and above, male (% of male population)',\n",
       " 'Total natural resources rents (% of GDP)',\n",
       " 'Access to electricity, urban (% of urban population)',\n",
       " 'Electricity production from oil, gas and coal sources (% of total)',\n",
       " 'Life expectancy at birth, female (years)']"
      ]
     },
     "execution_count": 28,
     "metadata": {},
     "output_type": "execute_result"
    }
   ],
   "source": [
    "ind_def_lookup(common_vars)"
   ]
  },
  {
   "cell_type": "code",
   "execution_count": 29,
   "metadata": {},
   "outputs": [
    {
     "data": {
      "text/plain": [
       "['SPPOP1014FE5Y',\n",
       " 'SPPOP1564TOZS',\n",
       " 'SPADOTFRT',\n",
       " 'SPPOP2024FE5Y',\n",
       " 'SPPOP65UPFEZS',\n",
       " 'NYGDPMKTPKDZG',\n",
       " 'NYGDPPCAPKDZG',\n",
       " 'SPPOP0509MA5Y',\n",
       " 'SPPOP65UPMAZS',\n",
       " 'NYGDPTOTLRTZS',\n",
       " 'EGELCACCSURZS',\n",
       " 'EGELCFOSLZS',\n",
       " 'SPDYNLE00FEIN']"
      ]
     },
     "execution_count": 29,
     "metadata": {},
     "output_type": "execute_result"
    }
   ],
   "source": [
    "common_vars"
   ]
  },
  {
   "cell_type": "markdown",
   "metadata": {},
   "source": [
    "---"
   ]
  },
  {
   "cell_type": "markdown",
   "metadata": {},
   "source": [
    "## Alternative Selection Results"
   ]
  },
  {
   "cell_type": "code",
   "execution_count": 30,
   "metadata": {},
   "outputs": [
    {
     "data": {
      "text/plain": [
       "['Gross savings (% of GDP)',\n",
       " 'Personal remittances, received (% of GDP)',\n",
       " 'Manufacturing, value added (% of GDP)',\n",
       " 'Treatment for hypertension, male (% of male adults ages 30-79 with hypertension)',\n",
       " 'Age dependency ratio, old',\n",
       " 'Population growth (annual %)',\n",
       " 'Age population, age 05, male, interpolated',\n",
       " 'Age population, age 06, male, interpolated',\n",
       " 'Age population, age 07, male, interpolated',\n",
       " 'Population ages 05-09, female (% of female population)',\n",
       " 'Population ages 15-64 (% of total population)',\n",
       " 'Population ages 20-24, female (% of female population)',\n",
       " 'Population ages 20-24, male (% of male population)',\n",
       " 'Population ages 10-14, male (% of male population)',\n",
       " 'Death rate, crude (per 1,000 people)',\n",
       " 'Mortality rate, neonatal (per 1,000 live births)',\n",
       " 'Population ages 60-64, male (% of male population)',\n",
       " 'Age population, age 12, male, interpolated',\n",
       " 'Adolescent fertility rate (births per 1,000 women ages 15-19)',\n",
       " 'Mortality rate, adult, female (per 1,000 female adults)',\n",
       " 'Mortality rate, adult, male (per 1,000 male adults)',\n",
       " 'Livestock production index (2014-2016 = 100)',\n",
       " 'Inflation, consumer prices (annual %)',\n",
       " 'Services, value added (% of GDP)',\n",
       " 'Employment in industry, female (% of female employment) (modeled ILO estimate)',\n",
       " 'Employers, total (% of total employment) (modeled ILO estimate)',\n",
       " 'Employment to population ratio, ages 15-24, male (%) (modeled ILO estimate)',\n",
       " 'Employment to population ratio, ages 15-24, total (%) (modeled ILO estimate)',\n",
       " 'Vulnerable employment, female (% of female employment) (modeled ILO estimate)',\n",
       " 'Employers, male (% of male employment) (modeled ILO estimate)',\n",
       " 'Self-employed, female (% of female employment) (modeled ILO estimate)',\n",
       " 'Merchandise exports to low- and middle-income economies in Middle East & North Africa (% of total merchandise exports)',\n",
       " 'Refugee population by country or territory of asylum',\n",
       " 'Goods exports (BoP, current US$)',\n",
       " 'Commercial service exports (current US$)',\n",
       " 'Net trade in goods and services (BoP, current US$)',\n",
       " 'Imports of goods and services (BoP, current US$)',\n",
       " 'Population ages 75-79, male',\n",
       " 'Population ages 45-49, male (% of male population)',\n",
       " 'Population ages 30-34, male (% of male population)',\n",
       " 'Population ages 30-34, female (% of female population)',\n",
       " 'Population ages 40-44, female',\n",
       " 'Population ages 45-49, female',\n",
       " 'Population ages 45-49, female (% of female population)',\n",
       " 'Population ages 45-49, male',\n",
       " 'Population ages 50-54, female',\n",
       " 'Population ages 50-54, male',\n",
       " 'GNI per capita (constant 2015 US$)',\n",
       " 'Export unit value index (2000 = 100)',\n",
       " 'Taxes less subsidies on products (constant LCU)',\n",
       " 'Import unit value index (2000 = 100)',\n",
       " 'GNI per capita, PPP (constant 2017 international $)',\n",
       " 'Immunization, BCG (% of one-year-old children)',\n",
       " 'Electricity production from coal sources (% of total)',\n",
       " 'IMMIGRATION']"
      ]
     },
     "execution_count": 30,
     "metadata": {},
     "output_type": "execute_result"
    }
   ],
   "source": [
    "alt_results = [\"NYGNSICTRZS\", \"BXTRFPWKRDTGDZS\", \"NVINDMANFZS\", \"SHHTNTRETMAZS\", \"SPPOPDPNDOL\", \"SPPOPGROW\", \"SPPOPAG05MAIN\", \"SPPOPAG06MAIN\", \"SPPOPAG07MAIN\", \"SPPOP0509FE5Y\", \"SPPOP1564TOZS\", \"SPPOP2024FE5Y\", \"SPPOP2024MA5Y\", \"SPPOP1014MA5Y\", \"SPDYNCDRTIN\", \"SHDYNNMRT\", \"SPPOP6064MA5Y\", \"SPPOPAG12MAIN\", \"SPADOTFRT\", \"SPDYNAMRTFE\", \"SPDYNAMRTMA\", \"AGPRDLVSKXD\", \"FPCPITOTLZG\", \"NVSRVTOTLZS\", \"SLINDEMPLFEZS\", \"SLEMPMPYRZS\", \"SLEMP1524SPMAZS\", \"SLEMP1524SPZS\", \"SLEMPVULNFEZS\", \"SLEMPMPYRMAZS\", \"SLEMPSELFFEZS\", \"TXVALMRCHR4ZS\", \"SMPOPREFG\", \"BXGSRMRCHCD\", \"TXVALSERVCDWT\", \"BNGSRGNFSCD\", \"BMGSRGNFSCD\", \"SPPOP7579MA\", \"SPPOP4549MA5Y\", \"SPPOP3034MA5Y\", \"SPPOP3034FE5Y\", \"SPPOP4044FE\", \"SPPOP4549FE\", \"SPPOP4549FE5Y\", \"SPPOP4549MA\", \"SPPOP5054FE\", \"SPPOP5054MA\", \"NYGNPPCAPKD\", \"TXUVIMRCHXDWD\", \"NYTAXNINDKN\", \"TMUVIMRCHXDWD\", \"NYGNPPCAPPPKD\", \"SHIMMIBCG\", \"EGELCCOALZS\", \"IMMIGRATION\"]\n",
    "ind_def_lookup(alt_results)"
   ]
  },
  {
   "cell_type": "code",
   "execution_count": 31,
   "metadata": {},
   "outputs": [
    {
     "data": {
      "text/plain": [
       "['Treatment for hypertension (% of adults ages 30-79 with hypertension)',\n",
       " 'Labor force participation rate, total (% of total population ages 15-64) (modeled ILO estimate)',\n",
       " 'Women Business and the Law Index Score (scale 1-100)',\n",
       " 'Adolescent fertility rate (births per 1,000 women ages 15-19)',\n",
       " 'Population ages 10-14, female (% of female population)',\n",
       " 'Population ages 05-09, female (% of female population)',\n",
       " 'Age dependency ratio (% of working-age population)',\n",
       " 'Age dependency ratio, old',\n",
       " 'Population, total',\n",
       " 'Population, female',\n",
       " 'Age population, age 05, female, interpolated',\n",
       " 'Age population, age 07, female, interpolated',\n",
       " 'Personal remittances, received (% of GDP)',\n",
       " 'Travel services (% of commercial service imports)',\n",
       " 'Travel services (% of service imports, BoP)',\n",
       " 'Contributing family workers, male (% of male employment) (modeled ILO estimate)',\n",
       " 'Prevalence of obesity, male (% of male population ages 18+)',\n",
       " 'Prevalence of overweight (% of adults)',\n",
       " 'Prevalence of overweight, male (% of male adults)',\n",
       " 'Services, value added (constant 2015 US$)',\n",
       " 'Mortality rate, adult, female (per 1,000 female adults)',\n",
       " 'Mortality rate, adult, male (per 1,000 male adults)',\n",
       " 'GDP growth (annual %)',\n",
       " 'GDP per capita growth (annual %)',\n",
       " 'Gross capital formation (current US$)',\n",
       " 'Industry (including construction), value added per worker (constant 2015 US$)',\n",
       " 'Food exports (% of merchandise exports)',\n",
       " 'Population ages 65 and above, female',\n",
       " 'Population ages 65 and above, female (% of female population)',\n",
       " 'Population ages 65 and above, male (% of male population)',\n",
       " 'Population ages 65 and above, total',\n",
       " 'Population ages 70-74, female (% of female population)',\n",
       " 'Population ages 75-79, female (% of female population)',\n",
       " 'Population ages 75-79, male (% of male population)',\n",
       " 'Population ages 35-39, male (% of male population)',\n",
       " 'Population ages 35-39, female (% of female population)',\n",
       " 'Number of neonatal deaths',\n",
       " 'Fixed telephone subscriptions (per 100 people)',\n",
       " 'Employers, total (% of total employment) (modeled ILO estimate)',\n",
       " 'Employment to population ratio, ages 15-24, female (%) (modeled ILO estimate)',\n",
       " 'Employment to population ratio, ages 15-24, total (%) (modeled ILO estimate)',\n",
       " 'Unemployment, total (% of total labor force) (modeled ILO estimate)',\n",
       " 'Unemployment, female (% of female labor force) (modeled ILO estimate)',\n",
       " 'Employment in agriculture (% of total employment) (modeled ILO estimate)',\n",
       " 'Employment to population ratio, 15+, female (%) (modeled ILO estimate)',\n",
       " 'Merchandise exports to low- and middle-income economies in Latin America & the Caribbean (% of total merchandise exports)',\n",
       " 'Merchandise exports to low- and middle-income economies in Middle East & North Africa (% of total merchandise exports)',\n",
       " 'Refugee population by country or territory of asylum',\n",
       " 'Primary income payments (BoP, current US$)',\n",
       " 'Imports of goods and services (constant LCU)',\n",
       " 'Portfolio equity, net inflows (BoP, current US$)',\n",
       " 'Taxes less subsidies on products (constant LCU)',\n",
       " 'Import unit value index (2000 = 100)',\n",
       " 'GNI (constant 2015 US$)',\n",
       " 'Broad money (current LCU)',\n",
       " 'Population in urban agglomerations of more than 1 million',\n",
       " 'GNI, PPP (constant 2017 international $)',\n",
       " 'Electricity production from coal sources (% of total)',\n",
       " 'IMMIGRATION']"
      ]
     },
     "execution_count": 31,
     "metadata": {},
     "output_type": "execute_result"
    }
   ],
   "source": [
    "#this list produced a .98 R2 and 29.79 SS\n",
    "alt_results = [\"SHHTNTRETZS\", \"SLTLFACTIZS\", \"SGLAWINDX\", \"SPADOTFRT\", \"SPPOP1014FE5Y\", \"SPPOP0509FE5Y\", \"SPPOPDPND\", \"SPPOPDPNDOL\", \"SPPOPTOTL\", \"SPPOPTOTLFEIN\", \"SPPOPAG05FEIN\", \"SPPOPAG07FEIN\", \"BXTRFPWKRDTGDZS\", \"TMVALTRVLZSWT\", \"BMGSRTRVLZS\", \"SLFAMWORKMAZS\", \"SHSTAOB18MAZS\", \"SHSTAOWADZS\", \"SHSTAOWADMAZS\", \"NVSRVTOTLKD\", \"SPDYNAMRTFE\", \"SPDYNAMRTMA\", \"NYGDPMKTPKDZG\", \"NYGDPPCAPKDZG\", \"NEGDITOTLCD\", \"NVINDEMPLKD\", \"TXVALFOODZSUN\", \"SPPOP65UPFEIN\", \"SPPOP65UPFEZS\", \"SPPOP65UPMAZS\", \"SPPOP65UPTO\", \"SPPOP7074FE5Y\", \"SPPOP7579FE5Y\", \"SPPOP7579MA5Y\", \"SPPOP3539MA5Y\", \"SPPOP3539FE5Y\", \"SHDTHNMRT\", \"ITMLTMAINP2\", \"SLEMPMPYRZS\", \"SLEMP1524SPFEZS\", \"SLEMP1524SPZS\", \"SLUEMTOTLZS\", \"SLUEMTOTLFEZS\", \"SLAGREMPLZS\", \"SLEMPTOTLSPFEZS\", \"TXVALMRCHR3ZS\", \"TXVALMRCHR4ZS\", \"SMPOPREFG\", \"BMGSRFCTYCD\", \"NEIMPGNFSKN\", \"BXPEFTOTLCDWD\", \"NYTAXNINDKN\", \"TMUVIMRCHXDWD\", \"NYGNPMKTPKD\", \"FMLBLBMNYCN\", \"ENURBMCTY\", \"NYGNPMKTPPPKD\", \"EGELCCOALZS\", \"IMMIGRATION\"]\n",
    "ind_def_lookup(alt_results)"
   ]
  },
  {
   "cell_type": "code",
   "execution_count": 32,
   "metadata": {},
   "outputs": [
    {
     "data": {
      "text/plain": [
       "['Rural population (% of total population)',\n",
       " 'Urban population growth (annual %)',\n",
       " 'A woman can travel outside her home in the same way as a man (1=yes; 0=no)',\n",
       " 'Dismissal of pregnant workers is prohibited (1=yes; 0=no)',\n",
       " 'Population density (people per sq. km of land area)',\n",
       " 'Adolescent fertility rate (births per 1,000 women ages 15-19)',\n",
       " 'Survival to age 65, female (% of cohort)',\n",
       " 'Men and married women have equal ownership rights to immovable property (1=yes; 0=no)',\n",
       " 'Population ages 10-14, female (% of female population)',\n",
       " 'Population ages 15-19, male',\n",
       " 'Population ages 05-09, male (% of male population)',\n",
       " 'Population ages 15-64 (% of total population)',\n",
       " 'Population ages 20-24, female (% of female population)',\n",
       " 'Life expectancy at birth, female (years)',\n",
       " 'Death rate, crude (per 1,000 people)',\n",
       " 'Mortality rate, under-5, male (per 1,000)',\n",
       " 'Population ages 15-19, female',\n",
       " 'Population ages 60-64, male (% of male population)',\n",
       " 'Population ages 65-69, female',\n",
       " 'Population ages 65 and above, female (% of female population)',\n",
       " 'Population ages 65 and above, male (% of male population)',\n",
       " 'Population ages 70-74, female',\n",
       " 'Population ages 70-74, female (% of female population)',\n",
       " 'Population ages 80 and older, female (% of female population)',\n",
       " 'Population ages 30-34, male',\n",
       " 'Population ages 35-39, male',\n",
       " 'Population ages 40-44, male',\n",
       " 'Population ages 55-59, female (% of female population)',\n",
       " 'Mobile cellular subscriptions (per 100 people)',\n",
       " 'Total natural resources rents (% of GDP)',\n",
       " 'Mortality rate, adult, female (per 1,000 female adults)',\n",
       " 'Immunization, measles (% of children ages 12-23 months)',\n",
       " 'GDP growth (annual %)',\n",
       " 'GDP per capita growth (annual %)',\n",
       " 'Merchandise trade (% of GDP)',\n",
       " 'External balance on goods and services (% of GDP)',\n",
       " 'Trade (% of GDP)',\n",
       " 'Labor force, female',\n",
       " 'Probability of dying among children ages 5-9 years (per 1,000)',\n",
       " 'Treatment for hypertension (% of adults ages 30-79 with hypertension)',\n",
       " 'Labor force participation rate, female (% of female population ages 15-64) (modeled ILO estimate)',\n",
       " 'Labor force participation rate, total (% of total population ages 15-64) (modeled ILO estimate)',\n",
       " 'Gross national expenditure (% of GDP)',\n",
       " 'Households and NPISHs final consumption expenditure (% of GDP)',\n",
       " 'Merchandise exports to economies in the Arab World (% of total merchandise exports)',\n",
       " 'Livestock production index (2014-2016 = 100)',\n",
       " 'Agriculture, forestry, and fishing, value added (constant 2015 US$)',\n",
       " 'Armed forces personnel, total',\n",
       " 'Aquaculture production (metric tons)',\n",
       " 'Merchandise exports to low- and middle-income economies in Sub-Saharan Africa (% of total merchandise exports)',\n",
       " 'Contributing family workers, male (% of male employment) (modeled ILO estimate)',\n",
       " 'Employment in services (% of total employment) (modeled ILO estimate)',\n",
       " 'Unemployment, youth total (% of total labor force ages 15-24) (modeled ILO estimate)',\n",
       " 'Employment to population ratio, ages 15-24, male (%) (modeled ILO estimate)',\n",
       " 'Employment to population ratio, 15+, total (%) (modeled ILO estimate)',\n",
       " 'Agriculture, forestry, and fishing, value added (annual % growth)',\n",
       " 'Personal remittances, received (current US$)',\n",
       " 'Renewable energy consumption (% of total final energy consumption)',\n",
       " 'Service imports (BoP, current US$)',\n",
       " 'Exports of goods and services (constant LCU)',\n",
       " 'CO2 emissions (kg per 2017 PPP $ of GDP)',\n",
       " 'Refugee population by country or territory of origin',\n",
       " 'Armed forces personnel (% of total labor force)',\n",
       " 'Transport services (% of service exports, BoP)',\n",
       " 'Gross fixed capital formation (annual % growth)',\n",
       " 'Manufacturing, value added (current US$)',\n",
       " 'Households and NPISHs Final consumption expenditure per capita (constant 2015 US$)',\n",
       " 'Prevalence of overweight, male (% of male adults)',\n",
       " 'Households and NPISHs Final consumption expenditure (annual % growth)',\n",
       " 'CO2 emissions from solid fuel consumption (% of total)',\n",
       " 'Households and NPISHs Final consumption expenditure, PPP (constant 2017 international $)',\n",
       " 'Gross value added at basic prices (GVA) (constant 2015 US$)',\n",
       " 'Manufacturing, value added (annual % growth)',\n",
       " 'Air transport, freight (million ton-km)',\n",
       " 'Manufactures exports (% of merchandise exports)',\n",
       " 'Ores and metals exports (% of merchandise exports)',\n",
       " 'GNI (constant LCU)',\n",
       " 'Import volume index (2000 = 100)',\n",
       " 'Export unit value index (2000 = 100)',\n",
       " 'Renewable electricity output (% of total electricity output)',\n",
       " 'Broad money (current LCU)',\n",
       " 'Population in urban agglomerations of more than 1 million',\n",
       " 'Broad money (% of GDP)',\n",
       " 'GNI per capita, PPP (constant 2017 international $)',\n",
       " 'GNI, PPP (constant 2017 international $)',\n",
       " 'Claims on central government (annual growth as % of broad money)',\n",
       " 'Immunization, BCG (% of one-year-old children)',\n",
       " 'Electricity production from oil, gas and coal sources (% of total)',\n",
       " 'Secondary education, general pupils (% female)',\n",
       " 'IMMIGRATION']"
      ]
     },
     "execution_count": 32,
     "metadata": {},
     "output_type": "execute_result"
    }
   ],
   "source": [
    "results = [\"SPRURTOTLZS\", \"SPURBGROW\", \"SGHMETRVLEQ\", \"SGDMLPRGW\", \"ENPOPDNST\", \"SPADOTFRT\", \"SPDYNTO65FEZS\", \"SGOWNPRRTIM\", \"SPPOP1014FE5Y\", \"SPPOP1519MA\", \"SPPOP0509MA5Y\", \"SPPOP1564TOZS\", \"SPPOP2024FE5Y\", \"SPDYNLE00FEIN\", \"SPDYNCDRTIN\", \"SHDYNMORTMA\", \"SPPOP1519FE\", \"SPPOP6064MA5Y\", \"SPPOP6569FE\", \"SPPOP65UPFEZS\", \"SPPOP65UPMAZS\", \"SPPOP7074FE\", \"SPPOP7074FE5Y\", \"SPPOP80UPFE5Y\", \"SPPOP3034MA\", \"SPPOP3539MA\", \"SPPOP4044MA\", \"SPPOP5559FE5Y\", \"ITCELSETSP2\", \"NYGDPTOTLRTZS\", \"SPDYNAMRTFE\", \"SHIMMMEAS\", \"NYGDPMKTPKDZG\", \"NYGDPPCAPKDZG\", \"TGVALTOTLGDZS\", \"NERSBGNFSZS\", \"NETRDGNFSZS\", \"SLTLFTOTLFEIN\", \"SHDYN0509\", \"SHHTNTRETZS\", \"SLTLFACTIFEZS\", \"SLTLFACTIZS\", \"NEDABTOTLZS\", \"NECONPRVTZS\", \"TXVALMRCHALZS\", \"AGPRDLVSKXD\", \"NVAGRTOTLKD\", \"MSMILTOTLP1\", \"ERFSHAQUAMT\", \"TXVALMRCHR6ZS\", \"SLFAMWORKMAZS\", \"SLSRVEMPLZS\", \"SLUEM1524ZS\", \"SLEMP1524SPMAZS\", \"SLEMPTOTLSPZS\", \"NVAGRTOTLKDZG\", \"BXTRFPWKRCDDT\", \"EGFECRNEWZS\", \"BMGSRNFSVCD\", \"NEEXPGNFSKN\", \"ENATMCO2EPPGDKD\", \"SMPOPREFGOR\", \"MSMILTOTLTFZS\", \"BXGSRTRANZS\", \"NEGDIFTOTKDZG\", \"NVINDMANFCD\", \"NECONPRVTPCKD\", \"SHSTAOWADMAZS\", \"NECONPRVTKDZG\", \"ENATMCO2ESFZS\", \"NECONPRVTPPKD\", \"NYGDPFCSTKD\", \"NVINDMANFKDZG\", \"ISAIRGOODMTK1\", \"TXVALMANFZSUN\", \"TXVALMMTLZSUN\", \"NYGNPMKTPKN\", \"TMQTYMRCHXDWD\", \"TXUVIMRCHXDWD\", \"EGELCRNEWZS\", \"FMLBLBMNYCN\", \"ENURBMCTY\", \"FMLBLBMNYGDZS\", \"NYGNPPCAPPPKD\", \"NYGNPMKTPPPKD\", \"FMASTCGOVZGM3\", \"SHIMMIBCG\", \"EGELCFOSLZS\", \"SESECENRLGCFEZS\", \"IMMIGRATION\"]\n",
    "ind_def_lookup(results)"
   ]
  }
 ],
 "metadata": {
  "kernelspec": {
   "display_name": "Python 3",
   "language": "python",
   "name": "python3"
  },
  "language_info": {
   "codemirror_mode": {
    "name": "ipython",
    "version": 3
   },
   "file_extension": ".py",
   "mimetype": "text/x-python",
   "name": "python",
   "nbconvert_exporter": "python",
   "pygments_lexer": "ipython3",
   "version": "3.7.3"
  }
 },
 "nbformat": 4,
 "nbformat_minor": 2
}
