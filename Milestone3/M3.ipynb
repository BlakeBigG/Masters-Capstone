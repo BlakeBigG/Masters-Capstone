{
 "cells": [
  {
   "cell_type": "markdown",
   "metadata": {},
   "source": [
    "# M3"
   ]
  },
  {
   "cell_type": "markdown",
   "metadata": {},
   "source": [
    "### Basic Analysis: \n",
    "First, run\n",
    "\n",
    "https://europa.dsa.missouri.edu/user/bmgwd9/notebooks/sp22Capstone_01_Group03/CapstoneOrganization/M3/basic_analysis/1Descriptive_Statistics.ipynb, then\n",
    "\n",
    "https://europa.dsa.missouri.edu/user/bmgwd9/notebooks/sp22Capstone_01_Group03/CapstoneOrganization/M3/basic_analysis/2Dashboard_Idea.ipynb.\n",
    "\n",
    "### Correlation Analysis:\n",
    "First, run\n",
    "\n",
    "https://europa.dsa.missouri.edu/user/bmgwd9/notebooks/sp22Capstone_01_Group03/CapstoneOrganization/M3/correlation_analysis/1FeatureCorrelationAnalysis.ipynb, then\n",
    "\n",
    "https://europa.dsa.missouri.edu/user/bmgwd9/notebooks/sp22Capstone_01_Group03/CapstoneOrganization/M3/correlation_analysis/2CorrelationCrawler_v2.ipynb, then\n",
    "\n",
    "https://europa.dsa.missouri.edu/user/bmgwd9/notebooks/sp22Capstone_01_Group03/CapstoneOrganization/M3/correlation_analysis/3CorrelationWorkbook.ipynb, then\n",
    "\n",
    "https://europa.dsa.missouri.edu/user/bmgwd9/notebooks/sp22Capstone_01_Group03/CapstoneOrganization/M3/correlation_analysis/4CollinearityVisual.ipynb.\n",
    "\n",
    "### Deeper Analysis:\n",
    "First, run\n",
    "\n",
    "https://europa.dsa.missouri.edu/user/bmgwd9/notebooks/sp22Capstone_01_Group03/CapstoneOrganization/M3/deeper_analysis/1WorldExploration.ipynb, then\n",
    "\n",
    "https://europa.dsa.missouri.edu/user/bmgwd9/notebooks/sp22Capstone_01_Group03/CapstoneOrganization/M3/deeper_analysis/2DropInBirthrateInvestigation.ipynb.\n",
    "\n",
    "### Clustering\n",
    "https://europa.dsa.missouri.edu/user/bmgwd9/notebooks/sp22Capstone_01_Group03/CapstoneOrganization/M3/clustering/ClusteringCountries.ipynb\n",
    "\n",
    "### Dimension Reduction (PCA)\n",
    "https://europa.dsa.missouri.edu/user/bmgwd9/notebooks/sp22Capstone_01_Group03/CapstoneOrganization/M3/dimension_reduction/PCA.ipynb\n",
    "\n",
    "### Dynamic Time Warping\n",
    "https://europa.dsa.missouri.edu/user/bmgwd9/notebooks/sp22Capstone_01_Group03/CapstoneOrganization/M3/dynamic_time_warping/DynamicTimeWarping.ipynb"
   ]
  },
  {
   "cell_type": "markdown",
   "metadata": {},
   "source": [
    "This milestone contains all of our exploratory data analysis, visuals, and work on unsupervised learning. The suggested order to follow would be to start with the notebooks in the basic_analysis directory first, then move to the correlation_analysis directory, and finally the deeper_analysis directory. The other directories have no bearing on one another, so they can be viewed in any order."
   ]
  }
 ],
 "metadata": {
  "kernelspec": {
   "display_name": "Python 3",
   "language": "python",
   "name": "python3"
  },
  "language_info": {
   "codemirror_mode": {
    "name": "ipython",
    "version": 3
   },
   "file_extension": ".py",
   "mimetype": "text/x-python",
   "name": "python",
   "nbconvert_exporter": "python",
   "pygments_lexer": "ipython3",
   "version": "3.7.3"
  }
 },
 "nbformat": 4,
 "nbformat_minor": 2
}
