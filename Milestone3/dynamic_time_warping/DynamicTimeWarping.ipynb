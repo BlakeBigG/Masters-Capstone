{
 "cells": [
  {
   "cell_type": "markdown",
   "metadata": {},
   "source": [
    "## Dynamic Time Warping to identify trends"
   ]
  },
  {
   "cell_type": "markdown",
   "metadata": {},
   "source": [
    "#### Install tslearn package"
   ]
  },
  {
   "cell_type": "code",
   "execution_count": 1,
   "metadata": {},
   "outputs": [
    {
     "name": "stdout",
     "output_type": "stream",
     "text": [
      "Requirement already satisfied: tslearn in /opt/conda/lib/python3.7/site-packages (0.5.2)\n",
      "Requirement already satisfied: scikit-learn in /opt/conda/lib/python3.7/site-packages (from tslearn) (0.20.3)\n",
      "Requirement already satisfied: Cython in /opt/conda/lib/python3.7/site-packages (from tslearn) (0.29.13)\n",
      "Requirement already satisfied: joblib in /opt/conda/lib/python3.7/site-packages (from tslearn) (1.1.0)\n",
      "Requirement already satisfied: numba in /opt/conda/lib/python3.7/site-packages (from tslearn) (0.42.1)\n",
      "Requirement already satisfied: scipy in /opt/conda/lib/python3.7/site-packages (from tslearn) (1.2.1)\n",
      "Requirement already satisfied: numpy in /opt/conda/lib/python3.7/site-packages (from tslearn) (1.17.3)\n",
      "Requirement already satisfied: llvmlite>=0.27.0dev0 in /opt/conda/lib/python3.7/site-packages (from numba->tslearn) (0.27.1)\n",
      "Note: you may need to restart the kernel to use updated packages.\n"
     ]
    }
   ],
   "source": [
    "pip install tslearn"
   ]
  },
  {
   "cell_type": "markdown",
   "metadata": {},
   "source": [
    "#### Connect to the database and import packages"
   ]
  },
  {
   "cell_type": "code",
   "execution_count": 2,
   "metadata": {},
   "outputs": [
    {
     "name": "stdout",
     "output_type": "stream",
     "text": [
      "········\n"
     ]
    }
   ],
   "source": [
    "import getpass\n",
    "import pandas as pd\n",
    "from sklearn import preprocessing\n",
    "import numpy as np\n",
    "import os.path\n",
    "from tslearn.metrics import dtw, dtw_path\n",
    "import matplotlib.pyplot as plt\n",
    "import copy\n",
    "mypasswd = getpass.getpass()\n",
    "username = 'cahvmr'\n",
    "host = 'pgsql.dsa.lan'\n",
    "database = 'caponl_22g3'\n",
    "# Then connects to the DB\n",
    "from sqlalchemy.engine.url import URL\n",
    "from sqlalchemy import create_engine\n",
    "\n",
    "# SQLAlchemy Connection Parameters\n",
    "postgres_db = {'drivername': 'postgres',\n",
    "               'username': username,\n",
    "               'password': mypasswd,\n",
    "               'host': host,\n",
    "               'database' :database}\n",
    "engine = create_engine(URL(**postgres_db), echo=True)\n",
    "connection_string = f\"postgres://{username}:{mypasswd}@{host}/{database}\"\n",
    "%load_ext sql\n",
    "%sql $connection_string \n",
    "del mypasswd"
   ]
  },
  {
   "cell_type": "markdown",
   "metadata": {},
   "source": [
    "#### Import the countries csv to pare down the list"
   ]
  },
  {
   "cell_type": "code",
   "execution_count": 3,
   "metadata": {},
   "outputs": [
    {
     "data": {
      "text/html": [
       "<div>\n",
       "<style scoped>\n",
       "    .dataframe tbody tr th:only-of-type {\n",
       "        vertical-align: middle;\n",
       "    }\n",
       "\n",
       "    .dataframe tbody tr th {\n",
       "        vertical-align: top;\n",
       "    }\n",
       "\n",
       "    .dataframe thead th {\n",
       "        text-align: right;\n",
       "    }\n",
       "</style>\n",
       "<table border=\"1\" class=\"dataframe\">\n",
       "  <thead>\n",
       "    <tr style=\"text-align: right;\">\n",
       "      <th></th>\n",
       "      <th>short_name</th>\n",
       "      <th>alpha2_code</th>\n",
       "      <th>alpha3_code</th>\n",
       "      <th>numeric_code</th>\n",
       "      <th>iso3166-2</th>\n",
       "    </tr>\n",
       "  </thead>\n",
       "  <tbody>\n",
       "    <tr>\n",
       "      <th>0</th>\n",
       "      <td>Afghanistan</td>\n",
       "      <td>AF</td>\n",
       "      <td>AFG</td>\n",
       "      <td>4</td>\n",
       "      <td>ISO 3166-2:AF</td>\n",
       "    </tr>\n",
       "    <tr>\n",
       "      <th>1</th>\n",
       "      <td>Albania</td>\n",
       "      <td>AL</td>\n",
       "      <td>ALB</td>\n",
       "      <td>8</td>\n",
       "      <td>ISO 3166-2:AL</td>\n",
       "    </tr>\n",
       "    <tr>\n",
       "      <th>2</th>\n",
       "      <td>Algeria</td>\n",
       "      <td>DZ</td>\n",
       "      <td>DZA</td>\n",
       "      <td>12</td>\n",
       "      <td>ISO 3166-2:DZ</td>\n",
       "    </tr>\n",
       "    <tr>\n",
       "      <th>3</th>\n",
       "      <td>American Samoa</td>\n",
       "      <td>AS</td>\n",
       "      <td>ASM</td>\n",
       "      <td>16</td>\n",
       "      <td>ISO 3166-2:AS</td>\n",
       "    </tr>\n",
       "    <tr>\n",
       "      <th>4</th>\n",
       "      <td>Andorra</td>\n",
       "      <td>AD</td>\n",
       "      <td>AND</td>\n",
       "      <td>20</td>\n",
       "      <td>ISO 3166-2:AD</td>\n",
       "    </tr>\n",
       "  </tbody>\n",
       "</table>\n",
       "</div>"
      ],
      "text/plain": [
       "       short_name alpha2_code alpha3_code  numeric_code      iso3166-2\n",
       "0     Afghanistan          AF         AFG             4  ISO 3166-2:AF\n",
       "1         Albania          AL         ALB             8  ISO 3166-2:AL\n",
       "2         Algeria          DZ         DZA            12  ISO 3166-2:DZ\n",
       "3  American Samoa          AS         ASM            16  ISO 3166-2:AS\n",
       "4         Andorra          AD         AND            20  ISO 3166-2:AD"
      ]
     },
     "execution_count": 3,
     "metadata": {},
     "output_type": "execute_result"
    }
   ],
   "source": [
    "countries=pd.read_csv(\"/dsa/groups/capstonesp2022/online/group_3/M1/CountryCodesFinal.csv\")\n",
    "countries.head()"
   ]
  },
  {
   "cell_type": "markdown",
   "metadata": {},
   "source": [
    "#### The process table function to generate a dataframe and identify the number of datapoints per country per metric"
   ]
  },
  {
   "cell_type": "code",
   "execution_count": 4,
   "metadata": {},
   "outputs": [],
   "source": [
    "def process_table(in_table, year_f=1973, year_l=2019, use='keep'): #In table is the name of the database table you want to pull (\"pop\", \"wdi\", etc), year_f is the first year, year_l is the last year, and use=keep makes the default to reuse the existing per country per metric data\n",
    "    sql='''Select * from WB_{}''' #setting the sql statement\n",
    "    table=pd.read_sql(sql.format(in_table), engine, index_col='index') #pulling the sql statement while filling it in from the in_table variable\n",
    "    table=table[(table['variable']>=year_f)&(table['variable']<=year_l)] #refining the table data to the years (could be incorporated into sql statement)\n",
    "    table=countries.merge(table, how='inner', right_on='Country Code', left_on='alpha3_code') #implementing the countries table to remove unwanted entities\n",
    "    if os.path.isfile('/dsa/groups/capstonesp2022/online/group_3/Comp_Recs/{}_comps.csv'.format(in_table)) and use=='keep': #if statement to determine if existing data should be used\n",
    "        catcount=pd.read_csv('/dsa/groups/capstonesp2022/online/group_3/Comp_Recs/{}_comps.csv'.format(in_table))\n",
    "    else:\n",
    "        catcount=pd.DataFrame(columns=['Country', 'Metric', 'First', 'Last', 'Total', 'Same', 'NaN']) #creating the catcount dataframe\n",
    "        for u in table['Country Name'].unique(): #iterate through each country\n",
    "            for x in table.iloc[:,8:].columns: #iterate through each column in each country\n",
    "                a=0 #create a counter\n",
    "                nums=[] #create an empty list to put metric data in\n",
    "                if sum(np.isnan(table[table['Country Name']==u][x]))==len(table[table['Country Name']==u][x]): #Comparing the number of NaNs with the length to minimize effort on NaN records\n",
    "                    catcount=catcount.append({'Country':u, 'Metric':x, 'First':0, 'Last':0, 'Total':0, 'Same':True, 'NaN':True}, ignore_index=True)\n",
    "\n",
    "                elif is_same(table[table['Country Name']==u][x]): # Finding metrics where the numbers are all the same and minimizing effort\n",
    "                    catcount=catcount.append({'Country':u, 'Metric':x, 'First':0, 'Last':0, 'Total':0, 'Same':True, 'NaN':False}, ignore_index=True)\n",
    "\n",
    "                else: #Anything that is not NaN and the column isn't the same throughout gets processed\n",
    "                    for y in table[table['Country Name']==u][x]: #Going cell by cell in the column\n",
    "                        if np.isnan(y)==False: #If the value is not NaN, mark the position of the value with the counter\n",
    "                            nums.append(a)\n",
    "                        a+=1 #increment the counter whether it is or is not NaN\n",
    "                    catcount=catcount.append({'Country':u, 'Metric':x, 'First':min(nums), 'Last':max(nums), 'Total':len(nums), 'Same':False, 'NaN':False}, ignore_index=True) #write the column data after it has been iterated through\n",
    "        catcount.to_csv('/dsa/groups/capstonesp2022/online/group_3/Comp_Recs/{}_comps.csv'.format(in_table)) #write the final data to a csv so it can be used again\n",
    "    inout=[] #create an empty list for finding columns that are just 0s and 1s (they don't offer enough resolution to be useful)\n",
    "    \n",
    "    for row in range(len(catcount['Country'])): #iterate through the df by row\n",
    "        if {a for a in table[(table['Country Name']==catcount['Country'][row]) & (table['variable']>=year_f) & (table['variable']<=year_l)][catcount['Metric'][row]]}==({0} or {0,1}): #checking each column to see if they're in the set 0 or set 0,1\n",
    "            inout.append('out') #out means reject because it is in the set 0 or set 0,1 \n",
    "        else:\n",
    "            inout.append('in') #in means keep the data because it's varied\n",
    "    catcount['Generic']=inout #writing the column \"generic\" to identify whether it's generic data (whether to keep or reject)\n",
    "    \n",
    "    return table, catcount #returning the two entities - data df and category count df"
   ]
  },
  {
   "cell_type": "markdown",
   "metadata": {},
   "source": [
    "#### A simple function to test if the column is all the same"
   ]
  },
  {
   "cell_type": "code",
   "execution_count": 5,
   "metadata": {},
   "outputs": [],
   "source": [
    "def is_same(s): \n",
    "    a = s.to_numpy() #casting the input s to a numpy array and calling it a\n",
    "    return (a[0] == a).all() #checking if the first value of a is equal to the rest of a"
   ]
  },
  {
   "cell_type": "markdown",
   "metadata": {},
   "source": [
    "#### A simple function to look up the number of a metric by name"
   ]
  },
  {
   "cell_type": "code",
   "execution_count": 6,
   "metadata": {},
   "outputs": [],
   "source": [
    "def met_lookup(comps, met):\n",
    "    return np.where(comps[comps['Total']>=comps['Total'].max()]['Metric'].unique()==met)[0][0] #Only metrics which have at least one full dataset (per country) are included in the list- this filters to the list then returns the number for the given metric"
   ]
  },
  {
   "cell_type": "code",
   "execution_count": null,
   "metadata": {},
   "outputs": [],
   "source": [
    "#### A function to build a dataframe of the chosen countries and metric which closeness cores between all eligible entities"
   ]
  },
  {
   "cell_type": "code",
   "execution_count": 7,
   "metadata": {},
   "outputs": [],
   "source": [
    "def table_comps(met_no, record, rec_nos, table): #met no is the metric number (found through met lookup), record is the list of complete datasets for the given metric(created in process table), rec_nos is the count for a full dataset, and table is the data df (created in process table) \n",
    "    cut=record[record['Total']>=rec_nos] #filtering out all partial datasets\n",
    "    recs=pd.DataFrame() #creating a new df for evaluating records to keep\n",
    "    for country in cut[(cut['Generic']=='in')&(cut['Same']==False)&(cut['NaN']==False)&(cut['Metric']==cut['Metric'].unique()[met_no])]['Country']: #iterating through the countries and filtering out all NaN, generic, or single-value columns for the given metric\n",
    "        recs=recs.append(table[(table['Country Name']==country)].loc[:,['Country Name', 'variable', cut['Metric'].unique()[met_no]]]) #Writing all records that fit the criteria\n",
    "    scores=pd.DataFrame() #creating a new df for the final comparison scores\n",
    "    for a in range(len(recs['Country Name'].unique())): #Working down the rows in the recs df we made and assigning the first row a\n",
    "        for b in range(len(recs['Country Name'].unique())): #Working down the same rows to compare each\n",
    "            if a!=b and a<b: #skipping if a and b are the same row or if a is greater than b (these would be duplicates captured when b was greater than a)\n",
    "                x=recs[recs['Country Name']==recs['Country Name'].unique()[a]][cut['Metric'].unique()[met_no]]#designating the x values to compare\n",
    "                y=recs[recs['Country Name']==recs['Country Name'].unique()[b]][cut['Metric'].unique()[met_no]]#designating the y values to compare\n",
    "                scores=scores.append({'Country1':recs['Country Name'].unique()[a], 'Country2':recs['Country Name'].unique()[b], 'Closeness':dtw(x,y), 'Metric':cut['Metric'].unique()[met_no]}, ignore_index=True) #running the dtw function on x and y values\n",
    "    scores=scores.sort_values('Closeness').reset_index(drop=True) #sorting the values by closeness and reseting the index\n",
    "    return scores #returning the scores"
   ]
  },
  {
   "cell_type": "markdown",
   "metadata": {},
   "source": [
    "#### A function to create a correlation matrix of any metrics which have at least one full dataset (per country) and append the actual metric definitions"
   ]
  },
  {
   "cell_type": "code",
   "execution_count": 8,
   "metadata": {},
   "outputs": [],
   "source": [
    "def corr_defins(rec_nos): #only input is the minimum number of records to target\n",
    "    corr=table.loc[:,comps[comps['Total']>=rec_nos]['Metric'].unique()].corr()  #filtering the table df (created in process table) using the complete records df (created in process table) to only include metrics that have at least one full dataset\n",
    "    dict=pd.read_csv(\"../GroupProducts/Milestone1/Indicator_Dict.csv\") #reading in the definition csv\n",
    "    corr2=corr.merge(dict, how='left', left_index=True, right_on='Indicator Code').reset_index(drop=True) #merging the definitions on the metrics\n",
    "    return corr2 #returning the completed df"
   ]
  },
  {
   "cell_type": "markdown",
   "metadata": {},
   "source": [
    "#### A function to graph the results of line comparisons"
   ]
  },
  {
   "cell_type": "code",
   "execution_count": 9,
   "metadata": {},
   "outputs": [],
   "source": [
    "def graph_comps(rec, met_no, record, comparison): #rec is which pair (by row) to graph\n",
    "    cut=comps[comps['Total']>=comps['Total'].max()] #using the same list of full datasets for consistency\n",
    "    plt.plot(table[(table['Country Name']==eval(comparison)['Country1'][rec])]['variable'], table[(table['Country Name']==eval(comparison)['Country1'][rec])][cut['Metric'].unique()[met_no]], color='red', label=eval(comparison)['Country1'][rec]) #plotting the years and datapoints for the chosen country and the chosen metric for the a country\n",
    "    plt.plot(table[(table['Country Name']==eval(comparison)['Country2'][rec])]['variable'], table[(table['Country Name']==eval(comparison)['Country2'][rec])][cut['Metric'].unique()[met_no]], color='orange', label=eval(comparison)['Country2'][rec]) #plotting the years and datapoints for the chosen country and the chosen metric for the b country\n",
    "    plt.legend() \n",
    "    plt.show()"
   ]
  },
  {
   "cell_type": "markdown",
   "metadata": {},
   "source": [
    "#### A function to compare entire lines' closeness"
   ]
  },
  {
   "cell_type": "code",
   "execution_count": 10,
   "metadata": {},
   "outputs": [],
   "source": [
    "def close(table_in, met_no): #input is the name of the table (to pass to process table) and metric number to pass to the table_comps function\n",
    "    table, comps=process_table(table_in) #calling the process table function to pull the desired data and locate complete records\n",
    "    close1=table_comps(met_no, comps, comps['Total'].max(), table) #calling the table_comps function to computer the closeness scores\n",
    "    return close1 #returning the closeness score df"
   ]
  },
  {
   "cell_type": "markdown",
   "metadata": {},
   "source": [
    "#### A function to locate converging (or diverging if you reverse sort) lines by identifying their closeness pre-2000 and their closeness after 2000 then subtracting the pre value from the post value"
   ]
  },
  {
   "cell_type": "code",
   "execution_count": 11,
   "metadata": {},
   "outputs": [],
   "source": [
    "def divergence(table_in, met_no): #input is the name of the table (to pass to process table) and metric number to pass to the table_comps function\n",
    "    table, comps=process_table(table_in, year_l=2000, use=1) #Processing table with the parameters to only use pre-2000 data and, since we're not using the entire dataset, use is not \"keep\" so that everything is calculated new\n",
    "    close1=copy.deepcopy(table_comps(met_no, comps, comps['Total'].max(), table)) #running the table comps to get scores but using deepcopy to save those values for later comparison\n",
    "    table, comps=process_table(table_in, year_f=2001, use=1) #Processing table with the parameters to only use post-2001 data and, since we're not using the entire dataset, use is not \"keep\" so that everything is calculated new\n",
    "    met=met_lookup(comps, close1['Metric'].unique()[0]) #Since the number of complete metrics available change in different year groups, it looks up the first value by name in the second dataset and uses that value\n",
    "    close2=table_comps(met, comps, comps['Total'].max(), table) #getting the scores for post-2001 lines\n",
    "    close_both=pd.merge(close1, close2, on=['Country1', 'Country2']) #merging the scores together in the close_both dataframe\n",
    "    close_both['convergence']=close_both['Closeness_x']-close_both['Closeness_y'] #calculating the difference of the two lines so the greatest change is identified\n",
    "    close_both=close_both.sort_values('convergence', ascending=False).reset_index(drop=True) #sorting the values by this difference and reseting index\n",
    "    return close_both #returning the close_both dataframe"
   ]
  },
  {
   "cell_type": "markdown",
   "metadata": {},
   "source": [
    "#### First processing of the tables. This is only really useful to identify the potential metrics. Default for process table is all data"
   ]
  },
  {
   "cell_type": "code",
   "execution_count": 12,
   "metadata": {},
   "outputs": [
    {
     "name": "stdout",
     "output_type": "stream",
     "text": [
      "2022-02-02 16:25:25,746 INFO sqlalchemy.engine.base.Engine select version()\n",
      "2022-02-02 16:25:25,747 INFO sqlalchemy.engine.base.Engine {}\n",
      "2022-02-02 16:25:25,749 INFO sqlalchemy.engine.base.Engine select current_schema()\n",
      "2022-02-02 16:25:25,749 INFO sqlalchemy.engine.base.Engine {}\n",
      "2022-02-02 16:25:25,752 INFO sqlalchemy.engine.base.Engine SELECT CAST('test plain returns' AS VARCHAR(60)) AS anon_1\n",
      "2022-02-02 16:25:25,752 INFO sqlalchemy.engine.base.Engine {}\n",
      "2022-02-02 16:25:25,754 INFO sqlalchemy.engine.base.Engine SELECT CAST('test unicode returns' AS VARCHAR(60)) AS anon_1\n",
      "2022-02-02 16:25:25,754 INFO sqlalchemy.engine.base.Engine {}\n",
      "2022-02-02 16:25:25,756 INFO sqlalchemy.engine.base.Engine show standard_conforming_strings\n",
      "2022-02-02 16:25:25,756 INFO sqlalchemy.engine.base.Engine {}\n",
      "2022-02-02 16:25:25,758 INFO sqlalchemy.engine.base.Engine select relname from pg_class c join pg_namespace n on n.oid=c.relnamespace where pg_catalog.pg_table_is_visible(c.oid) and relname=%(name)s\n",
      "2022-02-02 16:25:25,758 INFO sqlalchemy.engine.base.Engine {'name': 'Select * from WB_pop'}\n",
      "2022-02-02 16:25:25,763 INFO sqlalchemy.engine.base.Engine Select * from WB_pop\n",
      "2022-02-02 16:25:25,763 INFO sqlalchemy.engine.base.Engine {}\n"
     ]
    }
   ],
   "source": [
    "table_in='pop' #naming the database table to use. Options are 'pop', 'gender', 'spi', 'wdi', and 'hnp'\n",
    "table, comps=process_table(table_in) #processing it"
   ]
  },
  {
   "cell_type": "markdown",
   "metadata": {},
   "source": [
    "#### Call to the lookup function using the complete records df and the target metric"
   ]
  },
  {
   "cell_type": "code",
   "execution_count": 14,
   "metadata": {},
   "outputs": [
    {
     "data": {
      "text/plain": [
       "19"
      ]
     },
     "execution_count": 14,
     "metadata": {},
     "output_type": "execute_result"
    }
   ],
   "source": [
    "met_lookup(comps, 'SPDYNTFRTIN')"
   ]
  },
  {
   "cell_type": "markdown",
   "metadata": {},
   "source": [
    "#### Call the table and process it for general line closeness"
   ]
  },
  {
   "cell_type": "code",
   "execution_count": 15,
   "metadata": {},
   "outputs": [
    {
     "name": "stdout",
     "output_type": "stream",
     "text": [
      "2022-02-02 16:27:53,353 INFO sqlalchemy.engine.base.Engine select relname from pg_class c join pg_namespace n on n.oid=c.relnamespace where pg_catalog.pg_table_is_visible(c.oid) and relname=%(name)s\n",
      "2022-02-02 16:27:53,354 INFO sqlalchemy.engine.base.Engine {'name': 'Select * from WB_pop'}\n",
      "2022-02-02 16:27:53,356 INFO sqlalchemy.engine.base.Engine Select * from WB_pop\n",
      "2022-02-02 16:27:53,357 INFO sqlalchemy.engine.base.Engine {}\n",
      "2022-02-02 16:33:04,446 INFO sqlalchemy.engine.base.Engine select relname from pg_class c join pg_namespace n on n.oid=c.relnamespace where pg_catalog.pg_table_is_visible(c.oid) and relname=%(name)s\n",
      "2022-02-02 16:33:04,447 INFO sqlalchemy.engine.base.Engine {'name': 'Select * from WB_pop'}\n",
      "2022-02-02 16:33:04,709 INFO sqlalchemy.engine.base.Engine Select * from WB_pop\n",
      "2022-02-02 16:33:04,710 INFO sqlalchemy.engine.base.Engine {}\n"
     ]
    }
   ],
   "source": [
    "table_in=\"pop\"\n",
    "close=close(table_in, 19) #only the metric number needs changed\n",
    "table, comps=process_table(table_in)"
   ]
  },
  {
   "cell_type": "markdown",
   "metadata": {},
   "source": [
    "#### Calling the function to find converging lines"
   ]
  },
  {
   "cell_type": "code",
   "execution_count": 18,
   "metadata": {},
   "outputs": [
    {
     "name": "stdout",
     "output_type": "stream",
     "text": [
      "2022-02-02 16:37:29,694 INFO sqlalchemy.engine.base.Engine select relname from pg_class c join pg_namespace n on n.oid=c.relnamespace where pg_catalog.pg_table_is_visible(c.oid) and relname=%(name)s\n",
      "2022-02-02 16:37:29,695 INFO sqlalchemy.engine.base.Engine {'name': 'Select * from WB_pop'}\n",
      "2022-02-02 16:37:29,708 INFO sqlalchemy.engine.base.Engine Select * from WB_pop\n",
      "2022-02-02 16:37:29,709 INFO sqlalchemy.engine.base.Engine {}\n",
      "2022-02-02 16:48:51,757 INFO sqlalchemy.engine.base.Engine select relname from pg_class c join pg_namespace n on n.oid=c.relnamespace where pg_catalog.pg_table_is_visible(c.oid) and relname=%(name)s\n",
      "2022-02-02 16:48:51,758 INFO sqlalchemy.engine.base.Engine {'name': 'Select * from WB_pop'}\n",
      "2022-02-02 16:48:52,182 INFO sqlalchemy.engine.base.Engine Select * from WB_pop\n",
      "2022-02-02 16:48:52,183 INFO sqlalchemy.engine.base.Engine {}\n",
      "2022-02-02 16:59:53,710 INFO sqlalchemy.engine.base.Engine select relname from pg_class c join pg_namespace n on n.oid=c.relnamespace where pg_catalog.pg_table_is_visible(c.oid) and relname=%(name)s\n",
      "2022-02-02 16:59:53,711 INFO sqlalchemy.engine.base.Engine {'name': 'Select * from WB_pop'}\n",
      "2022-02-02 16:59:53,719 INFO sqlalchemy.engine.base.Engine Select * from WB_pop\n",
      "2022-02-02 16:59:53,719 INFO sqlalchemy.engine.base.Engine {}\n"
     ]
    }
   ],
   "source": [
    "table_in=\"pop\"\n",
    "close_both=divergence(table_in, 19)\n",
    "table, comps=process_table(table_in, use=1)"
   ]
  },
  {
   "cell_type": "markdown",
   "metadata": {},
   "source": [
    "#### Graphing the desired row of the desired table"
   ]
  },
  {
   "cell_type": "code",
   "execution_count": 23,
   "metadata": {},
   "outputs": [
    {
     "data": {
      "image/png": "[encoded data removed]",
      "text/plain": [
       "<Figure size 432x288 with 1 Axes>"
      ]
     },
     "metadata": {
      "needs_background": "light"
     },
     "output_type": "display_data"
    }
   ],
   "source": [
    "rec=1 #Select which row to graph\n",
    "comparison='close_both' #choose \"close\" for two lines' closeness (\"close\" df) or \"close_both\" for lines that converge(diverge if you reverse sort)\n",
    "\n",
    "\n",
    "if comparison=='close': #A simple if function to set the \"Metric\" reference to \"Metric_x\" if needed\n",
    "    metric=\"Metric\"\n",
    "else:\n",
    "    metric=\"Metric_x\"\n",
    "met=met_lookup(comps, eval(comparison)[metric].unique()[0]) #Metric is parsed from the table called above\n",
    "graph_comps(rec, met, comps, comparison)"
   ]
  }
 ],
 "metadata": {
  "kernelspec": {
   "display_name": "Python 3",
   "language": "python",
   "name": "python3"
  },
  "language_info": {
   "codemirror_mode": {
    "name": "ipython",
    "version": 3
   },
   "file_extension": ".py",
   "mimetype": "text/x-python",
   "name": "python",
   "nbconvert_exporter": "python",
   "pygments_lexer": "ipython3",
   "version": "3.7.3"
  }
 },
 "nbformat": 4,
 "nbformat_minor": 2
}
