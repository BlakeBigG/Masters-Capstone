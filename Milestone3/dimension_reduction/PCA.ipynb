{
 "cells": [
  {
   "cell_type": "markdown",
   "metadata": {},
   "source": [
    "# PCA"
   ]
  },
  {
   "cell_type": "markdown",
   "metadata": {},
   "source": [
    "In this notebook, we explored the use of principal components analysis. We did not find it to be useful, so it is not used in any further work."
   ]
  },
  {
   "cell_type": "markdown",
   "metadata": {},
   "source": [
    "#### Import libraries"
   ]
  },
  {
   "cell_type": "code",
   "execution_count": 1,
   "metadata": {},
   "outputs": [],
   "source": [
    "import pandas as pd\n",
    "from sklearn.preprocessing import StandardScaler\n",
    "from sklearn.decomposition import PCA\n",
    "import seaborn as sns\n",
    "import matplotlib.pyplot as plt\n",
    "import os"
   ]
  },
  {
   "cell_type": "markdown",
   "metadata": {},
   "source": [
    "#### Import dataset with null values filled"
   ]
  },
  {
   "cell_type": "code",
   "execution_count": 9,
   "metadata": {},
   "outputs": [],
   "source": [
    "full=pd.read_csv(\"../../M2/carpentry/completeDF.csv\")\n",
    "full=full.loc[:,['CountryName', 'Year', 'Continent', 'Region1', 'ISO3'] + [x for x in full.columns[2:598]]]"
   ]
  },
  {
   "cell_type": "markdown",
   "metadata": {},
   "source": [
    "#### Designating only the columns that have data (not \"indicator\", \"short_name\", \"alpha2\", \"alpha3\", \"numeric_code\", or \"iso3166\") as x then designating the country code and year as the y values. I then normalized the values using standardscaler before running a PCA to find the number of principal components required to explain 50% of variance."
   ]
  },
  {
   "cell_type": "code",
   "execution_count": 11,
   "metadata": {},
   "outputs": [
    {
     "data": {
      "text/html": [
       "<div>\n",
       "<style scoped>\n",
       "    .dataframe tbody tr th:only-of-type {\n",
       "        vertical-align: middle;\n",
       "    }\n",
       "\n",
       "    .dataframe tbody tr th {\n",
       "        vertical-align: top;\n",
       "    }\n",
       "\n",
       "    .dataframe thead th {\n",
       "        text-align: right;\n",
       "    }\n",
       "</style>\n",
       "<table border=\"1\" class=\"dataframe\">\n",
       "  <thead>\n",
       "    <tr style=\"text-align: right;\">\n",
       "      <th></th>\n",
       "      <th>SPURBGROW</th>\n",
       "      <th>SPPOPAG25FEIN</th>\n",
       "      <th>SPPOPAG25MAIN</th>\n",
       "      <th>SPPOPDPND</th>\n",
       "      <th>SPPOPDPNDOL</th>\n",
       "      <th>SPPOPDPNDYG</th>\n",
       "      <th>SPPOPGROW</th>\n",
       "      <th>SPPOPTOTL</th>\n",
       "      <th>SPPOPTOTLFEIN</th>\n",
       "      <th>SPPOPTOTLFEZS</th>\n",
       "      <th>...</th>\n",
       "      <th>ENATMCO2EGFZS</th>\n",
       "      <th>ENATMCO2ELFZS</th>\n",
       "      <th>NEGDITOTLKDZG</th>\n",
       "      <th>NYGDPFCSTKD</th>\n",
       "      <th>NYGDPFCSTKN</th>\n",
       "      <th>NYTAXNINDCD</th>\n",
       "      <th>SEPRMENRRFE</th>\n",
       "      <th>SEENRPRIMFMZS</th>\n",
       "      <th>SEPRMENRRMA</th>\n",
       "      <th>NVINDMANFKDZG</th>\n",
       "    </tr>\n",
       "  </thead>\n",
       "  <tbody>\n",
       "    <tr>\n",
       "      <th>0</th>\n",
       "      <td>2.543043</td>\n",
       "      <td>29833.0</td>\n",
       "      <td>30896.0</td>\n",
       "      <td>61.994909</td>\n",
       "      <td>8.901594</td>\n",
       "      <td>53.093316</td>\n",
       "      <td>1.799086</td>\n",
       "      <td>3286542.0</td>\n",
       "      <td>1603543.0</td>\n",
       "      <td>48.791200</td>\n",
       "      <td>...</td>\n",
       "      <td>7.697669</td>\n",
       "      <td>35.942661</td>\n",
       "      <td>4.090118</td>\n",
       "      <td>4.687984e+09</td>\n",
       "      <td>5.561554e+11</td>\n",
       "      <td>4.565230e+08</td>\n",
       "      <td>99.688721</td>\n",
       "      <td>1.004590</td>\n",
       "      <td>99.233337</td>\n",
       "      <td>-1.330062</td>\n",
       "    </tr>\n",
       "    <tr>\n",
       "      <th>1</th>\n",
       "      <td>0.141061</td>\n",
       "      <td>28894.0</td>\n",
       "      <td>29109.0</td>\n",
       "      <td>62.715405</td>\n",
       "      <td>9.191396</td>\n",
       "      <td>53.524009</td>\n",
       "      <td>-0.602810</td>\n",
       "      <td>3266790.0</td>\n",
       "      <td>1604790.0</td>\n",
       "      <td>49.124359</td>\n",
       "      <td>...</td>\n",
       "      <td>6.691606</td>\n",
       "      <td>54.246618</td>\n",
       "      <td>4.090118</td>\n",
       "      <td>3.484063e+09</td>\n",
       "      <td>4.133292e+11</td>\n",
       "      <td>5.590416e+08</td>\n",
       "      <td>101.441803</td>\n",
       "      <td>1.003980</td>\n",
       "      <td>101.039749</td>\n",
       "      <td>4.437151</td>\n",
       "    </tr>\n",
       "    <tr>\n",
       "      <th>2</th>\n",
       "      <td>0.878430</td>\n",
       "      <td>27689.0</td>\n",
       "      <td>26863.0</td>\n",
       "      <td>63.311979</td>\n",
       "      <td>9.516996</td>\n",
       "      <td>53.794984</td>\n",
       "      <td>-0.606435</td>\n",
       "      <td>3247039.0</td>\n",
       "      <td>1610302.0</td>\n",
       "      <td>49.592946</td>\n",
       "      <td>...</td>\n",
       "      <td>8.840089</td>\n",
       "      <td>63.190268</td>\n",
       "      <td>12.409764</td>\n",
       "      <td>3.241802e+09</td>\n",
       "      <td>3.845887e+11</td>\n",
       "      <td>5.590416e+08</td>\n",
       "      <td>100.397087</td>\n",
       "      <td>1.016420</td>\n",
       "      <td>98.775101</td>\n",
       "      <td>4.437151</td>\n",
       "    </tr>\n",
       "    <tr>\n",
       "      <th>3</th>\n",
       "      <td>0.855535</td>\n",
       "      <td>26544.0</td>\n",
       "      <td>24681.0</td>\n",
       "      <td>63.743013</td>\n",
       "      <td>9.867033</td>\n",
       "      <td>53.875979</td>\n",
       "      <td>-0.610166</td>\n",
       "      <td>3227287.0</td>\n",
       "      <td>1617124.0</td>\n",
       "      <td>50.107849</td>\n",
       "      <td>...</td>\n",
       "      <td>7.617440</td>\n",
       "      <td>71.568502</td>\n",
       "      <td>14.755181</td>\n",
       "      <td>3.599532e+09</td>\n",
       "      <td>4.270277e+11</td>\n",
       "      <td>7.219805e+08</td>\n",
       "      <td>100.271362</td>\n",
       "      <td>1.034970</td>\n",
       "      <td>96.882889</td>\n",
       "      <td>5.424634</td>\n",
       "    </tr>\n",
       "    <tr>\n",
       "      <th>4</th>\n",
       "      <td>0.843726</td>\n",
       "      <td>25748.0</td>\n",
       "      <td>23079.0</td>\n",
       "      <td>64.077234</td>\n",
       "      <td>10.223010</td>\n",
       "      <td>53.854224</td>\n",
       "      <td>-0.613881</td>\n",
       "      <td>3207536.0</td>\n",
       "      <td>1620663.0</td>\n",
       "      <td>50.526741</td>\n",
       "      <td>...</td>\n",
       "      <td>4.626589</td>\n",
       "      <td>75.053551</td>\n",
       "      <td>18.104511</td>\n",
       "      <td>4.012270e+09</td>\n",
       "      <td>4.759926e+11</td>\n",
       "      <td>1.058321e+09</td>\n",
       "      <td>100.879402</td>\n",
       "      <td>0.987640</td>\n",
       "      <td>102.142090</td>\n",
       "      <td>8.645841</td>\n",
       "    </tr>\n",
       "    <tr>\n",
       "      <th>...</th>\n",
       "      <td>...</td>\n",
       "      <td>...</td>\n",
       "      <td>...</td>\n",
       "      <td>...</td>\n",
       "      <td>...</td>\n",
       "      <td>...</td>\n",
       "      <td>...</td>\n",
       "      <td>...</td>\n",
       "      <td>...</td>\n",
       "      <td>...</td>\n",
       "      <td>...</td>\n",
       "      <td>...</td>\n",
       "      <td>...</td>\n",
       "      <td>...</td>\n",
       "      <td>...</td>\n",
       "      <td>...</td>\n",
       "      <td>...</td>\n",
       "      <td>...</td>\n",
       "      <td>...</td>\n",
       "      <td>...</td>\n",
       "      <td>...</td>\n",
       "    </tr>\n",
       "    <tr>\n",
       "      <th>3145</th>\n",
       "      <td>4.327370</td>\n",
       "      <td>133642.0</td>\n",
       "      <td>128389.0</td>\n",
       "      <td>93.203987</td>\n",
       "      <td>3.973663</td>\n",
       "      <td>89.230324</td>\n",
       "      <td>3.066671</td>\n",
       "      <td>15879370.0</td>\n",
       "      <td>8022199.0</td>\n",
       "      <td>50.519630</td>\n",
       "      <td>...</td>\n",
       "      <td>0.000000</td>\n",
       "      <td>59.236154</td>\n",
       "      <td>9.407809</td>\n",
       "      <td>2.015869e+10</td>\n",
       "      <td>1.178873e+11</td>\n",
       "      <td>1.092538e+09</td>\n",
       "      <td>101.614197</td>\n",
       "      <td>1.003020</td>\n",
       "      <td>101.308441</td>\n",
       "      <td>5.417245</td>\n",
       "    </tr>\n",
       "    <tr>\n",
       "      <th>3146</th>\n",
       "      <td>4.262052</td>\n",
       "      <td>137619.0</td>\n",
       "      <td>132483.0</td>\n",
       "      <td>91.971859</td>\n",
       "      <td>3.975174</td>\n",
       "      <td>87.996686</td>\n",
       "      <td>3.002935</td>\n",
       "      <td>16363449.0</td>\n",
       "      <td>8264686.0</td>\n",
       "      <td>50.506993</td>\n",
       "      <td>...</td>\n",
       "      <td>0.000000</td>\n",
       "      <td>52.610626</td>\n",
       "      <td>10.550494</td>\n",
       "      <td>2.092371e+10</td>\n",
       "      <td>1.223611e+11</td>\n",
       "      <td>9.875374e+08</td>\n",
       "      <td>99.593117</td>\n",
       "      <td>1.020070</td>\n",
       "      <td>97.633209</td>\n",
       "      <td>1.921707</td>\n",
       "    </tr>\n",
       "    <tr>\n",
       "      <th>3147</th>\n",
       "      <td>4.211239</td>\n",
       "      <td>141849.0</td>\n",
       "      <td>136828.0</td>\n",
       "      <td>90.462311</td>\n",
       "      <td>3.970769</td>\n",
       "      <td>86.491541</td>\n",
       "      <td>2.951463</td>\n",
       "      <td>16853608.0</td>\n",
       "      <td>8510848.0</td>\n",
       "      <td>50.498671</td>\n",
       "      <td>...</td>\n",
       "      <td>17.920393</td>\n",
       "      <td>59.145462</td>\n",
       "      <td>11.070866</td>\n",
       "      <td>2.165732e+10</td>\n",
       "      <td>1.266513e+11</td>\n",
       "      <td>1.701890e+09</td>\n",
       "      <td>99.904190</td>\n",
       "      <td>1.024200</td>\n",
       "      <td>97.543297</td>\n",
       "      <td>4.373472</td>\n",
       "    </tr>\n",
       "    <tr>\n",
       "      <th>3148</th>\n",
       "      <td>4.172817</td>\n",
       "      <td>146483.0</td>\n",
       "      <td>141615.0</td>\n",
       "      <td>88.806851</td>\n",
       "      <td>3.964335</td>\n",
       "      <td>84.842516</td>\n",
       "      <td>2.912653</td>\n",
       "      <td>17351714.0</td>\n",
       "      <td>8761437.0</td>\n",
       "      <td>50.493208</td>\n",
       "      <td>...</td>\n",
       "      <td>17.920393</td>\n",
       "      <td>59.145462</td>\n",
       "      <td>11.319178</td>\n",
       "      <td>2.253398e+10</td>\n",
       "      <td>1.317780e+11</td>\n",
       "      <td>2.086249e+09</td>\n",
       "      <td>93.011977</td>\n",
       "      <td>1.003332</td>\n",
       "      <td>92.755049</td>\n",
       "      <td>4.071350</td>\n",
       "    </tr>\n",
       "    <tr>\n",
       "      <th>3149</th>\n",
       "      <td>4.151133</td>\n",
       "      <td>151555.0</td>\n",
       "      <td>146895.0</td>\n",
       "      <td>87.188182</td>\n",
       "      <td>3.959618</td>\n",
       "      <td>83.228564</td>\n",
       "      <td>2.893018</td>\n",
       "      <td>17861034.0</td>\n",
       "      <td>9017820.0</td>\n",
       "      <td>50.488790</td>\n",
       "      <td>...</td>\n",
       "      <td>17.920393</td>\n",
       "      <td>59.145462</td>\n",
       "      <td>4.788189</td>\n",
       "      <td>2.287313e+10</td>\n",
       "      <td>1.337613e+11</td>\n",
       "      <td>1.769940e+09</td>\n",
       "      <td>93.011977</td>\n",
       "      <td>1.003332</td>\n",
       "      <td>92.755049</td>\n",
       "      <td>2.426601</td>\n",
       "    </tr>\n",
       "  </tbody>\n",
       "</table>\n",
       "<p>3150 rows × 596 columns</p>\n",
       "</div>"
      ],
      "text/plain": [
       "      SPURBGROW  SPPOPAG25FEIN  SPPOPAG25MAIN  SPPOPDPND  SPPOPDPNDOL  \\\n",
       "0      2.543043        29833.0        30896.0  61.994909     8.901594   \n",
       "1      0.141061        28894.0        29109.0  62.715405     9.191396   \n",
       "2      0.878430        27689.0        26863.0  63.311979     9.516996   \n",
       "3      0.855535        26544.0        24681.0  63.743013     9.867033   \n",
       "4      0.843726        25748.0        23079.0  64.077234    10.223010   \n",
       "...         ...            ...            ...        ...          ...   \n",
       "3145   4.327370       133642.0       128389.0  93.203987     3.973663   \n",
       "3146   4.262052       137619.0       132483.0  91.971859     3.975174   \n",
       "3147   4.211239       141849.0       136828.0  90.462311     3.970769   \n",
       "3148   4.172817       146483.0       141615.0  88.806851     3.964335   \n",
       "3149   4.151133       151555.0       146895.0  87.188182     3.959618   \n",
       "\n",
       "      SPPOPDPNDYG  SPPOPGROW   SPPOPTOTL  SPPOPTOTLFEIN  SPPOPTOTLFEZS  ...  \\\n",
       "0       53.093316   1.799086   3286542.0      1603543.0      48.791200  ...   \n",
       "1       53.524009  -0.602810   3266790.0      1604790.0      49.124359  ...   \n",
       "2       53.794984  -0.606435   3247039.0      1610302.0      49.592946  ...   \n",
       "3       53.875979  -0.610166   3227287.0      1617124.0      50.107849  ...   \n",
       "4       53.854224  -0.613881   3207536.0      1620663.0      50.526741  ...   \n",
       "...           ...        ...         ...            ...            ...  ...   \n",
       "3145    89.230324   3.066671  15879370.0      8022199.0      50.519630  ...   \n",
       "3146    87.996686   3.002935  16363449.0      8264686.0      50.506993  ...   \n",
       "3147    86.491541   2.951463  16853608.0      8510848.0      50.498671  ...   \n",
       "3148    84.842516   2.912653  17351714.0      8761437.0      50.493208  ...   \n",
       "3149    83.228564   2.893018  17861034.0      9017820.0      50.488790  ...   \n",
       "\n",
       "      ENATMCO2EGFZS  ENATMCO2ELFZS  NEGDITOTLKDZG   NYGDPFCSTKD   NYGDPFCSTKN  \\\n",
       "0          7.697669      35.942661       4.090118  4.687984e+09  5.561554e+11   \n",
       "1          6.691606      54.246618       4.090118  3.484063e+09  4.133292e+11   \n",
       "2          8.840089      63.190268      12.409764  3.241802e+09  3.845887e+11   \n",
       "3          7.617440      71.568502      14.755181  3.599532e+09  4.270277e+11   \n",
       "4          4.626589      75.053551      18.104511  4.012270e+09  4.759926e+11   \n",
       "...             ...            ...            ...           ...           ...   \n",
       "3145       0.000000      59.236154       9.407809  2.015869e+10  1.178873e+11   \n",
       "3146       0.000000      52.610626      10.550494  2.092371e+10  1.223611e+11   \n",
       "3147      17.920393      59.145462      11.070866  2.165732e+10  1.266513e+11   \n",
       "3148      17.920393      59.145462      11.319178  2.253398e+10  1.317780e+11   \n",
       "3149      17.920393      59.145462       4.788189  2.287313e+10  1.337613e+11   \n",
       "\n",
       "       NYTAXNINDCD  SEPRMENRRFE  SEENRPRIMFMZS  SEPRMENRRMA  NVINDMANFKDZG  \n",
       "0     4.565230e+08    99.688721       1.004590    99.233337      -1.330062  \n",
       "1     5.590416e+08   101.441803       1.003980   101.039749       4.437151  \n",
       "2     5.590416e+08   100.397087       1.016420    98.775101       4.437151  \n",
       "3     7.219805e+08   100.271362       1.034970    96.882889       5.424634  \n",
       "4     1.058321e+09   100.879402       0.987640   102.142090       8.645841  \n",
       "...            ...          ...            ...          ...            ...  \n",
       "3145  1.092538e+09   101.614197       1.003020   101.308441       5.417245  \n",
       "3146  9.875374e+08    99.593117       1.020070    97.633209       1.921707  \n",
       "3147  1.701890e+09    99.904190       1.024200    97.543297       4.373472  \n",
       "3148  2.086249e+09    93.011977       1.003332    92.755049       4.071350  \n",
       "3149  1.769940e+09    93.011977       1.003332    92.755049       2.426601  \n",
       "\n",
       "[3150 rows x 596 columns]"
      ]
     },
     "execution_count": 11,
     "metadata": {},
     "output_type": "execute_result"
    }
   ],
   "source": [
    "full.iloc[:,5:]"
   ]
  },
  {
   "cell_type": "code",
   "execution_count": 12,
   "metadata": {},
   "outputs": [
    {
     "data": {
      "text/html": [
       "<div>\n",
       "<style scoped>\n",
       "    .dataframe tbody tr th:only-of-type {\n",
       "        vertical-align: middle;\n",
       "    }\n",
       "\n",
       "    .dataframe tbody tr th {\n",
       "        vertical-align: top;\n",
       "    }\n",
       "\n",
       "    .dataframe thead th {\n",
       "        text-align: right;\n",
       "    }\n",
       "</style>\n",
       "<table border=\"1\" class=\"dataframe\">\n",
       "  <thead>\n",
       "    <tr style=\"text-align: right;\">\n",
       "      <th></th>\n",
       "      <th>CountryName</th>\n",
       "      <th>Year</th>\n",
       "      <th>Continent</th>\n",
       "      <th>Region1</th>\n",
       "      <th>ISO3</th>\n",
       "      <th>SPURBGROW</th>\n",
       "      <th>SPPOPAG25FEIN</th>\n",
       "      <th>SPPOPAG25MAIN</th>\n",
       "      <th>SPPOPDPND</th>\n",
       "      <th>SPPOPDPNDOL</th>\n",
       "      <th>...</th>\n",
       "      <th>ENATMCO2EGFZS</th>\n",
       "      <th>ENATMCO2ELFZS</th>\n",
       "      <th>NEGDITOTLKDZG</th>\n",
       "      <th>NYGDPFCSTKD</th>\n",
       "      <th>NYGDPFCSTKN</th>\n",
       "      <th>NYTAXNINDCD</th>\n",
       "      <th>SEPRMENRRFE</th>\n",
       "      <th>SEENRPRIMFMZS</th>\n",
       "      <th>SEPRMENRRMA</th>\n",
       "      <th>NVINDMANFKDZG</th>\n",
       "    </tr>\n",
       "  </thead>\n",
       "  <tbody>\n",
       "    <tr>\n",
       "      <th>0</th>\n",
       "      <td>Albania</td>\n",
       "      <td>1990.0</td>\n",
       "      <td>Europe</td>\n",
       "      <td>Southern Europe</td>\n",
       "      <td>ALB</td>\n",
       "      <td>2.543043</td>\n",
       "      <td>29833.0</td>\n",
       "      <td>30896.0</td>\n",
       "      <td>61.994909</td>\n",
       "      <td>8.901594</td>\n",
       "      <td>...</td>\n",
       "      <td>7.697669</td>\n",
       "      <td>35.942661</td>\n",
       "      <td>4.090118</td>\n",
       "      <td>4.687984e+09</td>\n",
       "      <td>5.561554e+11</td>\n",
       "      <td>4.565230e+08</td>\n",
       "      <td>99.688721</td>\n",
       "      <td>1.00459</td>\n",
       "      <td>99.233337</td>\n",
       "      <td>-1.330062</td>\n",
       "    </tr>\n",
       "    <tr>\n",
       "      <th>1</th>\n",
       "      <td>Albania</td>\n",
       "      <td>1991.0</td>\n",
       "      <td>Europe</td>\n",
       "      <td>Southern Europe</td>\n",
       "      <td>ALB</td>\n",
       "      <td>0.141061</td>\n",
       "      <td>28894.0</td>\n",
       "      <td>29109.0</td>\n",
       "      <td>62.715405</td>\n",
       "      <td>9.191396</td>\n",
       "      <td>...</td>\n",
       "      <td>6.691606</td>\n",
       "      <td>54.246618</td>\n",
       "      <td>4.090118</td>\n",
       "      <td>3.484063e+09</td>\n",
       "      <td>4.133292e+11</td>\n",
       "      <td>5.590416e+08</td>\n",
       "      <td>101.441803</td>\n",
       "      <td>1.00398</td>\n",
       "      <td>101.039749</td>\n",
       "      <td>4.437151</td>\n",
       "    </tr>\n",
       "    <tr>\n",
       "      <th>2</th>\n",
       "      <td>Albania</td>\n",
       "      <td>1992.0</td>\n",
       "      <td>Europe</td>\n",
       "      <td>Southern Europe</td>\n",
       "      <td>ALB</td>\n",
       "      <td>0.878430</td>\n",
       "      <td>27689.0</td>\n",
       "      <td>26863.0</td>\n",
       "      <td>63.311979</td>\n",
       "      <td>9.516996</td>\n",
       "      <td>...</td>\n",
       "      <td>8.840089</td>\n",
       "      <td>63.190268</td>\n",
       "      <td>12.409764</td>\n",
       "      <td>3.241802e+09</td>\n",
       "      <td>3.845887e+11</td>\n",
       "      <td>5.590416e+08</td>\n",
       "      <td>100.397087</td>\n",
       "      <td>1.01642</td>\n",
       "      <td>98.775101</td>\n",
       "      <td>4.437151</td>\n",
       "    </tr>\n",
       "    <tr>\n",
       "      <th>3</th>\n",
       "      <td>Albania</td>\n",
       "      <td>1993.0</td>\n",
       "      <td>Europe</td>\n",
       "      <td>Southern Europe</td>\n",
       "      <td>ALB</td>\n",
       "      <td>0.855535</td>\n",
       "      <td>26544.0</td>\n",
       "      <td>24681.0</td>\n",
       "      <td>63.743013</td>\n",
       "      <td>9.867033</td>\n",
       "      <td>...</td>\n",
       "      <td>7.617440</td>\n",
       "      <td>71.568502</td>\n",
       "      <td>14.755181</td>\n",
       "      <td>3.599532e+09</td>\n",
       "      <td>4.270277e+11</td>\n",
       "      <td>7.219805e+08</td>\n",
       "      <td>100.271362</td>\n",
       "      <td>1.03497</td>\n",
       "      <td>96.882889</td>\n",
       "      <td>5.424634</td>\n",
       "    </tr>\n",
       "    <tr>\n",
       "      <th>4</th>\n",
       "      <td>Albania</td>\n",
       "      <td>1994.0</td>\n",
       "      <td>Europe</td>\n",
       "      <td>Southern Europe</td>\n",
       "      <td>ALB</td>\n",
       "      <td>0.843726</td>\n",
       "      <td>25748.0</td>\n",
       "      <td>23079.0</td>\n",
       "      <td>64.077234</td>\n",
       "      <td>10.223010</td>\n",
       "      <td>...</td>\n",
       "      <td>4.626589</td>\n",
       "      <td>75.053551</td>\n",
       "      <td>18.104511</td>\n",
       "      <td>4.012270e+09</td>\n",
       "      <td>4.759926e+11</td>\n",
       "      <td>1.058321e+09</td>\n",
       "      <td>100.879402</td>\n",
       "      <td>0.98764</td>\n",
       "      <td>102.142090</td>\n",
       "      <td>8.645841</td>\n",
       "    </tr>\n",
       "  </tbody>\n",
       "</table>\n",
       "<p>5 rows × 601 columns</p>\n",
       "</div>"
      ],
      "text/plain": [
       "  CountryName    Year Continent          Region1 ISO3  SPURBGROW  \\\n",
       "0     Albania  1990.0    Europe  Southern Europe  ALB   2.543043   \n",
       "1     Albania  1991.0    Europe  Southern Europe  ALB   0.141061   \n",
       "2     Albania  1992.0    Europe  Southern Europe  ALB   0.878430   \n",
       "3     Albania  1993.0    Europe  Southern Europe  ALB   0.855535   \n",
       "4     Albania  1994.0    Europe  Southern Europe  ALB   0.843726   \n",
       "\n",
       "   SPPOPAG25FEIN  SPPOPAG25MAIN  SPPOPDPND  SPPOPDPNDOL  ...  ENATMCO2EGFZS  \\\n",
       "0        29833.0        30896.0  61.994909     8.901594  ...       7.697669   \n",
       "1        28894.0        29109.0  62.715405     9.191396  ...       6.691606   \n",
       "2        27689.0        26863.0  63.311979     9.516996  ...       8.840089   \n",
       "3        26544.0        24681.0  63.743013     9.867033  ...       7.617440   \n",
       "4        25748.0        23079.0  64.077234    10.223010  ...       4.626589   \n",
       "\n",
       "   ENATMCO2ELFZS  NEGDITOTLKDZG   NYGDPFCSTKD   NYGDPFCSTKN   NYTAXNINDCD  \\\n",
       "0      35.942661       4.090118  4.687984e+09  5.561554e+11  4.565230e+08   \n",
       "1      54.246618       4.090118  3.484063e+09  4.133292e+11  5.590416e+08   \n",
       "2      63.190268      12.409764  3.241802e+09  3.845887e+11  5.590416e+08   \n",
       "3      71.568502      14.755181  3.599532e+09  4.270277e+11  7.219805e+08   \n",
       "4      75.053551      18.104511  4.012270e+09  4.759926e+11  1.058321e+09   \n",
       "\n",
       "   SEPRMENRRFE  SEENRPRIMFMZS  SEPRMENRRMA  NVINDMANFKDZG  \n",
       "0    99.688721        1.00459    99.233337      -1.330062  \n",
       "1   101.441803        1.00398   101.039749       4.437151  \n",
       "2   100.397087        1.01642    98.775101       4.437151  \n",
       "3   100.271362        1.03497    96.882889       5.424634  \n",
       "4   100.879402        0.98764   102.142090       8.645841  \n",
       "\n",
       "[5 rows x 601 columns]"
      ]
     },
     "execution_count": 12,
     "metadata": {},
     "output_type": "execute_result"
    }
   ],
   "source": [
    "full.head()"
   ]
  },
  {
   "cell_type": "code",
   "execution_count": 13,
   "metadata": {},
   "outputs": [
    {
     "data": {
      "text/plain": [
       "4"
      ]
     },
     "execution_count": 13,
     "metadata": {},
     "output_type": "execute_result"
    }
   ],
   "source": [
    "x=full.iloc[:,5:]\n",
    "y=full.loc[:,['CountryName']].values\n",
    "x=StandardScaler().fit_transform(x)\n",
    "pca=PCA(.5)\n",
    "comps=pca.fit_transform(x)\n",
    "pca.n_components_"
   ]
  },
  {
   "cell_type": "markdown",
   "metadata": {},
   "source": [
    "#### Designating only the columns that have data (not \"indicator\", \"short_name\", \"alpha2\", \"alpha3\", \"numeric_code\", or \"iso3166\") as x then designating the country code and year as the y values. I then normalized the values using standardscaler before running a PCA to find the number of principal components required to explain 75% of variance."
   ]
  },
  {
   "cell_type": "code",
   "execution_count": 14,
   "metadata": {},
   "outputs": [
    {
     "data": {
      "text/plain": [
       "15"
      ]
     },
     "execution_count": 14,
     "metadata": {},
     "output_type": "execute_result"
    }
   ],
   "source": [
    "x=full.iloc[:,5:]\n",
    "y=full.loc[:,['CountryName']].values\n",
    "x=StandardScaler().fit_transform(x)\n",
    "pca=PCA(.75)\n",
    "comps=pca.fit_transform(x)\n",
    "pca.n_components_"
   ]
  },
  {
   "cell_type": "markdown",
   "metadata": {},
   "source": [
    "#### Designating only the columns that have data (not \"indicator\", \"short_name\", \"alpha2\", \"alpha3\", \"numeric_code\", or \"iso3166\") as x then designating the country code and year as the y values. I then normalized the values using standardscaler before running a PCA to find the number of principal components required to explain 90% of variance."
   ]
  },
  {
   "cell_type": "code",
   "execution_count": 15,
   "metadata": {},
   "outputs": [
    {
     "data": {
      "text/plain": [
       "53"
      ]
     },
     "execution_count": 15,
     "metadata": {},
     "output_type": "execute_result"
    }
   ],
   "source": [
    "x=full.iloc[:,5:]\n",
    "y=full.loc[:,['CountryName']].values\n",
    "x=StandardScaler().fit_transform(x)\n",
    "pca=PCA(.90)\n",
    "comps=pca.fit_transform(x)\n",
    "pca.n_components_"
   ]
  },
  {
   "cell_type": "markdown",
   "metadata": {},
   "source": [
    "#### Iterating through each country and performing the same PCA as above for each percentage given in the list [.5, .75, .9]"
   ]
  },
  {
   "cell_type": "code",
   "execution_count": 16,
   "metadata": {},
   "outputs": [],
   "source": [
    "prin_compsBC=pd.DataFrame()\n",
    "for x in full['CountryName'].unique():\n",
    "    for y in [.5, .75, .9]:\n",
    "        df=full[full['CountryName']==x]\n",
    "        a=df.iloc[:,5:]\n",
    "        b=df.loc[:,[\"Year\", 'CountryName']].values\n",
    "\n",
    "        a=StandardScaler().fit_transform(a)\n",
    "        pca=PCA(y)\n",
    "        comps=pca.fit_transform(a)\n",
    "        #print(x, y, pca.n_components_)\n",
    "        prin_compsBC=prin_compsBC.append(pd.DataFrame([[x, y, int(pca.n_components_)]], columns=['CountryCode', 'Var_Expl', 'n_comps']))"
   ]
  },
  {
   "cell_type": "markdown",
   "metadata": {},
   "source": [
    "#### Previewing output"
   ]
  },
  {
   "cell_type": "code",
   "execution_count": 17,
   "metadata": {},
   "outputs": [
    {
     "data": {
      "text/html": [
       "<div>\n",
       "<style scoped>\n",
       "    .dataframe tbody tr th:only-of-type {\n",
       "        vertical-align: middle;\n",
       "    }\n",
       "\n",
       "    .dataframe tbody tr th {\n",
       "        vertical-align: top;\n",
       "    }\n",
       "\n",
       "    .dataframe thead th {\n",
       "        text-align: right;\n",
       "    }\n",
       "</style>\n",
       "<table border=\"1\" class=\"dataframe\">\n",
       "  <thead>\n",
       "    <tr style=\"text-align: right;\">\n",
       "      <th></th>\n",
       "      <th>CountryCode</th>\n",
       "      <th>Var_Expl</th>\n",
       "      <th>n_comps</th>\n",
       "    </tr>\n",
       "  </thead>\n",
       "  <tbody>\n",
       "    <tr>\n",
       "      <th>0</th>\n",
       "      <td>Albania</td>\n",
       "      <td>0.50</td>\n",
       "      <td>1</td>\n",
       "    </tr>\n",
       "    <tr>\n",
       "      <th>0</th>\n",
       "      <td>Albania</td>\n",
       "      <td>0.75</td>\n",
       "      <td>3</td>\n",
       "    </tr>\n",
       "    <tr>\n",
       "      <th>0</th>\n",
       "      <td>Albania</td>\n",
       "      <td>0.90</td>\n",
       "      <td>7</td>\n",
       "    </tr>\n",
       "    <tr>\n",
       "      <th>0</th>\n",
       "      <td>Algeria</td>\n",
       "      <td>0.50</td>\n",
       "      <td>1</td>\n",
       "    </tr>\n",
       "    <tr>\n",
       "      <th>0</th>\n",
       "      <td>Algeria</td>\n",
       "      <td>0.75</td>\n",
       "      <td>2</td>\n",
       "    </tr>\n",
       "  </tbody>\n",
       "</table>\n",
       "</div>"
      ],
      "text/plain": [
       "  CountryCode  Var_Expl  n_comps\n",
       "0     Albania      0.50        1\n",
       "0     Albania      0.75        3\n",
       "0     Albania      0.90        7\n",
       "0     Algeria      0.50        1\n",
       "0     Algeria      0.75        2"
      ]
     },
     "execution_count": 17,
     "metadata": {},
     "output_type": "execute_result"
    }
   ],
   "source": [
    "prin_compsBC.head()"
   ]
  },
  {
   "cell_type": "markdown",
   "metadata": {},
   "source": [
    "#### Since the PCA is being performed on panel data, the particular values aren't really trustworthy but I binned them into a histogram to help me better understand the variability that I would expect to see for 50% variance explained."
   ]
  },
  {
   "cell_type": "code",
   "execution_count": 18,
   "metadata": {},
   "outputs": [
    {
     "data": {
      "text/plain": [
       "<matplotlib.axes._subplots.AxesSubplot at 0x7f80221f8080>"
      ]
     },
     "execution_count": 18,
     "metadata": {},
     "output_type": "execute_result"
    },
    {
     "data": {
      "image/png": "[encoded data removed]",
      "text/plain": [
       "<Figure size 432x288 with 1 Axes>"
      ]
     },
     "metadata": {
      "needs_background": "light"
     },
     "output_type": "display_data"
    }
   ],
   "source": [
    "sns.countplot(x='n_comps', data=prin_compsBC[prin_compsBC['Var_Expl']==.5], color='gray')"
   ]
  },
  {
   "cell_type": "markdown",
   "metadata": {},
   "source": [
    "#### Since the PCA is being performed on panel data, the particular values aren't really trustworthy but I binned them into a histogram to help me better understand the variability that I would expect to see for 75% variance explained."
   ]
  },
  {
   "cell_type": "code",
   "execution_count": 19,
   "metadata": {},
   "outputs": [
    {
     "data": {
      "text/plain": [
       "<matplotlib.axes._subplots.AxesSubplot at 0x7f802013eef0>"
      ]
     },
     "execution_count": 19,
     "metadata": {},
     "output_type": "execute_result"
    },
    {
     "data": {
      "image/png": "[encoded data removed]",
      "text/plain": [
       "<Figure size 432x288 with 1 Axes>"
      ]
     },
     "metadata": {
      "needs_background": "light"
     },
     "output_type": "display_data"
    }
   ],
   "source": [
    "sns.countplot(x='n_comps', data=prin_compsBC[prin_compsBC['Var_Expl']==.75], color='gray')"
   ]
  },
  {
   "cell_type": "markdown",
   "metadata": {},
   "source": [
    "#### Since the PCA is being performed on panel data, the particular values aren't really trustworthy but I binned them into a histogram to help me better understand the variability that I would expect to see for 90% variance explained."
   ]
  },
  {
   "cell_type": "code",
   "execution_count": 22,
   "metadata": {},
   "outputs": [
    {
     "data": {
      "text/plain": [
       "<matplotlib.axes._subplots.AxesSubplot at 0x7f801fabf860>"
      ]
     },
     "execution_count": 22,
     "metadata": {},
     "output_type": "execute_result"
    },
    {
     "data": {
      "image/png": "[encoded data removed]",
      "text/plain": [
       "<Figure size 432x288 with 1 Axes>"
      ]
     },
     "metadata": {
      "needs_background": "light"
     },
     "output_type": "display_data"
    }
   ],
   "source": [
    "sns.countplot(x='n_comps', data=prin_compsBC[prin_compsBC['Var_Expl']==.9], color='gray')"
   ]
  },
  {
   "cell_type": "markdown",
   "metadata": {},
   "source": [
    "#### Combination plot"
   ]
  },
  {
   "cell_type": "code",
   "execution_count": 23,
   "metadata": {},
   "outputs": [
    {
     "data": {
      "text/plain": [
       "<matplotlib.axes._subplots.AxesSubplot at 0x7f801fa337b8>"
      ]
     },
     "execution_count": 23,
     "metadata": {},
     "output_type": "execute_result"
    },
    {
     "data": {
      "image/png": "[encoded data removed]",
      "text/plain": [
       "<Figure size 432x288 with 1 Axes>"
      ]
     },
     "metadata": {
      "needs_background": "light"
     },
     "output_type": "display_data"
    }
   ],
   "source": [
    "sns.countplot(x='n_comps', data=prin_compsBC, hue='Var_Expl')"
   ]
  },
  {
   "cell_type": "markdown",
   "metadata": {},
   "source": [
    "#### This is the same basic idea as above except instead of breaking the data down by country, I did a cross section of all countries in a given year."
   ]
  },
  {
   "cell_type": "code",
   "execution_count": 25,
   "metadata": {},
   "outputs": [],
   "source": [
    "prin_compsBY=pd.DataFrame()\n",
    "for x in full['Year'].unique():\n",
    "    for y in [.5, .75, .9]:\n",
    "        df=full[full['Year']==x]\n",
    "        a=df.iloc[:,5:]\n",
    "        b=df.loc[:,[\"Year\", 'CountryName']].values\n",
    "        a=StandardScaler().fit_transform(a)\n",
    "        pca=PCA(y)\n",
    "        comps=pca.fit_transform(a)\n",
    "        #print(x, y, pca.n_components_)\n",
    "        prin_compsBY=prin_compsBY.append(pd.DataFrame([[x, y, int(pca.n_components_)]], columns=['CountryCode', 'Var_Expl', 'n_comps']))"
   ]
  },
  {
   "cell_type": "markdown",
   "metadata": {},
   "source": [
    "#### Per year for all countries at 50% variance explained"
   ]
  },
  {
   "cell_type": "code",
   "execution_count": 26,
   "metadata": {},
   "outputs": [
    {
     "data": {
      "text/plain": [
       "<matplotlib.axes._subplots.AxesSubplot at 0x7f801f95a7f0>"
      ]
     },
     "execution_count": 26,
     "metadata": {},
     "output_type": "execute_result"
    },
    {
     "data": {
      "image/png": "[encoded data removed]",
      "text/plain": [
       "<Figure size 432x288 with 1 Axes>"
      ]
     },
     "metadata": {
      "needs_background": "light"
     },
     "output_type": "display_data"
    }
   ],
   "source": [
    "sns.countplot(x='n_comps', data=prin_compsBY[prin_compsBY['Var_Expl']==.5], color='gray')"
   ]
  },
  {
   "cell_type": "markdown",
   "metadata": {},
   "source": [
    "#### Per year for all countries at 75% variance explained"
   ]
  },
  {
   "cell_type": "code",
   "execution_count": 27,
   "metadata": {},
   "outputs": [
    {
     "data": {
      "text/plain": [
       "<matplotlib.axes._subplots.AxesSubplot at 0x7f801f94ed30>"
      ]
     },
     "execution_count": 27,
     "metadata": {},
     "output_type": "execute_result"
    },
    {
     "data": {
      "image/png": "[encoded data removed]",
      "text/plain": [
       "<Figure size 432x288 with 1 Axes>"
      ]
     },
     "metadata": {
      "needs_background": "light"
     },
     "output_type": "display_data"
    }
   ],
   "source": [
    "sns.countplot(x='n_comps', data=prin_compsBY[prin_compsBY['Var_Expl']==.75], color='gray')"
   ]
  },
  {
   "cell_type": "markdown",
   "metadata": {},
   "source": [
    "#### Per year for all countries at 90% variance explained"
   ]
  },
  {
   "cell_type": "code",
   "execution_count": 28,
   "metadata": {},
   "outputs": [
    {
     "data": {
      "text/plain": [
       "<matplotlib.axes._subplots.AxesSubplot at 0x7f801f8a1f28>"
      ]
     },
     "execution_count": 28,
     "metadata": {},
     "output_type": "execute_result"
    },
    {
     "data": {
      "image/png": "[encoded data removed]",
      "text/plain": [
       "<Figure size 432x288 with 1 Axes>"
      ]
     },
     "metadata": {
      "needs_background": "light"
     },
     "output_type": "display_data"
    }
   ],
   "source": [
    "sns.countplot(x='n_comps', data=prin_compsBY[prin_compsBY['Var_Expl']==.9], color='gray')"
   ]
  },
  {
   "cell_type": "markdown",
   "metadata": {},
   "source": [
    "#### Combination plot"
   ]
  },
  {
   "cell_type": "code",
   "execution_count": 29,
   "metadata": {},
   "outputs": [
    {
     "data": {
      "text/plain": [
       "<matplotlib.axes._subplots.AxesSubplot at 0x7f801f883e10>"
      ]
     },
     "execution_count": 29,
     "metadata": {},
     "output_type": "execute_result"
    },
    {
     "data": {
      "image/png": "[encoded data removed]",
      "text/plain": [
       "<Figure size 432x288 with 1 Axes>"
      ]
     },
     "metadata": {
      "needs_background": "light"
     },
     "output_type": "display_data"
    }
   ],
   "source": [
    "sns.countplot(x='n_comps', data=prin_compsBC, hue='Var_Expl')"
   ]
  },
  {
   "cell_type": "code",
   "execution_count": 30,
   "metadata": {},
   "outputs": [
    {
     "data": {
      "image/png": "[encoded data removed]",
      "text/plain": [
       "<Figure size 1080x360 with 2 Axes>"
      ]
     },
     "metadata": {
      "needs_background": "light"
     },
     "output_type": "display_data"
    }
   ],
   "source": [
    "fig = plt.figure(figsize=(15,5*1)) #Setting a variable height based on the number of rows needed\n",
    "fig.subplots_adjust(hspace=.5, wspace=0.3) \n",
    "\n",
    "ax = fig.add_subplot(121)\n",
    "sns.countplot(x='n_comps', data=prin_compsBC, hue='Var_Expl').set(xlabel='Number of Principal Components', ylabel='', title='PCAs by Country')\n",
    "plt.legend(title='Variance Levels')\n",
    "ax = fig.add_subplot(122)\n",
    "sns.countplot(x='n_comps', data=prin_compsBY, hue='Var_Expl').set(xlabel='Number of Principal Components', ylabel='', title='PCAs by Year')\n",
    "\n",
    "plt.legend(title='Variance Levels')\n",
    "#plt.show()\n",
    "plt.savefig('PCAs.png')"
   ]
  },
  {
   "cell_type": "code",
   "execution_count": 32,
   "metadata": {},
   "outputs": [],
   "source": [
    "prin_compsBCont=pd.DataFrame()\n",
    "for x in full['Continent'].unique():\n",
    "    for y in [.5, .75, .9]:\n",
    "        df=full[full['Continent']==x]\n",
    "        a=df.iloc[:,5:]\n",
    "        b=df.loc[:,[\"Year\", 'Continent']].values\n",
    "\n",
    "        a=StandardScaler().fit_transform(a)\n",
    "        pca=PCA(y)\n",
    "        comps=pca.fit_transform(a)\n",
    "        #print(x, y, pca.n_components_)\n",
    "        prin_compsBCont=prin_compsBCont.append(pd.DataFrame([[x, y, int(pca.n_components_)]], columns=['Continent', 'Var_Expl', 'n_comps']))"
   ]
  },
  {
   "cell_type": "code",
   "execution_count": 33,
   "metadata": {},
   "outputs": [
    {
     "data": {
      "text/html": [
       "<div>\n",
       "<style scoped>\n",
       "    .dataframe tbody tr th:only-of-type {\n",
       "        vertical-align: middle;\n",
       "    }\n",
       "\n",
       "    .dataframe tbody tr th {\n",
       "        vertical-align: top;\n",
       "    }\n",
       "\n",
       "    .dataframe thead th {\n",
       "        text-align: right;\n",
       "    }\n",
       "</style>\n",
       "<table border=\"1\" class=\"dataframe\">\n",
       "  <thead>\n",
       "    <tr style=\"text-align: right;\">\n",
       "      <th></th>\n",
       "      <th>Continent</th>\n",
       "      <th>Var_Expl</th>\n",
       "      <th>n_comps</th>\n",
       "    </tr>\n",
       "  </thead>\n",
       "  <tbody>\n",
       "    <tr>\n",
       "      <th>0</th>\n",
       "      <td>Europe</td>\n",
       "      <td>0.50</td>\n",
       "      <td>3</td>\n",
       "    </tr>\n",
       "    <tr>\n",
       "      <th>0</th>\n",
       "      <td>Europe</td>\n",
       "      <td>0.75</td>\n",
       "      <td>12</td>\n",
       "    </tr>\n",
       "    <tr>\n",
       "      <th>0</th>\n",
       "      <td>Europe</td>\n",
       "      <td>0.90</td>\n",
       "      <td>37</td>\n",
       "    </tr>\n",
       "    <tr>\n",
       "      <th>0</th>\n",
       "      <td>Africa</td>\n",
       "      <td>0.50</td>\n",
       "      <td>3</td>\n",
       "    </tr>\n",
       "    <tr>\n",
       "      <th>0</th>\n",
       "      <td>Africa</td>\n",
       "      <td>0.75</td>\n",
       "      <td>12</td>\n",
       "    </tr>\n",
       "    <tr>\n",
       "      <th>0</th>\n",
       "      <td>Africa</td>\n",
       "      <td>0.90</td>\n",
       "      <td>38</td>\n",
       "    </tr>\n",
       "    <tr>\n",
       "      <th>0</th>\n",
       "      <td>South America</td>\n",
       "      <td>0.50</td>\n",
       "      <td>2</td>\n",
       "    </tr>\n",
       "    <tr>\n",
       "      <th>0</th>\n",
       "      <td>South America</td>\n",
       "      <td>0.75</td>\n",
       "      <td>6</td>\n",
       "    </tr>\n",
       "    <tr>\n",
       "      <th>0</th>\n",
       "      <td>South America</td>\n",
       "      <td>0.90</td>\n",
       "      <td>17</td>\n",
       "    </tr>\n",
       "    <tr>\n",
       "      <th>0</th>\n",
       "      <td>Asia</td>\n",
       "      <td>0.50</td>\n",
       "      <td>3</td>\n",
       "    </tr>\n",
       "    <tr>\n",
       "      <th>0</th>\n",
       "      <td>Asia</td>\n",
       "      <td>0.75</td>\n",
       "      <td>11</td>\n",
       "    </tr>\n",
       "    <tr>\n",
       "      <th>0</th>\n",
       "      <td>Asia</td>\n",
       "      <td>0.90</td>\n",
       "      <td>31</td>\n",
       "    </tr>\n",
       "    <tr>\n",
       "      <th>0</th>\n",
       "      <td>Oceania</td>\n",
       "      <td>0.50</td>\n",
       "      <td>1</td>\n",
       "    </tr>\n",
       "    <tr>\n",
       "      <th>0</th>\n",
       "      <td>Oceania</td>\n",
       "      <td>0.75</td>\n",
       "      <td>3</td>\n",
       "    </tr>\n",
       "    <tr>\n",
       "      <th>0</th>\n",
       "      <td>Oceania</td>\n",
       "      <td>0.90</td>\n",
       "      <td>6</td>\n",
       "    </tr>\n",
       "    <tr>\n",
       "      <th>0</th>\n",
       "      <td>North America</td>\n",
       "      <td>0.50</td>\n",
       "      <td>2</td>\n",
       "    </tr>\n",
       "    <tr>\n",
       "      <th>0</th>\n",
       "      <td>North America</td>\n",
       "      <td>0.75</td>\n",
       "      <td>6</td>\n",
       "    </tr>\n",
       "    <tr>\n",
       "      <th>0</th>\n",
       "      <td>North America</td>\n",
       "      <td>0.90</td>\n",
       "      <td>18</td>\n",
       "    </tr>\n",
       "  </tbody>\n",
       "</table>\n",
       "</div>"
      ],
      "text/plain": [
       "       Continent  Var_Expl  n_comps\n",
       "0         Europe      0.50        3\n",
       "0         Europe      0.75       12\n",
       "0         Europe      0.90       37\n",
       "0         Africa      0.50        3\n",
       "0         Africa      0.75       12\n",
       "0         Africa      0.90       38\n",
       "0  South America      0.50        2\n",
       "0  South America      0.75        6\n",
       "0  South America      0.90       17\n",
       "0           Asia      0.50        3\n",
       "0           Asia      0.75       11\n",
       "0           Asia      0.90       31\n",
       "0        Oceania      0.50        1\n",
       "0        Oceania      0.75        3\n",
       "0        Oceania      0.90        6\n",
       "0  North America      0.50        2\n",
       "0  North America      0.75        6\n",
       "0  North America      0.90       18"
      ]
     },
     "execution_count": 33,
     "metadata": {},
     "output_type": "execute_result"
    }
   ],
   "source": [
    "prin_compsBCont"
   ]
  }
 ],
 "metadata": {
  "kernelspec": {
   "display_name": "Python 3",
   "language": "python",
   "name": "python3"
  },
  "language_info": {
   "codemirror_mode": {
    "name": "ipython",
    "version": 3
   },
   "file_extension": ".py",
   "mimetype": "text/x-python",
   "name": "python",
   "nbconvert_exporter": "python",
   "pygments_lexer": "ipython3",
   "version": "3.7.3"
  }
 },
 "nbformat": 4,
 "nbformat_minor": 2
}
