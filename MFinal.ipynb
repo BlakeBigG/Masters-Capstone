{
 "cells": [
  {
   "cell_type": "markdown",
   "metadata": {},
   "source": [
    "## MFinal.ipynb"
   ]
  },
  {
   "cell_type": "markdown",
   "metadata": {},
   "source": [
    "Data Journey: https://europa.dsa.missouri.edu/user/jyymn/notebooks/sp22Capstone_01_Group03/CapstoneOrganization/MFinal/final_products/data_journey.ipynb\n",
    "\n",
    "Data Story/Dashboard: https://rshiny.dsa.missouri.edu/students/jyymn/DATA-SCI-8430/group03dashboard/\n",
    "\n",
    "Final Slideshow: https://europa.dsa.missouri.edu/user/bmgwd9/files/sp22Capstone_01_Group03/CapstoneOrganization/MFinal/final_products/Group%203%20Final%20Presentation.pdf"
   ]
  },
  {
   "cell_type": "markdown",
   "metadata": {},
   "source": [
    "This directory contains a notebook detailing our data journey. Additionally, there is a link to our dashboard (data story), which neatly shows the results of our models, including how various models performed in each country and the variables which are used to predict population. Finally, the slides from our defense are included, so that the user can get a better picture of what our process was, along with any insights not included in the dashboard."
   ]
  }
 ],
 "metadata": {
  "kernelspec": {
   "display_name": "Python 3",
   "language": "python",
   "name": "python3"
  },
  "language_info": {
   "codemirror_mode": {
    "name": "ipython",
    "version": 3
   },
   "file_extension": ".py",
   "mimetype": "text/x-python",
   "name": "python",
   "nbconvert_exporter": "python",
   "pygments_lexer": "ipython3",
   "version": "3.7.3"
  }
 },
 "nbformat": 4,
 "nbformat_minor": 2
}
