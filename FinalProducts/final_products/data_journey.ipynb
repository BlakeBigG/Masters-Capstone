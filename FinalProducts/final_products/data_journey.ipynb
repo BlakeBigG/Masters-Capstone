{
 "cells": [
  {
   "cell_type": "markdown",
   "metadata": {},
   "source": [
    "# Data Journey"
   ]
  },
  {
   "cell_type": "markdown",
   "metadata": {},
   "source": [
    "This notebook describes our data journey. It is organized by milestone, and the links to the milestones are directly under each header."
   ]
  },
  {
   "cell_type": "markdown",
   "metadata": {},
   "source": [
    "## Milestone 1\n",
    "\n",
    "https://europa.dsa.missouri.edu/user/cahvmr/notebooks/sp22Capstone_01_Group03/CapstoneOrganization/M1/M1.ipynb"
   ]
  },
  {
   "cell_type": "markdown",
   "metadata": {},
   "source": [
    "The point of this milestone was to get our data and develop a plan. Our plan was to take the World Bank and UN data and try to use it to see if there were any features that could be controlled by humans that predicted population change well. We were in the early stages of our discussion at this point, but we ended up downloading the data, reformatting it into panel data, and uploading it to a PostgreSQL database. We also created a file that matches column indicators with their full names, which was necessary to know what data we were looking at."
   ]
  },
  {
   "cell_type": "markdown",
   "metadata": {},
   "source": [
    "## Milestone 2\n",
    "\n",
    "https://europa.dsa.missouri.edu/user/cahvmr/notebooks/sp22Capstone_01_Group03/CapstoneOrganization/M2/M2.ipynb"
   ]
  },
  {
   "cell_type": "markdown",
   "metadata": {},
   "source": [
    "This milestone was basically a refinement of milestone 1. We got started on the rest of the data carpentry here, but for the purpose of repeatability, we included notebooks which were not completed until milestone 4, which contain the complete data carpentry process."
   ]
  },
  {
   "cell_type": "markdown",
   "metadata": {},
   "source": [
    "## Milestone 3\n",
    "\n",
    "https://europa.dsa.missouri.edu/user/cahvmr/notebooks/sp22Capstone_01_Group03/CapstoneOrganization/M3/M3.ipynb"
   ]
  },
  {
   "cell_type": "markdown",
   "metadata": {},
   "source": [
    "In this milestone, we conducted exploratory data analysis. Some of the notebooks in this milestone don't really go anywhere, some were used to obtain visualizations for our executive week presentation and capstone defense, some helped us with feature selection, and some weren't created until well into the modeling process.\n",
    "\n",
    "First, we did some basic analysis, such as finding descriptive statistics and plotting population-related variables. We got deeper into correlation analysis with the 'rabbit hole' notebook, which allowed us to see correlations of correlations, helping us to reduce multicollinearity.\n",
    "\n",
    "We got deeper into the analysis and found that there was a large drop in population under age 4 during the 1990s, which later recovered to normal levels. We found this odd, so upon investigating, found that China could explain most of this drop. The most likely explanation is that this was the result of the one child policy, but we didn't have time to test this hypothesis. It did lead to some discussion on whether or not this kind of policy is the solution to our problem.\n",
    "\n",
    "We did some testing regarding PCA and dynamic time warping, but didn't pursue either further because we belived they wouldn't be useful for solving our problem. PCA didn't work because we needed to know which variables were affecting our target variable.\n",
    "\n",
    "We started trying to cluster countries once we got into the modeling, but didn't have time to complete this. The work we did get done on clustering is included here if the reader is interested in seeing it."
   ]
  },
  {
   "cell_type": "markdown",
   "metadata": {},
   "source": [
    "## Milestone 4\n",
    "\n",
    "https://europa.dsa.missouri.edu/user/cahvmr/notebooks/sp22Capstone_01_Group03/CapstoneOrganization/M4/M4.ipynb"
   ]
  },
  {
   "cell_type": "markdown",
   "metadata": {},
   "source": [
    "This milestone contains our preliminary modeling work. We found that for panel data, the most common modeling approaches were pooledOLS, fixed effects, and random effects. We tried these models in Python, but found that R's plm package offered more support, so we switched to R for the extensive modeling.\n",
    "\n",
    "We considered incorporating more immigration data. We decided against it because we already had enough on our plate and the data we found was not satisfactory. The data didn't go back as far as the World Bank and UN data, the numbers didn't add up right, and many countries didn't report until recently. We decided to stick with what we had."
   ]
  },
  {
   "cell_type": "markdown",
   "metadata": {},
   "source": [
    "## Milestone 5\n",
    "\n",
    "No code committed for this milestone, so no notebook to link to."
   ]
  },
  {
   "cell_type": "markdown",
   "metadata": {},
   "source": [
    "This milestone was mostly about refining work from previous milestones and getting started on our data story. The data story code is saved for milestone 7, because there is only one notebook and it seemed like a more logical place to put it.\n",
    "\n",
    "It was around this time that we settled on birth rate as our target variable. We chose this because it got at what we wanted more precisely than population change. Population change in a country can be affected by number of births, number of deaths, and net immigration, but we found that controlling birth rate would be the best way to control population change, mostly due to ethical reasons and the aformentioned problems we had with immigration."
   ]
  },
  {
   "cell_type": "markdown",
   "metadata": {},
   "source": [
    "## Milestone 6\n",
    "\n",
    "https://europa.dsa.missouri.edu/user/cahvmr/notebooks/sp22Capstone_01_Group03/CapstoneOrganization/M6/M6.ipynb"
   ]
  },
  {
   "cell_type": "markdown",
   "metadata": {},
   "source": [
    "This is the milestone in which we further explored our model of choice and applied a recursive forward selection algorithm to generate model variables on a world, continent, and regional basis. During this process we also generated RMSE scores for each country on each model, and saved it along with the model variables that make up the model for the final step - the dashboard.\n",
    "This is where we also learned that the model of choice does not generate future predictions which meant we had to manually calculate predictions. This too was saved was saved for each iteration and for each country."
   ]
  },
  {
   "cell_type": "markdown",
   "metadata": {},
   "source": [
    "## Milestone 7\n",
    "\n",
    "https://europa.dsa.missouri.edu/user/cahvmr/notebooks/sp22Capstone_01_Group03/CapstoneOrganization/M7/M7.ipynb"
   ]
  },
  {
   "cell_type": "markdown",
   "metadata": {},
   "source": [
    "Using the RMSEs, model variables, and predicted values calculated in the Milestone 6, an R Shiny dashboard was created to quickly view a country, how it performed on a global, continental, and regional model, and the variables which produced the model based on the results of the forward selection algorithm. Additionally, we prepared our capstone defense. The slides from our presentation are included in Milestone 8."
   ]
  },
  {
   "cell_type": "markdown",
   "metadata": {},
   "source": [
    "## Milestone 8\n",
    "\n",
    "https://europa.dsa.missouri.edu/user/cahvmr/notebooks/sp22Capstone_01_Group03/CapstoneOrganization/M8/M8.ipynb\n",
    "\n",
    "Dashboard: https://rshiny.dsa.missouri.edu/students/jyymn/DATA-SCI-8430/group03dashboard/\n",
    "\n",
    "Slides: https://europa.dsa.missouri.edu/user/bmgwd9/files/sp22Capstone_01_Group03/CapstoneOrganization/MFinal/final_products/Group%203%20Final%20Presentation.pdf"
   ]
  },
  {
   "cell_type": "markdown",
   "metadata": {},
   "source": [
    "The only additional deliverables for milestone 8 are the data story (dashboard), this notebook and the organized directory containing the notebooks and data necessary to duplicate our work. We also included the slides from the capstone defense, since they contain all the interesting visualizations and an explanation of our process."
   ]
  }
 ],
 "metadata": {
  "kernelspec": {
   "display_name": "Python 3",
   "language": "python",
   "name": "python3"
  },
  "language_info": {
   "codemirror_mode": {
    "name": "ipython",
    "version": 3
   },
   "file_extension": ".py",
   "mimetype": "text/x-python",
   "name": "python",
   "nbconvert_exporter": "python",
   "pygments_lexer": "ipython3",
   "version": "3.7.3"
  }
 },
 "nbformat": 4,
 "nbformat_minor": 2
}
