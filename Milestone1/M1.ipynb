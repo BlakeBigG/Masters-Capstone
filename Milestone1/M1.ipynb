{
 "cells": [
  {
   "cell_type": "markdown",
   "metadata": {},
   "source": [
    "## M1"
   ]
  },
  {
   "cell_type": "markdown",
   "metadata": {},
   "source": [
    "obtain_data (Run this first): https://europa.dsa.missouri.edu/user/cahvmr/notebooks/sp22Capstone_01_Group03/CapstoneOrganization/M1/obtain_data/obtain_data.ipynb\n",
    "\n",
    "make_indicator_dict (Run this second): https://europa.dsa.missouri.edu/user/bmgwd9/notebooks/sp22Capstone_01_Group03/CapstoneOrganization/M1/make_indicator_dict/make_indicator_dict.ipynb"
   ]
  },
  {
   "cell_type": "markdown",
   "metadata": {},
   "source": [
    "In this milestone, we obtained our datasets from World Bank and UN, reformatted them, and pushed them to a PostgreSQL database. We also created a dictionary for reference that matches column indicator codes with their names, table of origin and percentage of data missing."
   ]
  },
  {
   "cell_type": "markdown",
   "metadata": {},
   "source": [
    "The datasets we used are all from World Bank. They are as follows:\n",
    "\n",
    "Population - https://data.worldbank.org/indicator/SP.POP.TOTL\n",
    "\n",
    "Gender - https://data.worldbank.org/topic/gender\n",
    "\n",
    "Health, Nutrition, and Population - https://datatopics.worldbank.org/health/\n",
    "\n",
    "World Development Indicators - https://datatopics.worldbank.org/world-development-indicators/\n",
    "\n",
    "Statistical Performance Indicators - https://www.worldbank.org/en/programs/statistical-performance-indicators/explore-data"
   ]
  },
  {
   "cell_type": "markdown",
   "metadata": {},
   "source": [
    "We have already uploaded these datasets into /M1/initial_data in the self-contained code repeatability directory."
   ]
  }
 ],
 "metadata": {
  "kernelspec": {
   "display_name": "Python 3",
   "language": "python",
   "name": "python3"
  },
  "language_info": {
   "codemirror_mode": {
    "name": "ipython",
    "version": 3
   },
   "file_extension": ".py",
   "mimetype": "text/x-python",
   "name": "python",
   "nbconvert_exporter": "python",
   "pygments_lexer": "ipython3",
   "version": "3.7.3"
  }
 },
 "nbformat": 4,
 "nbformat_minor": 2
}
