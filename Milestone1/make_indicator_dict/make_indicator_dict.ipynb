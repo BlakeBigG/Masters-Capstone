{
 "cells": [
  {
   "cell_type": "markdown",
   "metadata": {},
   "source": [
    "# Make_indicator_dict"
   ]
  },
  {
   "cell_type": "markdown",
   "metadata": {},
   "source": [
    "This notebook is used to make a dictionary that allows the lookup of full name, table of origin, and percentage of missing data for each column in the combined dataset. The columns have indicator codes that are difficult to understand, so this dictionary is a helpful resourse."
   ]
  },
  {
   "cell_type": "markdown",
   "metadata": {},
   "source": [
    "## Part 1: Match indicators with names"
   ]
  },
  {
   "cell_type": "markdown",
   "metadata": {},
   "source": [
    "#### Import libraries"
   ]
  },
  {
   "cell_type": "code",
   "execution_count": 1,
   "metadata": {},
   "outputs": [
    {
     "name": "stderr",
     "output_type": "stream",
     "text": [
      "/opt/conda/lib/python3.7/site-packages/pandas/compat/_optional.py:138: UserWarning: Pandas requires version '2.7.0' or newer of 'numexpr' (version '2.6.9' currently installed).\n",
      "  warnings.warn(msg, UserWarning)\n"
     ]
    }
   ],
   "source": [
    "import pandas as pd"
   ]
  },
  {
   "cell_type": "markdown",
   "metadata": {},
   "source": [
    "#### Importing the original tables that still had the Indicator Name included then making a list of the tables. SPI is omitted as it was used in the original df creation."
   ]
  },
  {
   "cell_type": "code",
   "execution_count": 2,
   "metadata": {},
   "outputs": [],
   "source": [
    "pop=pd.read_csv(\"../initial_data/Population-EstimatesData.csv\", sep=\",\")\n",
    "spi=pd.read_csv(\"../initial_data/SPIData.csv\", sep=\",\")\n",
    "gen=pd.read_csv(\"../initial_data/Gender_StatsData.csv\", sep=\",\")\n",
    "hnp=pd.read_csv(\"../initial_data/HNP_StatsData.csv\", sep=\",\")\n",
    "wdi=pd.read_csv(\"../initial_data/WDIData.csv\", sep=\",\")\n",
    "tabs=['pop', 'gen', 'hnp', 'wdi']\n",
    "    "
   ]
  },
  {
   "cell_type": "markdown",
   "metadata": {},
   "source": [
    "#### Making a dataframe using the Indicator Name and Indicator Code columns from SPI called \"Indicators\"\n",
    "#### Using a for loop to go through the list of tables, extracting the two columns we want, and appending them to the bottom of the Indicators df we're creating\n",
    "#### Dropping duplicates and resetting the index on the new df we're making\n",
    "#### Using a for loop that goes the length of the df and removes periods and underscores from the Indicator Code column\n",
    "#### Writing the df to CSV"
   ]
  },
  {
   "cell_type": "code",
   "execution_count": 3,
   "metadata": {},
   "outputs": [],
   "source": [
    "Indicators=spi[['Indicator Code', 'Indicator Name']]\n",
    "for x in tabs:\n",
    "    codes=eval(x)[['Indicator Code', 'Indicator Name']]\n",
    "    Indicators=Indicators.append(codes)\n",
    "Indicators=Indicators.drop_duplicates().reset_index(drop=True)\n",
    "for row in range(len(Indicators['Indicator Code'])):\n",
    "    Indicators['Indicator Code'][row]=Indicators['Indicator Code'][row].replace(\".\",\"\").replace(\"_\",\"\")\n",
    "Indicators.drop_duplicates(subset='Indicator Code').to_csv(\"Indicator_Dict.csv\", index=False)"
   ]
  },
  {
   "cell_type": "markdown",
   "metadata": {},
   "source": [
    "#### Checking and verifying "
   ]
  },
  {
   "cell_type": "code",
   "execution_count": 4,
   "metadata": {},
   "outputs": [
    {
     "data": {
      "text/plain": [
       "(2265, 2)"
      ]
     },
     "execution_count": 4,
     "metadata": {},
     "output_type": "execute_result"
    }
   ],
   "source": [
    "check=pd.read_csv(\"Indicator_Dict.csv\")\n",
    "check.shape"
   ]
  },
  {
   "cell_type": "code",
   "execution_count": 5,
   "metadata": {},
   "outputs": [
    {
     "data": {
      "text/plain": [
       "(2265, 2)"
      ]
     },
     "execution_count": 5,
     "metadata": {},
     "output_type": "execute_result"
    }
   ],
   "source": [
    "check.drop_duplicates(subset='Indicator Code').shape"
   ]
  },
  {
   "cell_type": "markdown",
   "metadata": {},
   "source": [
    "## Part 2: Make table consisting of indicator code, percentage of data missing, and table of origin"
   ]
  },
  {
   "cell_type": "markdown",
   "metadata": {},
   "source": [
    "### Connect to DB"
   ]
  },
  {
   "cell_type": "code",
   "execution_count": 6,
   "metadata": {},
   "outputs": [
    {
     "name": "stdout",
     "output_type": "stream",
     "text": [
      "Enter username: bmgwd9\n"
     ]
    }
   ],
   "source": [
    "username = input('Enter username: ')"
   ]
  },
  {
   "cell_type": "code",
   "execution_count": 7,
   "metadata": {},
   "outputs": [
    {
     "name": "stdout",
     "output_type": "stream",
     "text": [
      "········\n"
     ]
    }
   ],
   "source": [
    "import getpass\n",
    "import pandas as pd\n",
    "mypasswd = getpass.getpass()\n",
    "#username = input('Enter username')\n",
    "host = 'pgsql.dsa.lan'\n",
    "database = 'caponl_22g3'\n",
    "# Then connects to the DB\n",
    "from sqlalchemy.engine.url import URL\n",
    "from sqlalchemy import create_engine\n",
    "\n",
    "# SQLAlchemy Connection Parameters\n",
    "postgres_db = {'drivername': 'postgres',\n",
    "               'username': username,\n",
    "               'password': mypasswd,\n",
    "               'host': host,\n",
    "               'database' :database}\n",
    "engine = create_engine(URL(**postgres_db), echo=True)\n",
    "connection_string = f\"postgres://{username}:{mypasswd}@{host}/{database}\"\n",
    "%load_ext sql\n",
    "%sql $connection_string \n",
    "del mypasswd"
   ]
  },
  {
   "cell_type": "markdown",
   "metadata": {},
   "source": [
    "### Use a for loop on a list of tables to iterate through the following process:\n",
    "#### Record the name of the current table in the 'tab' variable\n",
    "#### Save a SQL statement with the \"table\" to be designated in a format statement\n",
    "#### Use the exec function to assign a SQL table to the variable\n",
    "#### Within the table, iterate through the columns\n",
    "#### In each column, calculate the percentage of not nulls and append that to the tallies df\n",
    "#### Remove all records from the tallies df for index, Country Name, Country Code, or variable indicators (not actual indicators)\n",
    "#### Export to CSV"
   ]
  },
  {
   "cell_type": "code",
   "execution_count": 8,
   "metadata": {},
   "outputs": [
    {
     "name": "stdout",
     "output_type": "stream",
     "text": [
      "2022-04-19 16:42:11,306 INFO sqlalchemy.engine.base.Engine select version()\n",
      "2022-04-19 16:42:11,307 INFO sqlalchemy.engine.base.Engine {}\n",
      "2022-04-19 16:42:11,308 INFO sqlalchemy.engine.base.Engine select current_schema()\n",
      "2022-04-19 16:42:11,309 INFO sqlalchemy.engine.base.Engine {}\n",
      "2022-04-19 16:42:11,310 INFO sqlalchemy.engine.base.Engine SELECT CAST('test plain returns' AS VARCHAR(60)) AS anon_1\n",
      "2022-04-19 16:42:11,311 INFO sqlalchemy.engine.base.Engine {}\n",
      "2022-04-19 16:42:11,312 INFO sqlalchemy.engine.base.Engine SELECT CAST('test unicode returns' AS VARCHAR(60)) AS anon_1\n",
      "2022-04-19 16:42:11,313 INFO sqlalchemy.engine.base.Engine {}\n",
      "2022-04-19 16:42:11,314 INFO sqlalchemy.engine.base.Engine show standard_conforming_strings\n",
      "2022-04-19 16:42:11,315 INFO sqlalchemy.engine.base.Engine {}\n",
      "2022-04-19 16:42:11,316 INFO sqlalchemy.engine.base.Engine select relname from pg_class c join pg_namespace n on n.oid=c.relnamespace where pg_catalog.pg_table_is_visible(c.oid) and relname=%(name)s\n",
      "2022-04-19 16:42:11,316 INFO sqlalchemy.engine.base.Engine {'name': 'Select * from WB_SPI;'}\n",
      "2022-04-19 16:42:11,319 INFO sqlalchemy.engine.base.OptionEngine Select * from WB_SPI;\n",
      "2022-04-19 16:42:11,319 INFO sqlalchemy.engine.base.OptionEngine {}\n",
      "2022-04-19 16:42:11,629 INFO sqlalchemy.engine.base.Engine select relname from pg_class c join pg_namespace n on n.oid=c.relnamespace where pg_catalog.pg_table_is_visible(c.oid) and relname=%(name)s\n",
      "2022-04-19 16:42:11,629 INFO sqlalchemy.engine.base.Engine {'name': 'Select * from WB_Gender;'}\n",
      "2022-04-19 16:42:11,633 INFO sqlalchemy.engine.base.OptionEngine Select * from WB_Gender;\n",
      "2022-04-19 16:42:11,633 INFO sqlalchemy.engine.base.OptionEngine {}\n",
      "2022-04-19 16:42:20,402 INFO sqlalchemy.engine.base.Engine select relname from pg_class c join pg_namespace n on n.oid=c.relnamespace where pg_catalog.pg_table_is_visible(c.oid) and relname=%(name)s\n",
      "2022-04-19 16:42:20,403 INFO sqlalchemy.engine.base.Engine {'name': 'Select * from WB_HNP;'}\n",
      "2022-04-19 16:42:20,406 INFO sqlalchemy.engine.base.OptionEngine Select * from WB_HNP;\n",
      "2022-04-19 16:42:20,407 INFO sqlalchemy.engine.base.OptionEngine {}\n",
      "2022-04-19 16:42:22,924 INFO sqlalchemy.engine.base.Engine select relname from pg_class c join pg_namespace n on n.oid=c.relnamespace where pg_catalog.pg_table_is_visible(c.oid) and relname=%(name)s\n",
      "2022-04-19 16:42:22,925 INFO sqlalchemy.engine.base.Engine {'name': 'Select * from WB_Pop;'}\n",
      "2022-04-19 16:42:22,928 INFO sqlalchemy.engine.base.OptionEngine Select * from WB_Pop;\n",
      "2022-04-19 16:42:22,929 INFO sqlalchemy.engine.base.OptionEngine {}\n",
      "2022-04-19 16:42:28,435 INFO sqlalchemy.engine.base.Engine select relname from pg_class c join pg_namespace n on n.oid=c.relnamespace where pg_catalog.pg_table_is_visible(c.oid) and relname=%(name)s\n",
      "2022-04-19 16:42:28,437 INFO sqlalchemy.engine.base.Engine {'name': 'Select * from WB_WDI;'}\n",
      "2022-04-19 16:42:28,440 INFO sqlalchemy.engine.base.OptionEngine Select * from WB_WDI;\n",
      "2022-04-19 16:42:28,441 INFO sqlalchemy.engine.base.OptionEngine {}\n"
     ]
    }
   ],
   "source": [
    "tallies=pd.DataFrame(columns=['Table', 'Indicator', 'PCT'])\n",
    "tables=[\"WB_SPI\", \"WB_Gender\", \"WB_HNP\", \"WB_Pop\", \"WB_WDI\"]\n",
    "for v in tables:\n",
    "    tab=str(v)\n",
    "    sql='Select * from {};'\n",
    "    exec(\"v=pd.read_sql(sql.format(v), engine)\")\n",
    "    for x in v.columns:\n",
    "        tallies=tallies.append(pd.DataFrame([[tab, x, len(v[-pd.isnull(v[x])])/len(v)]], columns=['Table', 'Indicator', 'PCT']))\n",
    "tallies=tallies[(tallies['Indicator']!='index') & (tallies['Indicator']!='Country Name') & (tallies['Indicator']!='Country Code') & (tallies['Indicator']!='variable')]\n",
    "tallies.to_csv(\"WB_results.csv\", sep=\",\", index=False)\n"
   ]
  },
  {
   "cell_type": "markdown",
   "metadata": {},
   "source": [
    "#### Reading it back in to verify and check shape"
   ]
  },
  {
   "cell_type": "code",
   "execution_count": 9,
   "metadata": {},
   "outputs": [
    {
     "name": "stdout",
     "output_type": "stream",
     "text": [
      "(2189, 3)\n"
     ]
    },
    {
     "data": {
      "text/plain": [
       "(2189, 3)"
      ]
     },
     "execution_count": 9,
     "metadata": {},
     "output_type": "execute_result"
    }
   ],
   "source": [
    "pcts=pd.read_csv('WB_results.csv')\n",
    "print(pcts.shape)\n",
    "pcts.drop_duplicates(subset='Indicator').shape"
   ]
  },
  {
   "cell_type": "markdown",
   "metadata": {},
   "source": [
    "## Part 3: Combine the two tables we made"
   ]
  },
  {
   "cell_type": "code",
   "execution_count": 10,
   "metadata": {},
   "outputs": [],
   "source": [
    "merged=check.merge(pcts, left_on='Indicator Code', right_on='Indicator', how='inner')"
   ]
  },
  {
   "cell_type": "code",
   "execution_count": 11,
   "metadata": {},
   "outputs": [
    {
     "data": {
      "text/html": [
       "<div>\n",
       "<style scoped>\n",
       "    .dataframe tbody tr th:only-of-type {\n",
       "        vertical-align: middle;\n",
       "    }\n",
       "\n",
       "    .dataframe tbody tr th {\n",
       "        vertical-align: top;\n",
       "    }\n",
       "\n",
       "    .dataframe thead th {\n",
       "        text-align: right;\n",
       "    }\n",
       "</style>\n",
       "<table border=\"1\" class=\"dataframe\">\n",
       "  <thead>\n",
       "    <tr style=\"text-align: right;\">\n",
       "      <th></th>\n",
       "      <th>Indicator Code</th>\n",
       "      <th>Indicator Name</th>\n",
       "      <th>Table</th>\n",
       "      <th>Indicator</th>\n",
       "      <th>PCT</th>\n",
       "    </tr>\n",
       "  </thead>\n",
       "  <tbody>\n",
       "    <tr>\n",
       "      <th>0</th>\n",
       "      <td>SPID412AGRI</td>\n",
       "      <td>Agriculture census (Availability score over 20...</td>\n",
       "      <td>WB_SPI</td>\n",
       "      <td>SPID412AGRI</td>\n",
       "      <td>0.247984</td>\n",
       "    </tr>\n",
       "    <tr>\n",
       "      <th>1</th>\n",
       "      <td>SPID415AGSVY</td>\n",
       "      <td>Agriculture survey (Availability score over 10...</td>\n",
       "      <td>WB_SPI</td>\n",
       "      <td>SPID415AGSVY</td>\n",
       "      <td>0.875576</td>\n",
       "    </tr>\n",
       "    <tr>\n",
       "      <th>2</th>\n",
       "      <td>SPID15POV</td>\n",
       "      <td>Availability of Comparable Poverty headcount r...</td>\n",
       "      <td>WB_SPI</td>\n",
       "      <td>SPID15POV</td>\n",
       "      <td>1.000000</td>\n",
       "    </tr>\n",
       "    <tr>\n",
       "      <th>3</th>\n",
       "      <td>SPID15CHLDMORT</td>\n",
       "      <td>Availability of Mortality rate, under-5 (per 1...</td>\n",
       "      <td>WB_SPI</td>\n",
       "      <td>SPID15CHLDMORT</td>\n",
       "      <td>1.000000</td>\n",
       "    </tr>\n",
       "    <tr>\n",
       "      <th>4</th>\n",
       "      <td>SPID5210GSBP</td>\n",
       "      <td>Business process</td>\n",
       "      <td>WB_SPI</td>\n",
       "      <td>SPID5210GSBP</td>\n",
       "      <td>0.339862</td>\n",
       "    </tr>\n",
       "  </tbody>\n",
       "</table>\n",
       "</div>"
      ],
      "text/plain": [
       "   Indicator Code                                     Indicator Name   Table  \\\n",
       "0     SPID412AGRI  Agriculture census (Availability score over 20...  WB_SPI   \n",
       "1    SPID415AGSVY  Agriculture survey (Availability score over 10...  WB_SPI   \n",
       "2       SPID15POV  Availability of Comparable Poverty headcount r...  WB_SPI   \n",
       "3  SPID15CHLDMORT  Availability of Mortality rate, under-5 (per 1...  WB_SPI   \n",
       "4    SPID5210GSBP                                   Business process  WB_SPI   \n",
       "\n",
       "        Indicator       PCT  \n",
       "0     SPID412AGRI  0.247984  \n",
       "1    SPID415AGSVY  0.875576  \n",
       "2       SPID15POV  1.000000  \n",
       "3  SPID15CHLDMORT  1.000000  \n",
       "4    SPID5210GSBP  0.339862  "
      ]
     },
     "execution_count": 11,
     "metadata": {},
     "output_type": "execute_result"
    }
   ],
   "source": [
    "merged.head()"
   ]
  },
  {
   "cell_type": "code",
   "execution_count": 12,
   "metadata": {},
   "outputs": [],
   "source": [
    "merged.to_csv(\"merged_dict.csv\")"
   ]
  },
  {
   "cell_type": "code",
   "execution_count": 13,
   "metadata": {},
   "outputs": [
    {
     "name": "stdout",
     "output_type": "stream",
     "text": [
      "Agriculture survey (Availability score over 10 years)\n",
      "Availability of Comparable Poverty headcount ratio at $1.90 a day (5 year moving average)\n",
      "Availability of Mortality rate, under-5 (per 1,000 live births) data meeting quality standards according to UN IGME  (5 year moving average)\n",
      "Business/establishment census (Availability score over 20 years)\n",
      "Business/establishment survey (Availability score over 10 years)\n",
      "Dimension 1.5: Data use by international organizations\n",
      "Dimension 3.1: Social Statistics\n",
      "Dimension 3.2: Economic Statistics\n",
      "Dimension 3.3: Environmental Statistics\n",
      "Dimension 3.4: Institutional Statistics\n",
      "Dimension 4.1: Censuses and Surveys - Surveys only\n",
      "GOAL 1: No Poverty (5 year moving average)\n",
      "GOAL 10: Reduced Inequality (5 year moving average)\n",
      "GOAL 11: Sustainable Cities and Communities (5 year moving average)\n",
      "GOAL 12: Responsible Consumption and Production (5 year moving average)\n",
      "GOAL 13: Climate Action (5 year moving average)\n",
      "GOAL 15: Life on Land (5 year moving average)\n",
      "GOAL 16: Peace and Justice Strong Institutions (5 year moving average)\n",
      "GOAL 17: Partnerships to achieve the Goal (5 year moving average)\n",
      "GOAL 2: Zero Hunger (5 year moving average)\n",
      "GOAL 3: Good Health and Well-being (5 year moving average)\n",
      "GOAL 4: Quality Education (5 year moving average)\n",
      "GOAL 5: Gender Equality (5 year moving average)\n",
      "GOAL 6: Clean Water and Sanitation (5 year moving average)\n",
      "GOAL 7: Affordable and Clean Energy (5 year moving average)\n",
      "GOAL 8: Decent Work and Economic Growth (5 year moving average)\n",
      "GOAL 9: Industry, Innovation and Infrastructure (5 year moving average)\n",
      "Health/Demographic survey (Availability score over 10 years)\n",
      "Household Survey on income, etc  (Availability score over 10 years)\n",
      "Labor force participation rate by sex and age (%)\n",
      "Labor Force Survey (Availability score over 10 years)\n",
      "Pillar 1 - Data Use - Score\n",
      "Pillar 3 - Data Products - Score\n",
      "Quality of Debt service data according to World Bank\n",
      "Safely Managed Drinking Water\n",
      "Age dependency ratio (% of working-age population)\n",
      "Age dependency ratio, old\n",
      "Age dependency ratio, young\n",
      "Age population, age 00, female, interpolated\n",
      "Age population, age 00, male, interpolated\n",
      "Age population, age 01, female, interpolated\n",
      "Age population, age 01, male, interpolated\n",
      "Age population, age 02, female, interpolated\n",
      "Age population, age 02, male, interpolated\n",
      "Age population, age 03, female, interpolated\n",
      "Age population, age 03, male, interpolated\n",
      "Age population, age 04, female, interpolated\n",
      "Age population, age 04, male, interpolated\n",
      "Age population, age 05, female, interpolated\n",
      "Age population, age 05, male, interpolated\n",
      "Age population, age 06, female, interpolated\n",
      "Age population, age 06, male, interpolated\n",
      "Age population, age 07, female, interpolated\n",
      "Age population, age 07, male, interpolated\n",
      "Age population, age 08, female, interpolated\n",
      "Age population, age 08, male, interpolated\n",
      "Age population, age 09, female, interpolated\n",
      "Age population, age 09, male, interpolated\n",
      "Age population, age 10, female, interpolated\n",
      "Age population, age 10, male, interpolated\n",
      "Age population, age 11, female, interpolated\n",
      "Age population, age 11, male, interpolated\n",
      "Age population, age 12, female, interpolated\n",
      "Age population, age 12, male, interpolated\n",
      "Age population, age 13, female, interpolated\n",
      "Age population, age 13, male, interpolated\n",
      "Age population, age 14, female, interpolated\n",
      "Age population, age 14, male, interpolated\n",
      "Age population, age 15, female, interpolated\n",
      "Age population, age 15, male, interpolated\n",
      "Age population, age 16, female, interpolated\n",
      "Age population, age 16, male, interpolated\n",
      "Age population, age 17, female, interpolated\n",
      "Age population, age 17, male, interpolated\n",
      "Age population, age 18, female, interpolated\n",
      "Age population, age 18, male, interpolated\n",
      "Age population, age 19, female, interpolated\n",
      "Age population, age 19, male, interpolated\n",
      "Age population, age 20, female, interpolated\n",
      "Age population, age 20, male, interpolated\n",
      "Age population, age 21, female, interpolated\n",
      "Age population, age 21, male, interpolated\n",
      "Age population, age 22, female, interpolated\n",
      "Age population, age 22, male, interpolated\n",
      "Age population, age 23, female, interpolated\n",
      "Age population, age 23, male, interpolated\n",
      "Age population, age 24, female, interpolated\n",
      "Age population, age 24, male, interpolated\n",
      "Age population, age 25, female, interpolated\n",
      "Age population, age 25, male, interpolated\n",
      "Population ages 00-04, female\n",
      "Population ages 00-04, female (% of female population)\n",
      "Population ages 00-04, male\n",
      "Population ages 00-04, male (% of male population)\n",
      "Population ages 0-14 (% of total population)\n",
      "Population ages 0-14, female\n",
      "Population ages 0-14, female (% of female population)\n",
      "Population ages 0-14, male\n",
      "Population ages 0-14, male (% of male population)\n",
      "Population ages 0-14, total\n",
      "Population ages 05-09, female\n",
      "Population ages 05-09, female (% of female population)\n",
      "Population ages 05-09, male\n",
      "Population ages 05-09, male (% of male population)\n",
      "Population ages 10-14, female\n",
      "Population ages 10-14, female (% of female population)\n",
      "Population ages 10-14, male\n",
      "Population ages 10-14, male (% of male population)\n",
      "Population ages 15-19, female\n",
      "Population ages 15-19, female (% of female population)\n",
      "Population ages 15-19, male\n",
      "Population ages 15-19, male (% of male population)\n",
      "Population ages 15-64 (% of total population)\n",
      "Population ages 15-64, female\n",
      "Population ages 15-64, female (% of female population)\n",
      "Population ages 15-64, male\n",
      "Population ages 15-64, male (% of male population)\n",
      "Population ages 15-64, total\n",
      "Population ages 20-24, female\n",
      "Population ages 20-24, female (% of female population)\n",
      "Population ages 20-24, male\n",
      "Population ages 20-24, male (% of male population)\n",
      "Population ages 25-29, female\n",
      "Population ages 25-29, female (% of female population)\n",
      "Population ages 25-29, male\n",
      "Population ages 25-29, male (% of male population)\n",
      "Population ages 30-34, female\n",
      "Population ages 30-34, female (% of female population)\n",
      "Population ages 30-34, male\n",
      "Population ages 30-34, male (% of male population)\n",
      "Population ages 35-39, female\n",
      "Population ages 35-39, female (% of female population)\n",
      "Population ages 35-39, male\n",
      "Population ages 35-39, male (% of male population)\n",
      "Population ages 40-44, female\n",
      "Population ages 40-44, female (% of female population)\n",
      "Population ages 40-44, male\n",
      "Population ages 40-44, male (% of male population)\n",
      "Population ages 45-49, female\n",
      "Population ages 45-49, female (% of female population)\n",
      "Population ages 45-49, male\n",
      "Population ages 45-49, male (% of male population)\n",
      "Population ages 50-54, female\n",
      "Population ages 50-54, female (% of female population)\n",
      "Population ages 50-54, male\n",
      "Population ages 50-54, male (% of male population)\n",
      "Population ages 55-59, female\n",
      "Population ages 55-59, female (% of female population)\n",
      "Population ages 55-59, male\n",
      "Population ages 55-59, male (% of male population)\n",
      "Population ages 60-64, female\n",
      "Population ages 60-64, female (% of female population)\n",
      "Population ages 60-64, male\n",
      "Population ages 60-64, male (% of male population)\n",
      "Population ages 65 and above (% of total population)\n",
      "Population ages 65 and above, female\n",
      "Population ages 65 and above, female (% of female population)\n",
      "Population ages 65 and above, male\n",
      "Population ages 65 and above, male (% of male population)\n",
      "Population ages 65 and above, total\n",
      "Population ages 65-69, female\n",
      "Population ages 65-69, female (% of female population)\n",
      "Population ages 65-69, male\n",
      "Population ages 65-69, male (% of male population)\n",
      "Population ages 70-74, female\n",
      "Population ages 70-74, female (% of female population)\n",
      "Population ages 70-74, male\n",
      "Population ages 70-74, male (% of male population)\n",
      "Population ages 75-79, female\n",
      "Population ages 75-79, female (% of female population)\n",
      "Population ages 75-79, male\n",
      "Population ages 75-79, male (% of male population)\n",
      "Population ages 80 and above, female\n",
      "Population ages 80 and above, male\n",
      "Population ages 80 and above, male (% of male population)\n",
      "Population ages 80 and older, female (% of female population)\n",
      "Population growth (annual %)\n",
      "Population, female\n",
      "Population, female (% of total population)\n",
      "Population, male\n",
      "Population, male (% of total population)\n",
      "Population, total\n",
      "Rural population\n",
      "Rural population (% of total population)\n",
      "Urban population\n",
      "Urban population (% of total population)\n",
      "Urban population growth (annual %)\n",
      "Adolescent fertility rate (births per 1,000 women ages 15-19)\n",
      "GDP (current US$)\n",
      "GDP growth (annual %)\n",
      "GDP per capita (constant 2010 US$)\n",
      "GDP per capita (Current US$)\n",
      "Survival to age 65, female (% of cohort)\n",
      "Survival to age 65, male (% of cohort)\n",
      "Adjusted savings: education expenditure (% of GNI)\n",
      "Agricultural land (% of land area)\n",
      "Agricultural land (sq. km)\n",
      "Agricultural methane emissions (thousand metric tons of CO2 equivalent)\n",
      "Agricultural nitrous oxide emissions (thousand metric tons of CO2 equivalent)\n",
      "Aquaculture production (metric tons)\n",
      "Arable land (% of land area)\n",
      "Arable land (hectares per person)\n",
      "Capture fisheries production (metric tons)\n",
      "Cereal production (metric tons)\n",
      "Cereal yield (kg per hectare)\n",
      "CO2 emissions (kt)\n",
      "CO2 emissions (metric tons per capita)\n",
      "CO2 emissions from gaseous fuel consumption (% of total)\n",
      "CO2 emissions from gaseous fuel consumption (kt)\n",
      "CO2 emissions from liquid fuel consumption (% of total)\n",
      "CO2 emissions from liquid fuel consumption (kt)\n",
      "CO2 emissions from solid fuel consumption (% of total)\n",
      "CO2 emissions from solid fuel consumption (kt)\n",
      "Crop production index (2014-2016 = 100)\n",
      "Fixed telephone subscriptions\n",
      "Fixed telephone subscriptions (per 100 people)\n",
      "Food production index (2014-2016 = 100)\n",
      "GDP (constant 2015 US$)\n",
      "GDP per capita growth (annual %)\n",
      "GNI (current US$)\n",
      "Inflation, GDP deflator (annual %)\n",
      "Land area (sq. km)\n",
      "Land under cereal production (hectares)\n",
      "Livestock production index (2014-2016 = 100)\n",
      "Merchandise exports (current US$)\n",
      "Merchandise exports by the reporting economy (current US$)\n",
      "Merchandise exports by the reporting economy, residual (% of total merchandise exports)\n",
      "Merchandise exports to economies in the Arab World (% of total merchandise exports)\n",
      "Merchandise exports to high-income economies (% of total merchandise exports)\n",
      "Merchandise exports to low- and middle-income economies in East Asia & Pacific (% of total merchandise exports)\n",
      "Merchandise exports to low- and middle-income economies in Sub-Saharan Africa (% of total merchandise exports)\n",
      "Merchandise exports to low- and middle-income economies outside region (% of total merchandise exports)\n",
      "Merchandise imports (current US$)\n",
      "Merchandise imports by the reporting economy (current US$)\n",
      "Merchandise imports by the reporting economy, residual (% of total merchandise imports)\n",
      "Merchandise imports from economies in the Arab World (% of total merchandise imports)\n",
      "Merchandise imports from high-income economies (% of total merchandise imports)\n",
      "Merchandise imports from low- and middle-income economies in East Asia & Pacific (% of total merchandise imports)\n",
      "Merchandise imports from low- and middle-income economies in Latin America & the Caribbean (% of total merchandise imports)\n",
      "Merchandise imports from low- and middle-income economies in Middle East & North Africa (% of total merchandise imports)\n",
      "Merchandise imports from low- and middle-income economies in South Asia (% of total merchandise imports)\n",
      "Merchandise imports from low- and middle-income economies in Sub-Saharan Africa (% of total merchandise imports)\n",
      "Merchandise imports from low- and middle-income economies outside region (% of total merchandise imports)\n",
      "Merchandise trade (% of GDP)\n",
      "Methane emissions (kt of CO2 equivalent)\n",
      "Methane emissions in energy sector (thousand metric tons of CO2 equivalent)\n",
      "Mobile cellular subscriptions\n",
      "Mobile cellular subscriptions (per 100 people)\n",
      "Nitrous oxide emissions (thousand metric tons of CO2 equivalent)\n",
      "Nitrous oxide emissions in energy sector (thousand metric tons of CO2 equivalent)\n",
      "Permanent cropland (% of land area)\n",
      "Population density (people per sq. km of land area)\n",
      "Population in the largest city (% of urban population)\n",
      "Primary education, duration (years)\n",
      "Secondary education, duration (years)\n",
      "Surface area (sq. km)\n",
      "Total fisheries production (metric tons)\n",
      "Total greenhouse gas emissions (kt of CO2 equivalent)\n"
     ]
    }
   ],
   "source": [
    "for x in merged[merged['PCT']>.7]['Indicator Name']:\n",
    "    print(x)"
   ]
  },
  {
   "cell_type": "code",
   "execution_count": 14,
   "metadata": {},
   "outputs": [
    {
     "data": {
      "text/html": [
       "<div>\n",
       "<style scoped>\n",
       "    .dataframe tbody tr th:only-of-type {\n",
       "        vertical-align: middle;\n",
       "    }\n",
       "\n",
       "    .dataframe tbody tr th {\n",
       "        vertical-align: top;\n",
       "    }\n",
       "\n",
       "    .dataframe thead th {\n",
       "        text-align: right;\n",
       "    }\n",
       "</style>\n",
       "<table border=\"1\" class=\"dataframe\">\n",
       "  <thead>\n",
       "    <tr style=\"text-align: right;\">\n",
       "      <th></th>\n",
       "      <th>Indicator Code</th>\n",
       "      <th>Indicator Name</th>\n",
       "      <th>Table</th>\n",
       "      <th>Indicator</th>\n",
       "      <th>PCT</th>\n",
       "    </tr>\n",
       "  </thead>\n",
       "  <tbody>\n",
       "    <tr>\n",
       "      <th>2090</th>\n",
       "      <td>AGSRFTOTLK2</td>\n",
       "      <td>Surface area (sq. km)</td>\n",
       "      <td>WB_WDI</td>\n",
       "      <td>AGSRFTOTLK2</td>\n",
       "      <td>0.934736</td>\n",
       "    </tr>\n",
       "  </tbody>\n",
       "</table>\n",
       "</div>"
      ],
      "text/plain": [
       "     Indicator Code         Indicator Name   Table    Indicator       PCT\n",
       "2090    AGSRFTOTLK2  Surface area (sq. km)  WB_WDI  AGSRFTOTLK2  0.934736"
      ]
     },
     "execution_count": 14,
     "metadata": {},
     "output_type": "execute_result"
    }
   ],
   "source": [
    "merged[merged['Indicator Name']=='Surface area (sq. km)']"
   ]
  },
  {
   "cell_type": "markdown",
   "metadata": {},
   "source": [
    "## This concludes our milestone 1 work. Here is a link to milestone 2:\n",
    "\n",
    "https://europa.dsa.missouri.edu/user/bmgwd9/notebooks/sp22Capstone_01_Group03/CapstoneOrganization/M2/M2.ipynb"
   ]
  }
 ],
 "metadata": {
  "kernelspec": {
   "display_name": "Python 3",
   "language": "python",
   "name": "python3"
  },
  "language_info": {
   "codemirror_mode": {
    "name": "ipython",
    "version": 3
   },
   "file_extension": ".py",
   "mimetype": "text/x-python",
   "name": "python",
   "nbconvert_exporter": "python",
   "pygments_lexer": "ipython3",
   "version": "3.7.3"
  }
 },
 "nbformat": 4,
 "nbformat_minor": 2
}
